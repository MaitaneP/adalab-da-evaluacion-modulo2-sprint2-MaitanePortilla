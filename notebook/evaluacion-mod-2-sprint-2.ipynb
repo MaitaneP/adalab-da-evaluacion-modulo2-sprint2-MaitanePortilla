{
 "cells": [
  {
   "attachments": {},
   "cell_type": "markdown",
   "metadata": {},
   "source": [
    "# Evaluación I Módulo 2 (sprint 2)\n",
    "---"
   ]
  },
  {
   "cell_type": "code",
   "execution_count": 41,
   "metadata": {},
   "outputs": [],
   "source": [
    "import pandas as pd\n",
    "import numpy as np\n",
    "import requests\n",
    "import biblioteca as bb\n",
    "from geopy.geocoders import Nominatim\n",
    "import mysql.connector"
   ]
  },
  {
   "attachments": {},
   "cell_type": "markdown",
   "metadata": {},
   "source": [
    "En esta evaluación nos enfrentamos a un desafío emocionante de trabajar en un proyecto real para una empresa que realiza un estudio de universidades por el mundo. El proyecto tiene como objetivo identificar todas las universidades ubicadas en tres países específicos: Estados Unidos, Canadá y Argentina.  \n",
    "\n",
    "Para llevar a cabo esta tarea, utilizaremos la API de \"Universities Hipolabs\", una fuente confiable y completa de información sobre las universidades en todo el mundo. Con la ayuda de esta API, podemos acceder a una gran cantidad de datos relevantes, incluyendo el nombre de la universidad, la ciudad donde esta ubicada, el nombre de la institución y otra información importante que nos permitirá llevar a cabo un análisis detallado.  \n",
    "\n",
    "Es importante tener en cuenta que este proyecto requerirá un conocimiento profundo de herramientas y técnicas de análisis de datos, así como habilidades en programación y manejo de APIs. También es importante tener una comprensión sólida de la estructura y organización de los datos, ya que esto nos permitirá hacer preguntas importantes y obtener respuestas significativas a partir de los datos.  \n",
    "\n",
    "En resumen, esta prueba técnica ofrece una excelente oportunidad para demostrar habilidades y conocimientos en análisis de datos y programación, mientras se trabaja en un proyecto real y relevante para una empresa. Al finalizar del proyecto, esperamos obtener información valiosa que ayudará a la empresa a tomar decisiones más informadas sobre las universidades en los tres países objetivo.  \n",
    "\n",
    "1. Utilizando la API extraed toda la información que podáis de ella. La url para hacer las llamadas es:\n",
    "    ```python\n",
    "    API_URL = \"http://universities.hipolabs.com/search?country=NOMBREPAIS\"\n",
    "    ```"
   ]
  },
  {
   "cell_type": "code",
   "execution_count": 2,
   "metadata": {},
   "outputs": [],
   "source": [
    "# los paises que nos interesan son:\n",
    "paises = ['Argentina', 'Canada', 'United States']"
   ]
  },
  {
   "cell_type": "code",
   "execution_count": 3,
   "metadata": {},
   "outputs": [],
   "source": [
    "# como vamos a tener que realizar la misma operación varias veces creamos una función para extraer la información:\n",
    "def extraccion(pais):\n",
    "    \"\"\"Esta función realiza la extracción de los datos de la API de \"Universities Hipolabs\". Realiza la extracción de los \n",
    "    datos mostranndo tanto el código de estado como la razón del mismo.     \n",
    "    Parámetros:\n",
    "        - pais (str): país del que queremos extraer los datos\n",
    "    Return: lista de diccionarios con los datos (formato .json).\n",
    "    \"\"\"\n",
    "    url = f'http://universities.hipolabs.com/search?country={pais.lower()}'\n",
    "    resp = requests.get(url=url)\n",
    "    print(f'Status code extracción {pais}: {resp.status_code}')\n",
    "    print(f'Reason extracción {pais}: {resp.reason}')\n",
    "    return resp.json()"
   ]
  },
  {
   "cell_type": "code",
   "execution_count": 4,
   "metadata": {},
   "outputs": [
    {
     "name": "stdout",
     "output_type": "stream",
     "text": [
      "Status code extracción Argentina: 200\n",
      "Reason extracción Argentina: OK\n",
      "Nº de elementos de la lista resultado: 87\n",
      "Las keys de cada diccionario son 6: dict_keys(['state-province', 'domains', 'name', 'country', 'web_pages', 'alpha_two_code'])\n",
      "Printeamos los dos primeros resultados descargados de la API a modo de ejemplo:\n"
     ]
    },
    {
     "data": {
      "text/plain": [
       "[{'state-province': 'Buenos Aires',\n",
       "  'domains': ['atlantida.edu.ar'],\n",
       "  'name': 'Universidad Atlantida Argentina',\n",
       "  'country': 'Argentina',\n",
       "  'web_pages': ['http://www.atlantida.edu.ar/'],\n",
       "  'alpha_two_code': 'AR'},\n",
       " {'state-province': 'Buenos Aires',\n",
       "  'domains': ['austral.edu.ar'],\n",
       "  'name': 'Universidad Austral Buenos Aires',\n",
       "  'country': 'Argentina',\n",
       "  'web_pages': ['http://www.austral.edu.ar/'],\n",
       "  'alpha_two_code': 'AR'}]"
      ]
     },
     "execution_count": 4,
     "metadata": {},
     "output_type": "execute_result"
    }
   ],
   "source": [
    "# obtenemos los datos de Argentina a modo de ejemplo para explorar los resultados que tendremos para cada país\n",
    "argentina = extraccion(paises[0])\n",
    "# el resultado obtenido es una lista de diccionarios\n",
    "print(f'Nº de elementos de la lista resultado: {len(argentina)}') # obtenemos el número de elementos\n",
    "print(f'Las keys de cada diccionario son {len(argentina[0])}: {argentina[0].keys()}')\n",
    "print('Printeamos los dos primeros resultados descargados de la API a modo de ejemplo:')\n",
    "argentina[0:2] # printeamos una muestra"
   ]
  },
  {
   "cell_type": "code",
   "execution_count": 5,
   "metadata": {},
   "outputs": [
    {
     "data": {
      "text/plain": [
       "['Argentina', 'Canada', 'United States']"
      ]
     },
     "execution_count": 5,
     "metadata": {},
     "output_type": "execute_result"
    }
   ],
   "source": [
    "# recordamos que teníamos la siguiente variable con los paises a analizar:\n",
    "paises"
   ]
  },
  {
   "cell_type": "code",
   "execution_count": 6,
   "metadata": {},
   "outputs": [
    {
     "name": "stdout",
     "output_type": "stream",
     "text": [
      "Status code extracción Argentina: 200\n",
      "Reason extracción Argentina: OK\n",
      "Nº de elementos de la lista resultado de Argentina: 87\n",
      "Las keys de cada diccionario de Argentina son 6: dict_keys(['state-province', 'domains', 'name', 'country', 'web_pages', 'alpha_two_code'])\n",
      "Añadimos al dataframe resultado las 0 filas y 0 columnas de Argentina\n",
      "----------------------------------------\n",
      "Status code extracción Canada: 200\n",
      "Reason extracción Canada: OK\n",
      "Nº de elementos de la lista resultado de Canada: 154\n",
      "Las keys de cada diccionario de Canada son 6: dict_keys(['state-province', 'domains', 'name', 'country', 'web_pages', 'alpha_two_code'])\n",
      "Añadimos al dataframe resultado las 87 filas y 6 columnas de Canada\n",
      "----------------------------------------\n",
      "Status code extracción United States: 200\n",
      "Reason extracción United States: OK\n",
      "Nº de elementos de la lista resultado de United States: 2281\n",
      "Las keys de cada diccionario de United States son 6: dict_keys(['state-province', 'domains', 'name', 'country', 'web_pages', 'alpha_two_code'])\n",
      "Añadimos al dataframe resultado las 241 filas y 6 columnas de United States\n",
      "----------------------------------------\n"
     ]
    }
   ],
   "source": [
    "# En este caso son solo tres paises pero por si fueran más podríamos automatizar la obtención de los datos, una vez conocida su estructura de la siguiente manera:\n",
    "df = pd.DataFrame()\n",
    "for pais in paises:\n",
    "    datos = extraccion(pais)\n",
    "    print(f'Nº de elementos de la lista resultado de {pais}: {len(datos)}') # obtenemos el número de elementos\n",
    "    print(f'Las keys de cada diccionario de {pais} son {len(argentina[0])}: {argentina[0].keys()}')\n",
    "    df_pais = pd.DataFrame(datos)\n",
    "    print(f'Añadimos al dataframe resultado las {df.shape[0]} filas y {df.shape[1]} columnas de {pais}')\n",
    "    df = pd.concat([df, df_pais], axis=0, ignore_index=True) # concatenamos los dataframes, ignorando el índice\n",
    "    print('----------------------------------------')"
   ]
  },
  {
   "cell_type": "code",
   "execution_count": 7,
   "metadata": {},
   "outputs": [
    {
     "name": "stdout",
     "output_type": "stream",
     "text": [
      "EXPLORACIÓN DEL DATAFRAME ARGENTINA-CANADA-USA\n",
      "---------------------------------------------------------------------------\n",
      "Las primeras 5 filas del dataframe Argentina-Canada-USA son:\n"
     ]
    },
    {
     "data": {
      "text/html": [
       "<div>\n",
       "<style scoped>\n",
       "    .dataframe tbody tr th:only-of-type {\n",
       "        vertical-align: middle;\n",
       "    }\n",
       "\n",
       "    .dataframe tbody tr th {\n",
       "        vertical-align: top;\n",
       "    }\n",
       "\n",
       "    .dataframe thead th {\n",
       "        text-align: right;\n",
       "    }\n",
       "</style>\n",
       "<table border=\"1\" class=\"dataframe\">\n",
       "  <thead>\n",
       "    <tr style=\"text-align: right;\">\n",
       "      <th></th>\n",
       "      <th>state-province</th>\n",
       "      <th>domains</th>\n",
       "      <th>name</th>\n",
       "      <th>country</th>\n",
       "      <th>web_pages</th>\n",
       "      <th>alpha_two_code</th>\n",
       "    </tr>\n",
       "  </thead>\n",
       "  <tbody>\n",
       "    <tr>\n",
       "      <th>0</th>\n",
       "      <td>Buenos Aires</td>\n",
       "      <td>[atlantida.edu.ar]</td>\n",
       "      <td>Universidad Atlantida Argentina</td>\n",
       "      <td>Argentina</td>\n",
       "      <td>[http://www.atlantida.edu.ar/]</td>\n",
       "      <td>AR</td>\n",
       "    </tr>\n",
       "    <tr>\n",
       "      <th>1</th>\n",
       "      <td>Buenos Aires</td>\n",
       "      <td>[austral.edu.ar]</td>\n",
       "      <td>Universidad Austral Buenos Aires</td>\n",
       "      <td>Argentina</td>\n",
       "      <td>[http://www.austral.edu.ar/]</td>\n",
       "      <td>AR</td>\n",
       "    </tr>\n",
       "    <tr>\n",
       "      <th>2</th>\n",
       "      <td>Ciudad Autónoma de Buenos Aires</td>\n",
       "      <td>[caece.edu.ar]</td>\n",
       "      <td>Universidad CAECE, Buenos Aires</td>\n",
       "      <td>Argentina</td>\n",
       "      <td>[http://www.caece.edu.ar/]</td>\n",
       "      <td>AR</td>\n",
       "    </tr>\n",
       "    <tr>\n",
       "      <th>3</th>\n",
       "      <td>Ciudad Autónoma de Buenos Aires</td>\n",
       "      <td>[cema.edu.ar]</td>\n",
       "      <td>Instituto Universitario CEMA</td>\n",
       "      <td>Argentina</td>\n",
       "      <td>[http://www.cema.edu.ar/]</td>\n",
       "      <td>AR</td>\n",
       "    </tr>\n",
       "    <tr>\n",
       "      <th>4</th>\n",
       "      <td>Ciudad Autónoma de Buenos Aires</td>\n",
       "      <td>[iese.edu.ar]</td>\n",
       "      <td>Instituto de Enseñanza Superior del Ejército</td>\n",
       "      <td>Argentina</td>\n",
       "      <td>[http://www.iese.edu.ar/]</td>\n",
       "      <td>AR</td>\n",
       "    </tr>\n",
       "  </tbody>\n",
       "</table>\n",
       "</div>"
      ],
      "text/plain": [
       "                    state-province             domains  \\\n",
       "0                     Buenos Aires  [atlantida.edu.ar]   \n",
       "1                     Buenos Aires    [austral.edu.ar]   \n",
       "2  Ciudad Autónoma de Buenos Aires      [caece.edu.ar]   \n",
       "3  Ciudad Autónoma de Buenos Aires       [cema.edu.ar]   \n",
       "4  Ciudad Autónoma de Buenos Aires       [iese.edu.ar]   \n",
       "\n",
       "                                           name    country  \\\n",
       "0               Universidad Atlantida Argentina  Argentina   \n",
       "1              Universidad Austral Buenos Aires  Argentina   \n",
       "2               Universidad CAECE, Buenos Aires  Argentina   \n",
       "3                  Instituto Universitario CEMA  Argentina   \n",
       "4  Instituto de Enseñanza Superior del Ejército  Argentina   \n",
       "\n",
       "                        web_pages alpha_two_code  \n",
       "0  [http://www.atlantida.edu.ar/]             AR  \n",
       "1    [http://www.austral.edu.ar/]             AR  \n",
       "2      [http://www.caece.edu.ar/]             AR  \n",
       "3       [http://www.cema.edu.ar/]             AR  \n",
       "4       [http://www.iese.edu.ar/]             AR  "
      ]
     },
     "metadata": {},
     "output_type": "display_data"
    },
    {
     "name": "stdout",
     "output_type": "stream",
     "text": [
      "---------------------------------------------------------------------------\n",
      "Las últimas 5 filas del dataframe Argentina-Canada-USA son:\n"
     ]
    },
    {
     "data": {
      "text/html": [
       "<div>\n",
       "<style scoped>\n",
       "    .dataframe tbody tr th:only-of-type {\n",
       "        vertical-align: middle;\n",
       "    }\n",
       "\n",
       "    .dataframe tbody tr th {\n",
       "        vertical-align: top;\n",
       "    }\n",
       "\n",
       "    .dataframe thead th {\n",
       "        text-align: right;\n",
       "    }\n",
       "</style>\n",
       "<table border=\"1\" class=\"dataframe\">\n",
       "  <thead>\n",
       "    <tr style=\"text-align: right;\">\n",
       "      <th></th>\n",
       "      <th>state-province</th>\n",
       "      <th>domains</th>\n",
       "      <th>name</th>\n",
       "      <th>country</th>\n",
       "      <th>web_pages</th>\n",
       "      <th>alpha_two_code</th>\n",
       "    </tr>\n",
       "  </thead>\n",
       "  <tbody>\n",
       "    <tr>\n",
       "      <th>2517</th>\n",
       "      <td>None</td>\n",
       "      <td>[vul.edu]</td>\n",
       "      <td>Virginia University of Lynchburg</td>\n",
       "      <td>United States</td>\n",
       "      <td>[https://www.vul.edu/]</td>\n",
       "      <td>US</td>\n",
       "    </tr>\n",
       "    <tr>\n",
       "      <th>2518</th>\n",
       "      <td>None</td>\n",
       "      <td>[voorhees.edu]</td>\n",
       "      <td>Voorhees University</td>\n",
       "      <td>United States</td>\n",
       "      <td>[https://www.voorhees.edu/]</td>\n",
       "      <td>US</td>\n",
       "    </tr>\n",
       "    <tr>\n",
       "      <th>2519</th>\n",
       "      <td>None</td>\n",
       "      <td>[wvstate.edu]</td>\n",
       "      <td>West Virginia State University</td>\n",
       "      <td>United States</td>\n",
       "      <td>[https://www.wvstateu.edu/]</td>\n",
       "      <td>US</td>\n",
       "    </tr>\n",
       "    <tr>\n",
       "      <th>2520</th>\n",
       "      <td>None</td>\n",
       "      <td>[wileyc.edu]</td>\n",
       "      <td>Wiley College</td>\n",
       "      <td>United States</td>\n",
       "      <td>[https://www.wileyc.edu/]</td>\n",
       "      <td>US</td>\n",
       "    </tr>\n",
       "    <tr>\n",
       "      <th>2521</th>\n",
       "      <td>None</td>\n",
       "      <td>[wssu.edu]</td>\n",
       "      <td>Winston-Salem State University</td>\n",
       "      <td>United States</td>\n",
       "      <td>[https://www.wssu.edu/]</td>\n",
       "      <td>US</td>\n",
       "    </tr>\n",
       "  </tbody>\n",
       "</table>\n",
       "</div>"
      ],
      "text/plain": [
       "     state-province         domains                              name  \\\n",
       "2517           None       [vul.edu]  Virginia University of Lynchburg   \n",
       "2518           None  [voorhees.edu]               Voorhees University   \n",
       "2519           None   [wvstate.edu]    West Virginia State University   \n",
       "2520           None    [wileyc.edu]                     Wiley College   \n",
       "2521           None      [wssu.edu]    Winston-Salem State University   \n",
       "\n",
       "            country                    web_pages alpha_two_code  \n",
       "2517  United States       [https://www.vul.edu/]             US  \n",
       "2518  United States  [https://www.voorhees.edu/]             US  \n",
       "2519  United States  [https://www.wvstateu.edu/]             US  \n",
       "2520  United States    [https://www.wileyc.edu/]             US  \n",
       "2521  United States      [https://www.wssu.edu/]             US  "
      ]
     },
     "metadata": {},
     "output_type": "display_data"
    },
    {
     "name": "stdout",
     "output_type": "stream",
     "text": [
      "---------------------------------------------------------------------------\n",
      "A comntinuación se muestran 10 filas aleatorias del dataframe Argentina-Canada-USA:\n"
     ]
    },
    {
     "data": {
      "text/html": [
       "<div>\n",
       "<style scoped>\n",
       "    .dataframe tbody tr th:only-of-type {\n",
       "        vertical-align: middle;\n",
       "    }\n",
       "\n",
       "    .dataframe tbody tr th {\n",
       "        vertical-align: top;\n",
       "    }\n",
       "\n",
       "    .dataframe thead th {\n",
       "        text-align: right;\n",
       "    }\n",
       "</style>\n",
       "<table border=\"1\" class=\"dataframe\">\n",
       "  <thead>\n",
       "    <tr style=\"text-align: right;\">\n",
       "      <th></th>\n",
       "      <th>state-province</th>\n",
       "      <th>domains</th>\n",
       "      <th>name</th>\n",
       "      <th>country</th>\n",
       "      <th>web_pages</th>\n",
       "      <th>alpha_two_code</th>\n",
       "    </tr>\n",
       "  </thead>\n",
       "  <tbody>\n",
       "    <tr>\n",
       "      <th>2298</th>\n",
       "      <td>None</td>\n",
       "      <td>[alamo.edu]</td>\n",
       "      <td>Northwest Vista College</td>\n",
       "      <td>United States</td>\n",
       "      <td>[http://www.alamo.edu/nvc/]</td>\n",
       "      <td>US</td>\n",
       "    </tr>\n",
       "    <tr>\n",
       "      <th>1608</th>\n",
       "      <td>None</td>\n",
       "      <td>[laney.edu]</td>\n",
       "      <td>Laney College</td>\n",
       "      <td>United States</td>\n",
       "      <td>[http://www.laney.edu/wp/]</td>\n",
       "      <td>US</td>\n",
       "    </tr>\n",
       "    <tr>\n",
       "      <th>1724</th>\n",
       "      <td>None</td>\n",
       "      <td>[laniertech.edu]</td>\n",
       "      <td>Lanier Technical College</td>\n",
       "      <td>United States</td>\n",
       "      <td>[http://www.laniertech.edu]</td>\n",
       "      <td>US</td>\n",
       "    </tr>\n",
       "    <tr>\n",
       "      <th>1282</th>\n",
       "      <td>None</td>\n",
       "      <td>[mrs.umn.edu]</td>\n",
       "      <td>University of Minnesota - Morris</td>\n",
       "      <td>United States</td>\n",
       "      <td>[http://www.mrs.umn.edu/]</td>\n",
       "      <td>US</td>\n",
       "    </tr>\n",
       "    <tr>\n",
       "      <th>58</th>\n",
       "      <td>Buenos Aires</td>\n",
       "      <td>[unla.edu.ar]</td>\n",
       "      <td>Universidad Nacional de Lanus</td>\n",
       "      <td>Argentina</td>\n",
       "      <td>[http://www.unla.edu.ar/]</td>\n",
       "      <td>AR</td>\n",
       "    </tr>\n",
       "    <tr>\n",
       "      <th>539</th>\n",
       "      <td>None</td>\n",
       "      <td>[ceu.edu]</td>\n",
       "      <td>College of Eastern Utah</td>\n",
       "      <td>United States</td>\n",
       "      <td>[http://www.ceu.edu/]</td>\n",
       "      <td>US</td>\n",
       "    </tr>\n",
       "    <tr>\n",
       "      <th>818</th>\n",
       "      <td>Pennsylvania</td>\n",
       "      <td>[mansfield.edu]</td>\n",
       "      <td>Mansfield University of Pennsylvania</td>\n",
       "      <td>United States</td>\n",
       "      <td>[http://www.mansfield.edu/]</td>\n",
       "      <td>US</td>\n",
       "    </tr>\n",
       "    <tr>\n",
       "      <th>1279</th>\n",
       "      <td>None</td>\n",
       "      <td>[umn.edu]</td>\n",
       "      <td>University of Minnesota</td>\n",
       "      <td>United States</td>\n",
       "      <td>[http://www.umn.edu/]</td>\n",
       "      <td>US</td>\n",
       "    </tr>\n",
       "    <tr>\n",
       "      <th>2451</th>\n",
       "      <td>None</td>\n",
       "      <td>[una.edu]</td>\n",
       "      <td>University of North Alabama</td>\n",
       "      <td>United States</td>\n",
       "      <td>[https://www.una.edu/]</td>\n",
       "      <td>US</td>\n",
       "    </tr>\n",
       "    <tr>\n",
       "      <th>745</th>\n",
       "      <td>None</td>\n",
       "      <td>[jsu.edu]</td>\n",
       "      <td>Jacksonville State University</td>\n",
       "      <td>United States</td>\n",
       "      <td>[http://www.jsu.edu/]</td>\n",
       "      <td>US</td>\n",
       "    </tr>\n",
       "  </tbody>\n",
       "</table>\n",
       "</div>"
      ],
      "text/plain": [
       "     state-province           domains                                  name  \\\n",
       "2298           None       [alamo.edu]               Northwest Vista College   \n",
       "1608           None       [laney.edu]                         Laney College   \n",
       "1724           None  [laniertech.edu]              Lanier Technical College   \n",
       "1282           None     [mrs.umn.edu]      University of Minnesota - Morris   \n",
       "58     Buenos Aires     [unla.edu.ar]         Universidad Nacional de Lanus   \n",
       "539            None         [ceu.edu]               College of Eastern Utah   \n",
       "818    Pennsylvania   [mansfield.edu]  Mansfield University of Pennsylvania   \n",
       "1279           None         [umn.edu]               University of Minnesota   \n",
       "2451           None         [una.edu]           University of North Alabama   \n",
       "745            None         [jsu.edu]         Jacksonville State University   \n",
       "\n",
       "            country                    web_pages alpha_two_code  \n",
       "2298  United States  [http://www.alamo.edu/nvc/]             US  \n",
       "1608  United States   [http://www.laney.edu/wp/]             US  \n",
       "1724  United States  [http://www.laniertech.edu]             US  \n",
       "1282  United States    [http://www.mrs.umn.edu/]             US  \n",
       "58        Argentina    [http://www.unla.edu.ar/]             AR  \n",
       "539   United States        [http://www.ceu.edu/]             US  \n",
       "818   United States  [http://www.mansfield.edu/]             US  \n",
       "1279  United States        [http://www.umn.edu/]             US  \n",
       "2451  United States       [https://www.una.edu/]             US  \n",
       "745   United States        [http://www.jsu.edu/]             US  "
      ]
     },
     "metadata": {},
     "output_type": "display_data"
    },
    {
     "name": "stdout",
     "output_type": "stream",
     "text": [
      "---------------------------------------------------------------------------\n",
      "El dataframe Argentina-Canada-USA tiene 2522 filas y 6 columnas\n",
      "---------------------------------------------------------------------------\n",
      "A continuación el resultado del método .info() incluyendo los tipos de dato de cada columna:\n",
      "<class 'pandas.core.frame.DataFrame'>\n",
      "RangeIndex: 2522 entries, 0 to 2521\n",
      "Data columns (total 6 columns):\n",
      " #   Column          Non-Null Count  Dtype \n",
      "---  ------          --------------  ----- \n",
      " 0   state-province  273 non-null    object\n",
      " 1   domains         2522 non-null   object\n",
      " 2   name            2522 non-null   object\n",
      " 3   country         2522 non-null   object\n",
      " 4   web_pages       2522 non-null   object\n",
      " 5   alpha_two_code  2522 non-null   object\n",
      "dtypes: object(6)\n",
      "memory usage: 118.3+ KB\n",
      "---------------------------------------------------------------------------\n",
      "El número de nulos por columna en valor absoluto y porcentaje es:\n",
      "state-province: nº de nulos: 2249. % de nulos: 89.18 %\n",
      "domains: nº de nulos: 0. % de nulos: 0.0 %\n",
      "name: nº de nulos: 0. % de nulos: 0.0 %\n",
      "country: nº de nulos: 0. % de nulos: 0.0 %\n",
      "web_pages: nº de nulos: 0. % de nulos: 0.0 %\n",
      "alpha_two_code: nº de nulos: 0. % de nulos: 0.0 %\n",
      "---------------------------------------------------------------------------\n",
      "Ha ocurrido un error. No se ha podido comprobar si el dataframe Argentina-Canada-USA tiene filas duplicdas\n",
      "---------------------------------------------------------------------------\n",
      "Los principales estadísticos de las columnas numéricas son:\n"
     ]
    },
    {
     "data": {
      "text/html": [
       "<div>\n",
       "<style scoped>\n",
       "    .dataframe tbody tr th:only-of-type {\n",
       "        vertical-align: middle;\n",
       "    }\n",
       "\n",
       "    .dataframe tbody tr th {\n",
       "        vertical-align: top;\n",
       "    }\n",
       "\n",
       "    .dataframe thead th {\n",
       "        text-align: right;\n",
       "    }\n",
       "</style>\n",
       "<table border=\"1\" class=\"dataframe\">\n",
       "  <thead>\n",
       "    <tr style=\"text-align: right;\">\n",
       "      <th></th>\n",
       "      <th>count</th>\n",
       "      <th>unique</th>\n",
       "      <th>top</th>\n",
       "      <th>freq</th>\n",
       "    </tr>\n",
       "  </thead>\n",
       "  <tbody>\n",
       "    <tr>\n",
       "      <th>state-province</th>\n",
       "      <td>273</td>\n",
       "      <td>49</td>\n",
       "      <td>Ontario</td>\n",
       "      <td>46</td>\n",
       "    </tr>\n",
       "    <tr>\n",
       "      <th>domains</th>\n",
       "      <td>2522</td>\n",
       "      <td>2491</td>\n",
       "      <td>[ccc.edu]</td>\n",
       "      <td>7</td>\n",
       "    </tr>\n",
       "    <tr>\n",
       "      <th>name</th>\n",
       "      <td>2522</td>\n",
       "      <td>2507</td>\n",
       "      <td>Southeastern Community College</td>\n",
       "      <td>2</td>\n",
       "    </tr>\n",
       "    <tr>\n",
       "      <th>country</th>\n",
       "      <td>2522</td>\n",
       "      <td>3</td>\n",
       "      <td>United States</td>\n",
       "      <td>2281</td>\n",
       "    </tr>\n",
       "    <tr>\n",
       "      <th>web_pages</th>\n",
       "      <td>2522</td>\n",
       "      <td>2519</td>\n",
       "      <td>[http://www.coastalpines.edu/]</td>\n",
       "      <td>2</td>\n",
       "    </tr>\n",
       "    <tr>\n",
       "      <th>alpha_two_code</th>\n",
       "      <td>2522</td>\n",
       "      <td>3</td>\n",
       "      <td>US</td>\n",
       "      <td>2281</td>\n",
       "    </tr>\n",
       "  </tbody>\n",
       "</table>\n",
       "</div>"
      ],
      "text/plain": [
       "               count unique                             top  freq\n",
       "state-province   273     49                         Ontario    46\n",
       "domains         2522   2491                       [ccc.edu]     7\n",
       "name            2522   2507  Southeastern Community College     2\n",
       "country         2522      3                   United States  2281\n",
       "web_pages       2522   2519  [http://www.coastalpines.edu/]     2\n",
       "alpha_two_code  2522      3                              US  2281"
      ]
     },
     "metadata": {},
     "output_type": "display_data"
    },
    {
     "name": "stdout",
     "output_type": "stream",
     "text": [
      "---------------------------------------------------------------------------\n",
      "Los principales estadísticos de las columnas categóricas son:\n"
     ]
    },
    {
     "data": {
      "text/html": [
       "<div>\n",
       "<style scoped>\n",
       "    .dataframe tbody tr th:only-of-type {\n",
       "        vertical-align: middle;\n",
       "    }\n",
       "\n",
       "    .dataframe tbody tr th {\n",
       "        vertical-align: top;\n",
       "    }\n",
       "\n",
       "    .dataframe thead th {\n",
       "        text-align: right;\n",
       "    }\n",
       "</style>\n",
       "<table border=\"1\" class=\"dataframe\">\n",
       "  <thead>\n",
       "    <tr style=\"text-align: right;\">\n",
       "      <th></th>\n",
       "      <th>count</th>\n",
       "      <th>unique</th>\n",
       "      <th>top</th>\n",
       "      <th>freq</th>\n",
       "    </tr>\n",
       "  </thead>\n",
       "  <tbody>\n",
       "    <tr>\n",
       "      <th>state-province</th>\n",
       "      <td>273</td>\n",
       "      <td>49</td>\n",
       "      <td>Ontario</td>\n",
       "      <td>46</td>\n",
       "    </tr>\n",
       "    <tr>\n",
       "      <th>domains</th>\n",
       "      <td>2522</td>\n",
       "      <td>2491</td>\n",
       "      <td>[ccc.edu]</td>\n",
       "      <td>7</td>\n",
       "    </tr>\n",
       "    <tr>\n",
       "      <th>name</th>\n",
       "      <td>2522</td>\n",
       "      <td>2507</td>\n",
       "      <td>Southeastern Community College</td>\n",
       "      <td>2</td>\n",
       "    </tr>\n",
       "    <tr>\n",
       "      <th>country</th>\n",
       "      <td>2522</td>\n",
       "      <td>3</td>\n",
       "      <td>United States</td>\n",
       "      <td>2281</td>\n",
       "    </tr>\n",
       "    <tr>\n",
       "      <th>web_pages</th>\n",
       "      <td>2522</td>\n",
       "      <td>2519</td>\n",
       "      <td>[http://www.coastalpines.edu/]</td>\n",
       "      <td>2</td>\n",
       "    </tr>\n",
       "    <tr>\n",
       "      <th>alpha_two_code</th>\n",
       "      <td>2522</td>\n",
       "      <td>3</td>\n",
       "      <td>US</td>\n",
       "      <td>2281</td>\n",
       "    </tr>\n",
       "  </tbody>\n",
       "</table>\n",
       "</div>"
      ],
      "text/plain": [
       "               count unique                             top  freq\n",
       "state-province   273     49                         Ontario    46\n",
       "domains         2522   2491                       [ccc.edu]     7\n",
       "name            2522   2507  Southeastern Community College     2\n",
       "country         2522      3                   United States  2281\n",
       "web_pages       2522   2519  [http://www.coastalpines.edu/]     2\n",
       "alpha_two_code  2522      3                              US  2281"
      ]
     },
     "metadata": {},
     "output_type": "display_data"
    },
    {
     "name": "stdout",
     "output_type": "stream",
     "text": [
      "---------------------------------------------------------------------------\n",
      "El dataframe Argentina-Canada-USA tiene las siguientes columnas: \n",
      "Index(['state-province', 'domains', 'name', 'country', 'web_pages',\n",
      "       'alpha_two_code'],\n",
      "      dtype='object')\n",
      "---------------------------------------------------------------------------\n",
      "El numero de valores distintos de cada columna es:\n",
      "state-province: 49\n",
      "domains: 2491\n",
      "name: 2507\n",
      "country: 3\n",
      "Los valores únicos de la columna 'country' son: ['Argentina' 'Canada' 'United States']\n",
      "web_pages: 2519\n",
      "alpha_two_code: 3\n",
      "Los valores únicos de la columna 'alpha_two_code' son: ['AR' 'CA' 'US']\n"
     ]
    }
   ],
   "source": [
    "# Antes de continuar realizamos una pequeña exploración del dataframe con la siguiente función\n",
    "bb.explorar_df(df, nombre = 'Argentina-Canada-USA')"
   ]
  },
  {
   "attachments": {},
   "cell_type": "markdown",
   "metadata": {},
   "source": [
    "2. Una vez tengáis todos los datos de la API, deberéis realizar una serie de procesos de limpieza, estos incluyen:  \n",
    "    - Cambiad los nombres de las columnas para homogeneizarlas, tenemos columnas que tienen - y otras _. Unifícalo para que todo vaya con _.   \n",
    "    - La columna de domains nos da una información similar a la de web_pages. Eliminad la columna domains.  "
   ]
  },
  {
   "cell_type": "code",
   "execution_count": 8,
   "metadata": {},
   "outputs": [
    {
     "data": {
      "text/plain": [
       "RangeIndex(start=0, stop=2522, step=1)"
      ]
     },
     "execution_count": 8,
     "metadata": {},
     "output_type": "execute_result"
    }
   ],
   "source": [
    "# comprobamos que el índice es continuo\n",
    "df.index"
   ]
  },
  {
   "cell_type": "code",
   "execution_count": 9,
   "metadata": {},
   "outputs": [
    {
     "data": {
      "text/html": [
       "<div>\n",
       "<style scoped>\n",
       "    .dataframe tbody tr th:only-of-type {\n",
       "        vertical-align: middle;\n",
       "    }\n",
       "\n",
       "    .dataframe tbody tr th {\n",
       "        vertical-align: top;\n",
       "    }\n",
       "\n",
       "    .dataframe thead th {\n",
       "        text-align: right;\n",
       "    }\n",
       "</style>\n",
       "<table border=\"1\" class=\"dataframe\">\n",
       "  <thead>\n",
       "    <tr style=\"text-align: right;\">\n",
       "      <th></th>\n",
       "      <th>state-province</th>\n",
       "      <th>domains</th>\n",
       "      <th>name</th>\n",
       "      <th>country</th>\n",
       "      <th>web_pages</th>\n",
       "      <th>alpha_two_code</th>\n",
       "    </tr>\n",
       "  </thead>\n",
       "  <tbody>\n",
       "    <tr>\n",
       "      <th>1550</th>\n",
       "      <td>None</td>\n",
       "      <td>[southark.edu]</td>\n",
       "      <td>South Arkansas Community College</td>\n",
       "      <td>United States</td>\n",
       "      <td>[http://www.southark.edu]</td>\n",
       "      <td>US</td>\n",
       "    </tr>\n",
       "  </tbody>\n",
       "</table>\n",
       "</div>"
      ],
      "text/plain": [
       "     state-province         domains                              name  \\\n",
       "1550           None  [southark.edu]  South Arkansas Community College   \n",
       "\n",
       "            country                  web_pages alpha_two_code  \n",
       "1550  United States  [http://www.southark.edu]             US  "
      ]
     },
     "execution_count": 9,
     "metadata": {},
     "output_type": "execute_result"
    }
   ],
   "source": [
    "# antes de continuar realizamos una copia del dataframe original para realizar la limpieza sobre él\n",
    "df2 = df.copy()\n",
    "df2.sample()"
   ]
  },
  {
   "cell_type": "code",
   "execution_count": 10,
   "metadata": {},
   "outputs": [
    {
     "data": {
      "text/html": [
       "<div>\n",
       "<style scoped>\n",
       "    .dataframe tbody tr th:only-of-type {\n",
       "        vertical-align: middle;\n",
       "    }\n",
       "\n",
       "    .dataframe tbody tr th {\n",
       "        vertical-align: top;\n",
       "    }\n",
       "\n",
       "    .dataframe thead th {\n",
       "        text-align: right;\n",
       "    }\n",
       "</style>\n",
       "<table border=\"1\" class=\"dataframe\">\n",
       "  <thead>\n",
       "    <tr style=\"text-align: right;\">\n",
       "      <th></th>\n",
       "      <th>country</th>\n",
       "      <th>state_province</th>\n",
       "      <th>web_pages</th>\n",
       "      <th>name</th>\n",
       "      <th>domains</th>\n",
       "      <th>alpha_two_code</th>\n",
       "    </tr>\n",
       "  </thead>\n",
       "  <tbody>\n",
       "    <tr>\n",
       "      <th>1506</th>\n",
       "      <td>United States</td>\n",
       "      <td>None</td>\n",
       "      <td>[http://www.lbwcc.edu]</td>\n",
       "      <td>Lurleen B Wallace Community College</td>\n",
       "      <td>[lbwcc.edu]</td>\n",
       "      <td>US</td>\n",
       "    </tr>\n",
       "  </tbody>\n",
       "</table>\n",
       "</div>"
      ],
      "text/plain": [
       "            country state_province               web_pages  \\\n",
       "1506  United States           None  [http://www.lbwcc.edu]   \n",
       "\n",
       "                                     name      domains alpha_two_code  \n",
       "1506  Lurleen B Wallace Community College  [lbwcc.edu]             US  "
      ]
     },
     "execution_count": 10,
     "metadata": {},
     "output_type": "execute_result"
    }
   ],
   "source": [
    "# ralizamos la homogeneización de columnas. Además de reemplazar los '-' por '_' utilizamos un .strip() por si hubiera algún espacio al inicio o el final que no vieramos\n",
    "col_new = {col : col.strip().replace('-', '_') for col in df.columns} \n",
    "df2 = df2.rename(columns = col_new)\n",
    "df2 = df2.reindex(columns=['country', 'state_province', 'web_pages', 'name', 'domains', 'alpha_two_code']) # ordenamos las columnas \n",
    "df2.sample()"
   ]
  },
  {
   "cell_type": "code",
   "execution_count": 11,
   "metadata": {},
   "outputs": [
    {
     "data": {
      "text/html": [
       "<div>\n",
       "<style scoped>\n",
       "    .dataframe tbody tr th:only-of-type {\n",
       "        vertical-align: middle;\n",
       "    }\n",
       "\n",
       "    .dataframe tbody tr th {\n",
       "        vertical-align: top;\n",
       "    }\n",
       "\n",
       "    .dataframe thead th {\n",
       "        text-align: right;\n",
       "    }\n",
       "</style>\n",
       "<table border=\"1\" class=\"dataframe\">\n",
       "  <thead>\n",
       "    <tr style=\"text-align: right;\">\n",
       "      <th></th>\n",
       "      <th>country</th>\n",
       "      <th>state_province</th>\n",
       "      <th>web_pages</th>\n",
       "      <th>name</th>\n",
       "      <th>alpha_two_code</th>\n",
       "    </tr>\n",
       "  </thead>\n",
       "  <tbody>\n",
       "    <tr>\n",
       "      <th>1156</th>\n",
       "      <td>United States</td>\n",
       "      <td>None</td>\n",
       "      <td>[http://www.tcu.edu/]</td>\n",
       "      <td>Texas Christian University</td>\n",
       "      <td>US</td>\n",
       "    </tr>\n",
       "  </tbody>\n",
       "</table>\n",
       "</div>"
      ],
      "text/plain": [
       "            country state_province              web_pages  \\\n",
       "1156  United States           None  [http://www.tcu.edu/]   \n",
       "\n",
       "                            name alpha_two_code  \n",
       "1156  Texas Christian University             US  "
      ]
     },
     "execution_count": 11,
     "metadata": {},
     "output_type": "execute_result"
    }
   ],
   "source": [
    "# eliminamos la columna con información suplicada\n",
    "df2.drop(columns='domains', inplace=True)\n",
    "df2.sample()"
   ]
  },
  {
   "cell_type": "markdown",
   "metadata": {},
   "source": [
    "3. Si exploramos la columna de web_pages, nos daremos cuenta que hay universidades, como por ejemplo la Universidad de \"Cégep de Saint-Jérôme\" de Canadá que en su columna de web_pages tiene más de un valor dentro de la lista. Esto es poco práctico y puede llegar a no tener sentido. el objetivo de este ejericio es que usando el método explode de pandas separéis cada elemento de la lista en una fila nueva. [Aquí](https://pandas.pydata.org/docs/reference/api/pandas.DataFrame.explode.html) tenéis la documentación de este método."
   ]
  },
  {
   "cell_type": "code",
   "execution_count": 12,
   "metadata": {},
   "outputs": [
    {
     "name": "stdout",
     "output_type": "stream",
     "text": [
      "Cégep de Saint-Jérôme ----> ['https://www.cstj.qc.ca', 'https://ccmt.cstj.qc.ca', 'https://ccml.cstj.qc.ca']\n",
      "Langara College ----> ['http://www.langara.bc.ca/', 'https://langara.ca/']\n",
      "St. Mary's University ----> ['http://www.stmarys.ca/', 'https://smu.ca/']\n",
      "Augusta University ----> ['http://www.augusta.edu/', 'http://www.gru.edu/']\n",
      "California State University, Fresno ----> ['http://www.csufresno.edu/', 'http://www.fresnostate.edu/']\n",
      "Capella University ----> ['http://www.capella.edu/', 'http://www.capellauniversity.edu/']\n",
      "Colorado Technical University ----> ['http://www.coloradotech.edu/', 'http://www.ctuonline.edu/']\n",
      "Thomas Edison State University ----> ['http://www.tesc.edu/', 'http://www.tesu.edu/']\n",
      "United States Air Force Academy ----> ['http://www.usafa.af.mil/', 'http://www.usafa.edu/']\n",
      "University of Texas Southwestern Medical Center ----> ['http://www.swmed.edu/', 'http://www.utsouthwestern.edu/']\n",
      "University of the Incarnate Word ----> ['http://www.uiw.edu/', 'http://www.uiwtx.edu/']\n",
      "University of the Pacific ----> ['http://www.uop.edu/', 'http://www.pacific.edu/']\n"
     ]
    }
   ],
   "source": [
    "# comprobamos lo que nos indica el enunciado\n",
    "for indice, row in df2.iterrows():\n",
    "    if len(row['web_pages']) > 1:\n",
    "        print(f'{row[\"name\"]} ----> {row[\"web_pages\"]}')\n"
   ]
  },
  {
   "cell_type": "code",
   "execution_count": 13,
   "metadata": {},
   "outputs": [
    {
     "name": "stdout",
     "output_type": "stream",
     "text": [
      "El nuevo dataframe tiene 2535 filas y 5 columnas\n"
     ]
    },
    {
     "data": {
      "text/html": [
       "<div>\n",
       "<style scoped>\n",
       "    .dataframe tbody tr th:only-of-type {\n",
       "        vertical-align: middle;\n",
       "    }\n",
       "\n",
       "    .dataframe tbody tr th {\n",
       "        vertical-align: top;\n",
       "    }\n",
       "\n",
       "    .dataframe thead th {\n",
       "        text-align: right;\n",
       "    }\n",
       "</style>\n",
       "<table border=\"1\" class=\"dataframe\">\n",
       "  <thead>\n",
       "    <tr style=\"text-align: right;\">\n",
       "      <th></th>\n",
       "      <th>country</th>\n",
       "      <th>state_province</th>\n",
       "      <th>web_pages</th>\n",
       "      <th>name</th>\n",
       "      <th>alpha_two_code</th>\n",
       "    </tr>\n",
       "  </thead>\n",
       "  <tbody>\n",
       "    <tr>\n",
       "      <th>1353</th>\n",
       "      <td>United States</td>\n",
       "      <td>None</td>\n",
       "      <td>http://www.utsa.edu/</td>\n",
       "      <td>University of Texas at San Antonio</td>\n",
       "      <td>US</td>\n",
       "    </tr>\n",
       "  </tbody>\n",
       "</table>\n",
       "</div>"
      ],
      "text/plain": [
       "            country state_province             web_pages  \\\n",
       "1353  United States           None  http://www.utsa.edu/   \n",
       "\n",
       "                                    name alpha_two_code  \n",
       "1353  University of Texas at San Antonio             US  "
      ]
     },
     "execution_count": 13,
     "metadata": {},
     "output_type": "execute_result"
    }
   ],
   "source": [
    "# separamos con el método .explode()\n",
    "df2 = df2.explode('web_pages')\n",
    "print(f'El nuevo dataframe tiene {df2.shape[0]} filas y {df2.shape[1]} columnas')\n",
    "df2.sample()"
   ]
  },
  {
   "cell_type": "code",
   "execution_count": 14,
   "metadata": {},
   "outputs": [
    {
     "data": {
      "text/plain": [
       "Int64Index([   0,    1,    2,    3,    4,    5,    6,    7,    8,    9,\n",
       "            ...\n",
       "            2512, 2513, 2514, 2515, 2516, 2517, 2518, 2519, 2520, 2521],\n",
       "           dtype='int64', length=2535)"
      ]
     },
     "execution_count": 14,
     "metadata": {},
     "output_type": "execute_result"
    }
   ],
   "source": [
    "# nos fijamos en que tenemos un index no continuo\n",
    "df2.index"
   ]
  },
  {
   "cell_type": "code",
   "execution_count": 15,
   "metadata": {},
   "outputs": [
    {
     "data": {
      "text/html": [
       "<div>\n",
       "<style scoped>\n",
       "    .dataframe tbody tr th:only-of-type {\n",
       "        vertical-align: middle;\n",
       "    }\n",
       "\n",
       "    .dataframe tbody tr th {\n",
       "        vertical-align: top;\n",
       "    }\n",
       "\n",
       "    .dataframe thead th {\n",
       "        text-align: right;\n",
       "    }\n",
       "</style>\n",
       "<table border=\"1\" class=\"dataframe\">\n",
       "  <thead>\n",
       "    <tr style=\"text-align: right;\">\n",
       "      <th></th>\n",
       "      <th>country</th>\n",
       "      <th>state_province</th>\n",
       "      <th>web_pages</th>\n",
       "      <th>name</th>\n",
       "      <th>alpha_two_code</th>\n",
       "    </tr>\n",
       "  </thead>\n",
       "  <tbody>\n",
       "    <tr>\n",
       "      <th>777</th>\n",
       "      <td>United States</td>\n",
       "      <td>None</td>\n",
       "      <td>http://www.kings.edu/</td>\n",
       "      <td>King's College</td>\n",
       "      <td>US</td>\n",
       "    </tr>\n",
       "  </tbody>\n",
       "</table>\n",
       "</div>"
      ],
      "text/plain": [
       "           country state_province              web_pages            name  \\\n",
       "777  United States           None  http://www.kings.edu/  King's College   \n",
       "\n",
       "    alpha_two_code  \n",
       "777             US  "
      ]
     },
     "execution_count": 15,
     "metadata": {},
     "output_type": "execute_result"
    }
   ],
   "source": [
    "# reseteamos el índice\n",
    "df2.reset_index(drop=True, inplace=True)\n",
    "df2.sample()"
   ]
  },
  {
   "cell_type": "code",
   "execution_count": 16,
   "metadata": {},
   "outputs": [
    {
     "data": {
      "text/plain": [
       "RangeIndex(start=0, stop=2535, step=1)"
      ]
     },
     "execution_count": 16,
     "metadata": {},
     "output_type": "execute_result"
    }
   ],
   "source": [
    "# ahora sí es contínuo\n",
    "df2.index"
   ]
  },
  {
   "attachments": {},
   "cell_type": "markdown",
   "metadata": {},
   "source": [
    "4. Una vez hayáis realizado el explode, chequead si tenéis duplicados basándonos unicamente en el nombre de la universidad, en caso de que si, eliminandlos."
   ]
  },
  {
   "cell_type": "code",
   "execution_count": 17,
   "metadata": {},
   "outputs": [
    {
     "name": "stdout",
     "output_type": "stream",
     "text": [
      "Si filtramos por la columna \"name\" tenemos 28 duplicados\n"
     ]
    }
   ],
   "source": [
    "# chequeamos que tenemos 28 duplicados si nos basamos en la columna 'name'\n",
    "print(f'Si filtramos por la columna \"name\" tenemos {df2[\"name\"].duplicated().sum()} duplicados')"
   ]
  },
  {
   "cell_type": "code",
   "execution_count": 18,
   "metadata": {},
   "outputs": [
    {
     "name": "stdout",
     "output_type": "stream",
     "text": [
      "El dataframe de los duplicados a eliminar tiene 28 filas y 5 columnas y se muestra a continuación:\n"
     ]
    },
    {
     "data": {
      "text/html": [
       "<div>\n",
       "<style scoped>\n",
       "    .dataframe tbody tr th:only-of-type {\n",
       "        vertical-align: middle;\n",
       "    }\n",
       "\n",
       "    .dataframe tbody tr th {\n",
       "        vertical-align: top;\n",
       "    }\n",
       "\n",
       "    .dataframe thead th {\n",
       "        text-align: right;\n",
       "    }\n",
       "</style>\n",
       "<table border=\"1\" class=\"dataframe\">\n",
       "  <thead>\n",
       "    <tr style=\"text-align: right;\">\n",
       "      <th></th>\n",
       "      <th>country</th>\n",
       "      <th>state_province</th>\n",
       "      <th>web_pages</th>\n",
       "      <th>name</th>\n",
       "      <th>alpha_two_code</th>\n",
       "    </tr>\n",
       "  </thead>\n",
       "  <tbody>\n",
       "    <tr>\n",
       "      <th>88</th>\n",
       "      <td>Canada</td>\n",
       "      <td>Quebec</td>\n",
       "      <td>https://ccmt.cstj.qc.ca</td>\n",
       "      <td>Cégep de Saint-Jérôme</td>\n",
       "      <td>CA</td>\n",
       "    </tr>\n",
       "    <tr>\n",
       "      <th>89</th>\n",
       "      <td>Canada</td>\n",
       "      <td>Quebec</td>\n",
       "      <td>https://ccml.cstj.qc.ca</td>\n",
       "      <td>Cégep de Saint-Jérôme</td>\n",
       "      <td>CA</td>\n",
       "    </tr>\n",
       "    <tr>\n",
       "      <th>138</th>\n",
       "      <td>Canada</td>\n",
       "      <td>British Columbia</td>\n",
       "      <td>https://langara.ca/</td>\n",
       "      <td>Langara College</td>\n",
       "      <td>CA</td>\n",
       "    </tr>\n",
       "    <tr>\n",
       "      <th>179</th>\n",
       "      <td>Canada</td>\n",
       "      <td>None</td>\n",
       "      <td>https://smu.ca/</td>\n",
       "      <td>St. Mary's University</td>\n",
       "      <td>CA</td>\n",
       "    </tr>\n",
       "    <tr>\n",
       "      <th>410</th>\n",
       "      <td>United States</td>\n",
       "      <td>None</td>\n",
       "      <td>http://www.gru.edu/</td>\n",
       "      <td>Augusta University</td>\n",
       "      <td>US</td>\n",
       "    </tr>\n",
       "    <tr>\n",
       "      <th>478</th>\n",
       "      <td>United States</td>\n",
       "      <td>None</td>\n",
       "      <td>http://www.fresnostate.edu/</td>\n",
       "      <td>California State University, Fresno</td>\n",
       "      <td>US</td>\n",
       "    </tr>\n",
       "    <tr>\n",
       "      <th>497</th>\n",
       "      <td>United States</td>\n",
       "      <td>None</td>\n",
       "      <td>http://www.capellauniversity.edu/</td>\n",
       "      <td>Capella University</td>\n",
       "      <td>US</td>\n",
       "    </tr>\n",
       "    <tr>\n",
       "      <th>563</th>\n",
       "      <td>United States</td>\n",
       "      <td>None</td>\n",
       "      <td>http://www.ctuonline.edu/</td>\n",
       "      <td>Colorado Technical University</td>\n",
       "      <td>US</td>\n",
       "    </tr>\n",
       "    <tr>\n",
       "      <th>601</th>\n",
       "      <td>United States</td>\n",
       "      <td>None</td>\n",
       "      <td>http://www.devry.edu/</td>\n",
       "      <td>DeVry Institute of Technology</td>\n",
       "      <td>US</td>\n",
       "    </tr>\n",
       "    <tr>\n",
       "      <th>777</th>\n",
       "      <td>United States</td>\n",
       "      <td>None</td>\n",
       "      <td>http://www.kings.edu/</td>\n",
       "      <td>King's College</td>\n",
       "      <td>US</td>\n",
       "    </tr>\n",
       "    <tr>\n",
       "      <th>816</th>\n",
       "      <td>United States</td>\n",
       "      <td>None</td>\n",
       "      <td>http://www.luther.edu/</td>\n",
       "      <td>Luther College</td>\n",
       "      <td>US</td>\n",
       "    </tr>\n",
       "    <tr>\n",
       "      <th>1174</th>\n",
       "      <td>United States</td>\n",
       "      <td>None</td>\n",
       "      <td>http://www.tesu.edu/</td>\n",
       "      <td>Thomas Edison State University</td>\n",
       "      <td>US</td>\n",
       "    </tr>\n",
       "    <tr>\n",
       "      <th>1196</th>\n",
       "      <td>United States</td>\n",
       "      <td>None</td>\n",
       "      <td>http://www.usafa.edu/</td>\n",
       "      <td>United States Air Force Academy</td>\n",
       "      <td>US</td>\n",
       "    </tr>\n",
       "    <tr>\n",
       "      <th>1368</th>\n",
       "      <td>United States</td>\n",
       "      <td>None</td>\n",
       "      <td>http://www.utsouthwestern.edu/</td>\n",
       "      <td>University of Texas Southwestern Medical Center</td>\n",
       "      <td>US</td>\n",
       "    </tr>\n",
       "    <tr>\n",
       "      <th>1372</th>\n",
       "      <td>United States</td>\n",
       "      <td>None</td>\n",
       "      <td>http://www.uiwtx.edu/</td>\n",
       "      <td>University of the Incarnate Word</td>\n",
       "      <td>US</td>\n",
       "    </tr>\n",
       "    <tr>\n",
       "      <th>1375</th>\n",
       "      <td>United States</td>\n",
       "      <td>None</td>\n",
       "      <td>http://www.pacific.edu/</td>\n",
       "      <td>University of the Pacific</td>\n",
       "      <td>US</td>\n",
       "    </tr>\n",
       "    <tr>\n",
       "      <th>1462</th>\n",
       "      <td>United States</td>\n",
       "      <td>None</td>\n",
       "      <td>http://www.westminster-mo.edu/</td>\n",
       "      <td>Westminster College</td>\n",
       "      <td>US</td>\n",
       "    </tr>\n",
       "    <tr>\n",
       "      <th>1507</th>\n",
       "      <td>United States</td>\n",
       "      <td>None</td>\n",
       "      <td>http://www.duke.edu</td>\n",
       "      <td>Duke University</td>\n",
       "      <td>US</td>\n",
       "    </tr>\n",
       "    <tr>\n",
       "      <th>1615</th>\n",
       "      <td>United States</td>\n",
       "      <td>None</td>\n",
       "      <td>http://www.glendale.edu</td>\n",
       "      <td>Glendale Community College</td>\n",
       "      <td>US</td>\n",
       "    </tr>\n",
       "    <tr>\n",
       "      <th>1769</th>\n",
       "      <td>United States</td>\n",
       "      <td>None</td>\n",
       "      <td>http://www.cod.edu</td>\n",
       "      <td>College of DuPage</td>\n",
       "      <td>US</td>\n",
       "    </tr>\n",
       "    <tr>\n",
       "      <th>1835</th>\n",
       "      <td>United States</td>\n",
       "      <td>None</td>\n",
       "      <td>http://www.highlandcc.edu</td>\n",
       "      <td>Highland Community College</td>\n",
       "      <td>US</td>\n",
       "    </tr>\n",
       "    <tr>\n",
       "      <th>1900</th>\n",
       "      <td>United States</td>\n",
       "      <td>None</td>\n",
       "      <td>http://www.middlesex.mass.edu</td>\n",
       "      <td>Middlesex Community College</td>\n",
       "      <td>US</td>\n",
       "    </tr>\n",
       "    <tr>\n",
       "      <th>1997</th>\n",
       "      <td>United States</td>\n",
       "      <td>None</td>\n",
       "      <td>http://www.trcc.edu</td>\n",
       "      <td>Three Rivers Community College</td>\n",
       "      <td>US</td>\n",
       "    </tr>\n",
       "    <tr>\n",
       "      <th>2021</th>\n",
       "      <td>United States</td>\n",
       "      <td>None</td>\n",
       "      <td>http://www.mccnh.edu</td>\n",
       "      <td>Manchester Community College</td>\n",
       "      <td>US</td>\n",
       "    </tr>\n",
       "    <tr>\n",
       "      <th>2150</th>\n",
       "      <td>United States</td>\n",
       "      <td>None</td>\n",
       "      <td>http://www.sccnc.edu</td>\n",
       "      <td>Southeastern Community College</td>\n",
       "      <td>US</td>\n",
       "    </tr>\n",
       "    <tr>\n",
       "      <th>2152</th>\n",
       "      <td>United States</td>\n",
       "      <td>None</td>\n",
       "      <td>http://www.southwesterncc.edu</td>\n",
       "      <td>Southwestern Community College</td>\n",
       "      <td>US</td>\n",
       "    </tr>\n",
       "    <tr>\n",
       "      <th>2338</th>\n",
       "      <td>United States</td>\n",
       "      <td>None</td>\n",
       "      <td>http://www.brcc.edu</td>\n",
       "      <td>Blue Ridge Community College</td>\n",
       "      <td>US</td>\n",
       "    </tr>\n",
       "    <tr>\n",
       "      <th>2419</th>\n",
       "      <td>United States</td>\n",
       "      <td>None</td>\n",
       "      <td>http://www.sheridan.edu</td>\n",
       "      <td>Sheridan College</td>\n",
       "      <td>US</td>\n",
       "    </tr>\n",
       "  </tbody>\n",
       "</table>\n",
       "</div>"
      ],
      "text/plain": [
       "            country    state_province                          web_pages  \\\n",
       "88           Canada            Quebec            https://ccmt.cstj.qc.ca   \n",
       "89           Canada            Quebec            https://ccml.cstj.qc.ca   \n",
       "138          Canada  British Columbia                https://langara.ca/   \n",
       "179          Canada              None                    https://smu.ca/   \n",
       "410   United States              None                http://www.gru.edu/   \n",
       "478   United States              None        http://www.fresnostate.edu/   \n",
       "497   United States              None  http://www.capellauniversity.edu/   \n",
       "563   United States              None          http://www.ctuonline.edu/   \n",
       "601   United States              None              http://www.devry.edu/   \n",
       "777   United States              None              http://www.kings.edu/   \n",
       "816   United States              None             http://www.luther.edu/   \n",
       "1174  United States              None               http://www.tesu.edu/   \n",
       "1196  United States              None              http://www.usafa.edu/   \n",
       "1368  United States              None     http://www.utsouthwestern.edu/   \n",
       "1372  United States              None              http://www.uiwtx.edu/   \n",
       "1375  United States              None            http://www.pacific.edu/   \n",
       "1462  United States              None     http://www.westminster-mo.edu/   \n",
       "1507  United States              None                http://www.duke.edu   \n",
       "1615  United States              None            http://www.glendale.edu   \n",
       "1769  United States              None                 http://www.cod.edu   \n",
       "1835  United States              None          http://www.highlandcc.edu   \n",
       "1900  United States              None      http://www.middlesex.mass.edu   \n",
       "1997  United States              None                http://www.trcc.edu   \n",
       "2021  United States              None               http://www.mccnh.edu   \n",
       "2150  United States              None               http://www.sccnc.edu   \n",
       "2152  United States              None      http://www.southwesterncc.edu   \n",
       "2338  United States              None                http://www.brcc.edu   \n",
       "2419  United States              None            http://www.sheridan.edu   \n",
       "\n",
       "                                                 name alpha_two_code  \n",
       "88                              Cégep de Saint-Jérôme             CA  \n",
       "89                              Cégep de Saint-Jérôme             CA  \n",
       "138                                   Langara College             CA  \n",
       "179                             St. Mary's University             CA  \n",
       "410                                Augusta University             US  \n",
       "478               California State University, Fresno             US  \n",
       "497                                Capella University             US  \n",
       "563                     Colorado Technical University             US  \n",
       "601                     DeVry Institute of Technology             US  \n",
       "777                                    King's College             US  \n",
       "816                                    Luther College             US  \n",
       "1174                   Thomas Edison State University             US  \n",
       "1196                  United States Air Force Academy             US  \n",
       "1368  University of Texas Southwestern Medical Center             US  \n",
       "1372                 University of the Incarnate Word             US  \n",
       "1375                        University of the Pacific             US  \n",
       "1462                              Westminster College             US  \n",
       "1507                                  Duke University             US  \n",
       "1615                       Glendale Community College             US  \n",
       "1769                                College of DuPage             US  \n",
       "1835                       Highland Community College             US  \n",
       "1900                      Middlesex Community College             US  \n",
       "1997                   Three Rivers Community College             US  \n",
       "2021                     Manchester Community College             US  \n",
       "2150                   Southeastern Community College             US  \n",
       "2152                   Southwestern Community College             US  \n",
       "2338                     Blue Ridge Community College             US  \n",
       "2419                                 Sheridan College             US  "
      ]
     },
     "execution_count": 18,
     "metadata": {},
     "output_type": "execute_result"
    }
   ],
   "source": [
    "# antes de borrar los duplicados podríamos extraerlos por si nos interesase guardarlos y no perder los datos de las webs que vamos a eliminar del dataframe limpio (nos quedamos solo con la primera)\n",
    "df_duplicados = df2[df2['name'].duplicated()]\n",
    "print(f'El dataframe de los duplicados a eliminar tiene {df_duplicados.shape[0]} filas y {df_duplicados.shape[1]} columnas y se muestra a continuación:')\n",
    "df_duplicados"
   ]
  },
  {
   "cell_type": "code",
   "execution_count": 19,
   "metadata": {},
   "outputs": [
    {
     "name": "stdout",
     "output_type": "stream",
     "text": [
      "El nuevo dataframe tiene 2507 filas y 5 columnas\n",
      "Comprobamos que el indice se ha reseteado:\n"
     ]
    },
    {
     "data": {
      "text/plain": [
       "RangeIndex(start=0, stop=2507, step=1)"
      ]
     },
     "execution_count": 19,
     "metadata": {},
     "output_type": "execute_result"
    }
   ],
   "source": [
    "# eliminamos los duplicados quedándonos con el primero en cada caso\n",
    "df2.drop_duplicates(subset=['name'], inplace=True, ignore_index=True)\n",
    "print(f'El nuevo dataframe tiene {df2.shape[0]} filas y {df2.shape[1]} columnas')\n",
    "print('Comprobamos que el indice se ha reseteado:')\n",
    "df2.index"
   ]
  },
  {
   "cell_type": "markdown",
   "metadata": {},
   "source": [
    "5. Si exploramos la columna de state_province veremos que hay universidades cuyo valor para esta columna es None. Cread una función para reemplazar los None por nulos de numpy."
   ]
  },
  {
   "cell_type": "code",
   "execution_count": 20,
   "metadata": {},
   "outputs": [
    {
     "data": {
      "text/plain": [
       "array(['Buenos Aires', 'Ciudad Autónoma de Buenos Aires', 'Entre Ríos',\n",
       "       'Salta', 'Córdoba', 'Mendoza', 'Santa Fé', None,\n",
       "       'Santiago Del Estero', 'Misiones', 'Catamarca', 'Formosa', 'Jujuy',\n",
       "       'La Rioja', 'La Pampa', 'San Juan', 'San Luis', 'Tucumán',\n",
       "       'Quebec', 'Ontario', 'Nova Scotia', 'British Columbia', 'Alberta',\n",
       "       'Manitoba', 'New Brunswick', 'Saskatchewan',\n",
       "       'Newfoundland and Labrador', 'Prince Edward Island', 'Yukon',\n",
       "       'Pennsylvania', 'NV', 'Iowa', 'VA', 'TX', 'Colorado', 'IN', 'CA',\n",
       "       'South Carolina', 'Washington', 'NY', 'Texas', 'ND', 'MI', 'Ohio',\n",
       "       'Florida', 'California', 'North Carolina', 'Michigan', 'GA',\n",
       "       'New York, NY'], dtype=object)"
      ]
     },
     "execution_count": 20,
     "metadata": {},
     "output_type": "execute_result"
    }
   ],
   "source": [
    "# comprobamos que como dice el enunciado tenemos None\n",
    "df2['state_province'].unique()"
   ]
  },
  {
   "cell_type": "code",
   "execution_count": 21,
   "metadata": {},
   "outputs": [
    {
     "data": {
      "text/plain": [
       "array(['Buenos Aires', 'Ciudad Autónoma de Buenos Aires', 'Entre Ríos',\n",
       "       'Salta', 'Córdoba', 'Mendoza', 'Santa Fé', nan,\n",
       "       'Santiago Del Estero', 'Misiones', 'Catamarca', 'Formosa', 'Jujuy',\n",
       "       'La Rioja', 'La Pampa', 'San Juan', 'San Luis', 'Tucumán',\n",
       "       'Quebec', 'Ontario', 'Nova Scotia', 'British Columbia', 'Alberta',\n",
       "       'Manitoba', 'New Brunswick', 'Saskatchewan',\n",
       "       'Newfoundland and Labrador', 'Prince Edward Island', 'Yukon',\n",
       "       'Pennsylvania', 'NV', 'Iowa', 'VA', 'TX', 'Colorado', 'IN', 'CA',\n",
       "       'South Carolina', 'Washington', 'NY', 'Texas', 'ND', 'MI', 'Ohio',\n",
       "       'Florida', 'California', 'North Carolina', 'Michigan', 'GA',\n",
       "       'New York, NY'], dtype=object)"
      ]
     },
     "execution_count": 21,
     "metadata": {},
     "output_type": "execute_result"
    }
   ],
   "source": [
    "# utilizamos el método .fillna para sustituir None por np.nan\n",
    "df2['state_province'].fillna(value=np.nan,  axis=None, inplace=True)\n",
    "df2['state_province'].unique()"
   ]
  },
  {
   "cell_type": "markdown",
   "metadata": {},
   "source": [
    "6. Después del último cambio, os habréis dado cuenta que tenemos muchos valores nulos dentro de la columna de state_province, por lo que nuestro jefe nos pide que reemplacemos esos nulos por \"Unknow\". No nos piden ningún método especifico, asi que podremos usar el método que queramos."
   ]
  },
  {
   "cell_type": "code",
   "execution_count": 22,
   "metadata": {},
   "outputs": [
    {
     "name": "stdout",
     "output_type": "stream",
     "text": [
      "La columna \"state_province\" tiene un 89.11 % de nulos\n"
     ]
    }
   ],
   "source": [
    "# aunque ya lo hemos visto en la exploración inicial recordamos\n",
    "print(f'La columna \"state_province\" tiene un {round((df2[\"state_province\"].isnull().sum() / df2.shape[0]) * 100, 2)} % de nulos')"
   ]
  },
  {
   "cell_type": "code",
   "execution_count": 23,
   "metadata": {},
   "outputs": [
    {
     "data": {
      "text/plain": [
       "Unknown    2234\n",
       "Name: state_province, dtype: int64"
      ]
     },
     "execution_count": 23,
     "metadata": {},
     "output_type": "execute_result"
    }
   ],
   "source": [
    "# los reemplazamos por 'Unknown'\n",
    "df2['state_province'].replace(np.nan, 'Unknown', inplace=True)\n",
    "df2['state_province'].value_counts()[:1] #comprobamos que se ha cambiado correctamente"
   ]
  },
  {
   "attachments": {},
   "cell_type": "markdown",
   "metadata": {},
   "source": [
    "7. Ahora nuestros jefes nos piden que saquemos las coordenadas de las provincias donde están ubicadas las universidades. Para eso nos piden que usemos la librería de geopy que aprendimos el día del repaso, [aquí](https://pypi.org/project/geopy/) la documentación. Para desarrollar este ejercicio deberéis:\n",
    "    - Sacar los valores únicos de la columna state_province.\n",
    "    - Algunos de los valores que tenemos están con siglas, y deberéis reemplazarlos por lo siguiente:\n",
    "        - NV: reemplazalo por Nevada\n",
    "        - TX: reemplazalo por Texas\n",
    "        - IN: reemplazalo por Indianapolis\n",
    "        - CA: reemplazalo por California\n",
    "        - VA: reemplazalo por Virginia\n",
    "        - NY: reemplazalo por New York\n",
    "        - MI: reemplazalo por Michigan\n",
    "        - GA: reemplazalo por Georgia\n",
    "        - ND: reemplazalo por North Dakota\n",
    "    - Otros valores que tenemos más formateados son y que deberemos reemplazar:\n",
    "        - New York, NY. Deberéis reemplazarlo por \"New York\".\n",
    "        - 'Buenos Aires', 'Ciudad Autónoma de Buenos Aires'. En este caso deberéis poner en ambos casos \"Buenos Aires\"\n",
    "    - Una vez realizados los pasos anteriores, crea una lista con los valores únicos de las provincias de las universidades.\n",
    "    - Usando la API de geopy, extraed la latitud y la longitud de cada una de las provincias y almacenad los resultados en un dataframe.\n",
    "    - Una vez que tengáis los datos del ejercicio anterior en un dataframe, unidlo con el de las universidades que hemos sacado de la API."
   ]
  },
  {
   "cell_type": "code",
   "execution_count": 24,
   "metadata": {},
   "outputs": [
    {
     "data": {
      "text/plain": [
       "array(['Buenos Aires', 'Ciudad Autónoma de Buenos Aires', 'Entre Ríos',\n",
       "       'Salta', 'Córdoba', 'Mendoza', 'Santa Fé', 'Unknown',\n",
       "       'Santiago Del Estero', 'Misiones', 'Catamarca', 'Formosa', 'Jujuy',\n",
       "       'La Rioja', 'La Pampa', 'San Juan', 'San Luis', 'Tucumán',\n",
       "       'Quebec', 'Ontario', 'Nova Scotia', 'British Columbia', 'Alberta',\n",
       "       'Manitoba', 'New Brunswick', 'Saskatchewan',\n",
       "       'Newfoundland and Labrador', 'Prince Edward Island', 'Yukon',\n",
       "       'Pennsylvania', 'NV', 'Iowa', 'VA', 'TX', 'Colorado', 'IN', 'CA',\n",
       "       'South Carolina', 'Washington', 'NY', 'Texas', 'ND', 'MI', 'Ohio',\n",
       "       'Florida', 'California', 'North Carolina', 'Michigan', 'GA',\n",
       "       'New York, NY'], dtype=object)"
      ]
     },
     "execution_count": 24,
     "metadata": {},
     "output_type": "execute_result"
    }
   ],
   "source": [
    "# obtenemos los valores únicos\n",
    "df2['state_province'].unique()"
   ]
  },
  {
   "cell_type": "code",
   "execution_count": 25,
   "metadata": {},
   "outputs": [
    {
     "data": {
      "text/plain": [
       "array(['Buenos Aires', 'Entre Ríos', 'Salta', 'Córdoba', 'Mendoza',\n",
       "       'Santa Fé', 'Unknown', 'Santiago Del Estero', 'Misiones',\n",
       "       'Catamarca', 'Formosa', 'Jujuy', 'La Rioja', 'La Pampa',\n",
       "       'San Juan', 'San Luis', 'Tucumán', 'Quebec', 'Ontario',\n",
       "       'Nova Scotia', 'British Columbia', 'Alberta', 'Manitoba',\n",
       "       'New Brunswick', 'Saskatchewan', 'Newfoundland and Labrador',\n",
       "       'Prince Edward Island', 'Yukon', 'Pennsylvania', 'Nevada', 'Iowa',\n",
       "       'Virginia', 'Texas', 'Colorado', 'Indianapolis', 'California',\n",
       "       'South Carolina', 'Washington', 'New York', 'North Dakota',\n",
       "       'Michigan', 'Ohio', 'Florida', 'North Carolina', 'Georgia'],\n",
       "      dtype=object)"
      ]
     },
     "execution_count": 25,
     "metadata": {},
     "output_type": "execute_result"
    }
   ],
   "source": [
    "# para reemplazar todos los valores a la vez utilizamos .replace() con un diccionario\n",
    "df2['state_province'] = df2['state_province'].replace({'NV': 'Nevada', \n",
    "                                                        'TX': 'Texas', \n",
    "                                                        'IN': 'Indianapolis',\n",
    "                                                        'CA': 'California',\n",
    "                                                        'VA': 'Virginia',\n",
    "                                                        'NY': 'New York',\n",
    "                                                        'MI': 'Michigan',\n",
    "                                                        'GA': 'Georgia',\n",
    "                                                        'ND': 'North Dakota',\n",
    "                                                        'New York, NY' : 'New York',\n",
    "                                                        'Ciudad Autónoma de Buenos Aires': 'Buenos Aires'})\n",
    "df2['state_province'].unique()"
   ]
  },
  {
   "cell_type": "code",
   "execution_count": 26,
   "metadata": {},
   "outputs": [
    {
     "data": {
      "text/plain": [
       "['Buenos Aires', 'Entre Ríos', 'Salta', 'Córdoba', 'Mendoza']"
      ]
     },
     "execution_count": 26,
     "metadata": {},
     "output_type": "execute_result"
    }
   ],
   "source": [
    "# creamos la lista de las provincias con los valores únicos\n",
    "provincias = df2['state_province'].unique().tolist()\n",
    "provincias[:5] # printeamos una muestra como comprobación"
   ]
  },
  {
   "cell_type": "code",
   "execution_count": 27,
   "metadata": {},
   "outputs": [
    {
     "name": "stdout",
     "output_type": "stream",
     "text": [
      "Nº de provincias: 45\n",
      "Eliminamos el elemento \"Unknown\"\n",
      "Nº de provincias: 44\n"
     ]
    }
   ],
   "source": [
    "print(f'Nº de provincias: {len(provincias)}')\n",
    "print('Eliminamos el elemento \"Unknown\"')\n",
    "provincias.remove('Unknown') # eliminamos este elemento para no solicitar sus coordenadas\n",
    "print(f'Nº de provincias: {len(provincias)}')"
   ]
  },
  {
   "cell_type": "code",
   "execution_count": 28,
   "metadata": {},
   "outputs": [
    {
     "data": {
      "text/html": [
       "<div>\n",
       "<style scoped>\n",
       "    .dataframe tbody tr th:only-of-type {\n",
       "        vertical-align: middle;\n",
       "    }\n",
       "\n",
       "    .dataframe tbody tr th {\n",
       "        vertical-align: top;\n",
       "    }\n",
       "\n",
       "    .dataframe thead th {\n",
       "        text-align: right;\n",
       "    }\n",
       "</style>\n",
       "<table border=\"1\" class=\"dataframe\">\n",
       "  <thead>\n",
       "    <tr style=\"text-align: right;\">\n",
       "      <th></th>\n",
       "      <th>state_province</th>\n",
       "      <th>latitude</th>\n",
       "      <th>longitude</th>\n",
       "    </tr>\n",
       "  </thead>\n",
       "  <tbody>\n",
       "    <tr>\n",
       "      <th>0</th>\n",
       "      <td>Buenos Aires</td>\n",
       "      <td>-34.607568</td>\n",
       "      <td>-58.437089</td>\n",
       "    </tr>\n",
       "    <tr>\n",
       "      <th>1</th>\n",
       "      <td>Entre Ríos</td>\n",
       "      <td>-31.625284</td>\n",
       "      <td>-59.353958</td>\n",
       "    </tr>\n",
       "    <tr>\n",
       "      <th>2</th>\n",
       "      <td>Salta</td>\n",
       "      <td>-25.107670</td>\n",
       "      <td>-64.349496</td>\n",
       "    </tr>\n",
       "    <tr>\n",
       "      <th>3</th>\n",
       "      <td>Córdoba</td>\n",
       "      <td>37.884581</td>\n",
       "      <td>-4.776014</td>\n",
       "    </tr>\n",
       "    <tr>\n",
       "      <th>4</th>\n",
       "      <td>Mendoza</td>\n",
       "      <td>-34.787093</td>\n",
       "      <td>-68.438187</td>\n",
       "    </tr>\n",
       "  </tbody>\n",
       "</table>\n",
       "</div>"
      ],
      "text/plain": [
       "  state_province   latitude  longitude\n",
       "0   Buenos Aires -34.607568 -58.437089\n",
       "1     Entre Ríos -31.625284 -59.353958\n",
       "2          Salta -25.107670 -64.349496\n",
       "3        Córdoba  37.884581  -4.776014\n",
       "4        Mendoza -34.787093 -68.438187"
      ]
     },
     "execution_count": 28,
     "metadata": {},
     "output_type": "execute_result"
    }
   ],
   "source": [
    "# usando la API de geopy obtenemos los datos\n",
    "df_geopy = pd.DataFrame(columns=['state_province', 'latitude', 'longitude'])\n",
    "for loc in provincias:\n",
    "    geolocator = Nominatim(user_agent='Maitane') # inicializamos el geolocator\n",
    "    location = geolocator.geocode(loc) # solicitamos la localización\n",
    "    df = pd.DataFrame({'state_province': loc, 'latitude': location.latitude, 'longitude': location.longitude}, index=[0]) # obtenemos la latitud y longitud en un dataframe\n",
    "    df_geopy = pd.concat([df_geopy, df], axis=0, ignore_index=True)\n",
    "df_geopy.head()"
   ]
  },
  {
   "cell_type": "code",
   "execution_count": 30,
   "metadata": {},
   "outputs": [
    {
     "name": "stdout",
     "output_type": "stream",
     "text": [
      "El dataframe general tiene 2507 filas y 5 columnas\n",
      "Comprobamos que el indice es contínuo:\n"
     ]
    },
    {
     "data": {
      "text/plain": [
       "RangeIndex(start=0, stop=2507, step=1)"
      ]
     },
     "execution_count": 30,
     "metadata": {},
     "output_type": "execute_result"
    }
   ],
   "source": [
    "# recordamos el dataframe que teníamos\n",
    "print(f'El dataframe general tiene {df2.shape[0]} filas y {df2.shape[1]} columnas')\n",
    "print('Comprobamos que el indice es contínuo:')\n",
    "df2.index"
   ]
  },
  {
   "cell_type": "code",
   "execution_count": 31,
   "metadata": {},
   "outputs": [
    {
     "name": "stdout",
     "output_type": "stream",
     "text": [
      "El dataframe de las coordenadas tiene 44 filas y 3 columnas\n",
      "Comprobamos que el indice es contínuo:\n"
     ]
    },
    {
     "data": {
      "text/plain": [
       "RangeIndex(start=0, stop=44, step=1)"
      ]
     },
     "execution_count": 31,
     "metadata": {},
     "output_type": "execute_result"
    }
   ],
   "source": [
    "# y el dataframe de las coordenadas tiene las sigueintes características\n",
    "print(f'El dataframe de las coordenadas tiene {df_geopy.shape[0]} filas y {df_geopy.shape[1]} columnas')\n",
    "print('Comprobamos que el indice es contínuo:')\n",
    "df_geopy.index"
   ]
  },
  {
   "cell_type": "code",
   "execution_count": 32,
   "metadata": {},
   "outputs": [
    {
     "data": {
      "text/html": [
       "<div>\n",
       "<style scoped>\n",
       "    .dataframe tbody tr th:only-of-type {\n",
       "        vertical-align: middle;\n",
       "    }\n",
       "\n",
       "    .dataframe tbody tr th {\n",
       "        vertical-align: top;\n",
       "    }\n",
       "\n",
       "    .dataframe thead th {\n",
       "        text-align: right;\n",
       "    }\n",
       "</style>\n",
       "<table border=\"1\" class=\"dataframe\">\n",
       "  <thead>\n",
       "    <tr style=\"text-align: right;\">\n",
       "      <th></th>\n",
       "      <th>country</th>\n",
       "      <th>state_province</th>\n",
       "      <th>web_pages</th>\n",
       "      <th>name</th>\n",
       "      <th>alpha_two_code</th>\n",
       "      <th>latitude</th>\n",
       "      <th>longitude</th>\n",
       "    </tr>\n",
       "  </thead>\n",
       "  <tbody>\n",
       "    <tr>\n",
       "      <th>0</th>\n",
       "      <td>Argentina</td>\n",
       "      <td>Buenos Aires</td>\n",
       "      <td>http://www.atlantida.edu.ar/</td>\n",
       "      <td>Universidad Atlantida Argentina</td>\n",
       "      <td>AR</td>\n",
       "      <td>-34.607568</td>\n",
       "      <td>-58.437089</td>\n",
       "    </tr>\n",
       "    <tr>\n",
       "      <th>1</th>\n",
       "      <td>Argentina</td>\n",
       "      <td>Buenos Aires</td>\n",
       "      <td>http://www.austral.edu.ar/</td>\n",
       "      <td>Universidad Austral Buenos Aires</td>\n",
       "      <td>AR</td>\n",
       "      <td>-34.607568</td>\n",
       "      <td>-58.437089</td>\n",
       "    </tr>\n",
       "    <tr>\n",
       "      <th>2</th>\n",
       "      <td>Argentina</td>\n",
       "      <td>Buenos Aires</td>\n",
       "      <td>http://www.caece.edu.ar/</td>\n",
       "      <td>Universidad CAECE, Buenos Aires</td>\n",
       "      <td>AR</td>\n",
       "      <td>-34.607568</td>\n",
       "      <td>-58.437089</td>\n",
       "    </tr>\n",
       "    <tr>\n",
       "      <th>3</th>\n",
       "      <td>Argentina</td>\n",
       "      <td>Buenos Aires</td>\n",
       "      <td>http://www.cema.edu.ar/</td>\n",
       "      <td>Instituto Universitario CEMA</td>\n",
       "      <td>AR</td>\n",
       "      <td>-34.607568</td>\n",
       "      <td>-58.437089</td>\n",
       "    </tr>\n",
       "    <tr>\n",
       "      <th>4</th>\n",
       "      <td>Argentina</td>\n",
       "      <td>Buenos Aires</td>\n",
       "      <td>http://www.iese.edu.ar/</td>\n",
       "      <td>Instituto de Enseñanza Superior del Ejército</td>\n",
       "      <td>AR</td>\n",
       "      <td>-34.607568</td>\n",
       "      <td>-58.437089</td>\n",
       "    </tr>\n",
       "  </tbody>\n",
       "</table>\n",
       "</div>"
      ],
      "text/plain": [
       "     country state_province                     web_pages  \\\n",
       "0  Argentina   Buenos Aires  http://www.atlantida.edu.ar/   \n",
       "1  Argentina   Buenos Aires    http://www.austral.edu.ar/   \n",
       "2  Argentina   Buenos Aires      http://www.caece.edu.ar/   \n",
       "3  Argentina   Buenos Aires       http://www.cema.edu.ar/   \n",
       "4  Argentina   Buenos Aires       http://www.iese.edu.ar/   \n",
       "\n",
       "                                           name alpha_two_code   latitude  \\\n",
       "0               Universidad Atlantida Argentina             AR -34.607568   \n",
       "1              Universidad Austral Buenos Aires             AR -34.607568   \n",
       "2               Universidad CAECE, Buenos Aires             AR -34.607568   \n",
       "3                  Instituto Universitario CEMA             AR -34.607568   \n",
       "4  Instituto de Enseñanza Superior del Ejército             AR -34.607568   \n",
       "\n",
       "   longitude  \n",
       "0 -58.437089  \n",
       "1 -58.437089  \n",
       "2 -58.437089  \n",
       "3 -58.437089  \n",
       "4 -58.437089  "
      ]
     },
     "execution_count": 32,
     "metadata": {},
     "output_type": "execute_result"
    }
   ],
   "source": [
    "# unimos ambos dataframes\n",
    "df2 = df2.merge(df_geopy, how='left', on='state_province').reset_index(drop=True)\n",
    "df2.head()"
   ]
  },
  {
   "cell_type": "code",
   "execution_count": 33,
   "metadata": {},
   "outputs": [
    {
     "name": "stdout",
     "output_type": "stream",
     "text": [
      "El dataframe completo tiene 2507 filas y 7 columnas\n",
      "Comprobamos que el indice es contínuo:\n"
     ]
    },
    {
     "data": {
      "text/plain": [
       "RangeIndex(start=0, stop=2507, step=1)"
      ]
     },
     "execution_count": 33,
     "metadata": {},
     "output_type": "execute_result"
    }
   ],
   "source": [
    "print(f'El dataframe completo tiene {df2.shape[0]} filas y {df2.shape[1]} columnas')\n",
    "print('Comprobamos que el indice es contínuo:')\n",
    "df2.index"
   ]
  },
  {
   "cell_type": "code",
   "execution_count": 40,
   "metadata": {},
   "outputs": [
    {
     "data": {
      "text/html": [
       "<div>\n",
       "<style scoped>\n",
       "    .dataframe tbody tr th:only-of-type {\n",
       "        vertical-align: middle;\n",
       "    }\n",
       "\n",
       "    .dataframe tbody tr th {\n",
       "        vertical-align: top;\n",
       "    }\n",
       "\n",
       "    .dataframe thead th {\n",
       "        text-align: right;\n",
       "    }\n",
       "</style>\n",
       "<table border=\"1\" class=\"dataframe\">\n",
       "  <thead>\n",
       "    <tr style=\"text-align: right;\">\n",
       "      <th></th>\n",
       "      <th>country</th>\n",
       "      <th>state_province</th>\n",
       "      <th>web_pages</th>\n",
       "      <th>name</th>\n",
       "      <th>alpha_two_code</th>\n",
       "      <th>latitude</th>\n",
       "      <th>longitude</th>\n",
       "    </tr>\n",
       "  </thead>\n",
       "  <tbody>\n",
       "    <tr>\n",
       "      <th>814</th>\n",
       "      <td>United States</td>\n",
       "      <td>Unknown</td>\n",
       "      <td>http://www.manhattan.edu/</td>\n",
       "      <td>Manhattan College</td>\n",
       "      <td>US</td>\n",
       "      <td>NaN</td>\n",
       "      <td>NaN</td>\n",
       "    </tr>\n",
       "    <tr>\n",
       "      <th>1978</th>\n",
       "      <td>United States</td>\n",
       "      <td>Unknown</td>\n",
       "      <td>http://cdkc.edu</td>\n",
       "      <td>Chief Dull Knife College</td>\n",
       "      <td>US</td>\n",
       "      <td>NaN</td>\n",
       "      <td>NaN</td>\n",
       "    </tr>\n",
       "    <tr>\n",
       "      <th>2436</th>\n",
       "      <td>United States</td>\n",
       "      <td>Unknown</td>\n",
       "      <td>https://www.una.edu/</td>\n",
       "      <td>University of North Alabama</td>\n",
       "      <td>US</td>\n",
       "      <td>NaN</td>\n",
       "      <td>NaN</td>\n",
       "    </tr>\n",
       "    <tr>\n",
       "      <th>1944</th>\n",
       "      <td>United States</td>\n",
       "      <td>Unknown</td>\n",
       "      <td>http://www.sctcc.edu</td>\n",
       "      <td>St Cloud Technical and Community College</td>\n",
       "      <td>US</td>\n",
       "      <td>NaN</td>\n",
       "      <td>NaN</td>\n",
       "    </tr>\n",
       "    <tr>\n",
       "      <th>2140</th>\n",
       "      <td>United States</td>\n",
       "      <td>Unknown</td>\n",
       "      <td>http://www.belmontcollege.edu</td>\n",
       "      <td>Belmont College</td>\n",
       "      <td>US</td>\n",
       "      <td>NaN</td>\n",
       "      <td>NaN</td>\n",
       "    </tr>\n",
       "  </tbody>\n",
       "</table>\n",
       "</div>"
      ],
      "text/plain": [
       "            country state_province                      web_pages  \\\n",
       "814   United States        Unknown      http://www.manhattan.edu/   \n",
       "1978  United States        Unknown                http://cdkc.edu   \n",
       "2436  United States        Unknown           https://www.una.edu/   \n",
       "1944  United States        Unknown           http://www.sctcc.edu   \n",
       "2140  United States        Unknown  http://www.belmontcollege.edu   \n",
       "\n",
       "                                          name alpha_two_code  latitude  \\\n",
       "814                          Manhattan College             US       NaN   \n",
       "1978                  Chief Dull Knife College             US       NaN   \n",
       "2436               University of North Alabama             US       NaN   \n",
       "1944  St Cloud Technical and Community College             US       NaN   \n",
       "2140                           Belmont College             US       NaN   \n",
       "\n",
       "      longitude  \n",
       "814         NaN  \n",
       "1978        NaN  \n",
       "2436        NaN  \n",
       "1944        NaN  \n",
       "2140        NaN  "
      ]
     },
     "execution_count": 40,
     "metadata": {},
     "output_type": "execute_result"
    }
   ],
   "source": [
    "# comprobamos que en los casos en los que la 'state_province' es 'Unknown' tenemos np.nan en las columnas de latitid y longitud\n",
    "df2[df2['state_province'] == 'Unknown'].sample(5)"
   ]
  },
  {
   "attachments": {},
   "cell_type": "markdown",
   "metadata": {},
   "source": [
    "8. Crea una BBDD en mysql que contenga las siguientes tablas:  \n",
    "\n",
    "    ![imagen](../datos/8-bbdd.png)  \n",
    "    \n",
    "    - Tabla países: donde encontraremos las siguientes columnas:\n",
    "        - idestado: primary key, integer, autoincremental\n",
    "        - nombre_pais: varchar\n",
    "        - nombre_provincia: varchar\n",
    "        - latitud: decimal\n",
    "        - longitud: decimal\n",
    "    - Tabla universidades: donde encontraremos las siguientes columnas:\n",
    "        - iduniversidades: primary key, integer, autoincremental\n",
    "        - nombre_universidad: varchar\n",
    "        - pagina_web: varchar\n",
    "        - paises_idestado: foreing key"
   ]
  },
  {
   "cell_type": "code",
   "execution_count": 42,
   "metadata": {},
   "outputs": [],
   "source": [
    "# creamos una función para crear la base de datos\n",
    "def crear_bbdd(nombre_bbdd):\n",
    "    \n",
    "    mydb = mysql.connector.connect(\n",
    "      host=\"localhost\",\n",
    "      user=\"root\",\n",
    "      password=\"AlumnaAdalab\")\n",
    "    \n",
    "    print(\"Conexión realizada con éxito\")\n",
    "    \n",
    "    mycursor = mydb.cursor()\n",
    "\n",
    "    try:\n",
    "        mycursor.execute(f\"CREATE DATABASE IF NOT EXISTS {nombre_bbdd};\")\n",
    "        print(mycursor)\n",
    "    except mysql.connector.Error as err:\n",
    "        print(err)\n",
    "        print(\"Error Code:\", err.errno)\n",
    "        print(\"SQLSTATE\", err.sqlstate)\n",
    "        print(\"Message\", err.msg)"
   ]
  },
  {
   "cell_type": "code",
   "execution_count": 43,
   "metadata": {},
   "outputs": [
    {
     "ename": "DatabaseError",
     "evalue": "2003 (HY000): Can't connect to MySQL server on 'localhost:3306' (111)",
     "output_type": "error",
     "traceback": [
      "\u001b[0;31m---------------------------------------------------------------------------\u001b[0m",
      "\u001b[0;31mMySQLInterfaceError\u001b[0m                       Traceback (most recent call last)",
      "File \u001b[0;32m~/anaconda3/envs/adalabenv/lib/python3.10/site-packages/mysql/connector/connection_cext.py:288\u001b[0m, in \u001b[0;36mCMySQLConnection._open_connection\u001b[0;34m(self)\u001b[0m\n\u001b[1;32m    287\u001b[0m \u001b[39mtry\u001b[39;00m:\n\u001b[0;32m--> 288\u001b[0m     \u001b[39mself\u001b[39;49m\u001b[39m.\u001b[39;49m_cmysql\u001b[39m.\u001b[39;49mconnect(\u001b[39m*\u001b[39;49m\u001b[39m*\u001b[39;49mcnx_kwargs)\n\u001b[1;32m    289\u001b[0m     \u001b[39mself\u001b[39m\u001b[39m.\u001b[39m_cmysql\u001b[39m.\u001b[39mconverter_str_fallback \u001b[39m=\u001b[39m \u001b[39mself\u001b[39m\u001b[39m.\u001b[39m_converter_str_fallback\n",
      "\u001b[0;31mMySQLInterfaceError\u001b[0m: Can't connect to MySQL server on 'localhost:3306' (111)",
      "\nThe above exception was the direct cause of the following exception:\n",
      "\u001b[0;31mDatabaseError\u001b[0m                             Traceback (most recent call last)",
      "Cell \u001b[0;32mIn[43], line 1\u001b[0m\n\u001b[0;32m----> 1\u001b[0m bbdd \u001b[39m=\u001b[39m crear_bbdd(\u001b[39m'\u001b[39;49m\u001b[39mbd_universidades\u001b[39;49m\u001b[39m'\u001b[39;49m)\n",
      "Cell \u001b[0;32mIn[42], line 4\u001b[0m, in \u001b[0;36mcrear_bbdd\u001b[0;34m(nombre_bbdd)\u001b[0m\n\u001b[1;32m      2\u001b[0m \u001b[39mdef\u001b[39;00m \u001b[39mcrear_bbdd\u001b[39m(nombre_bbdd):\n\u001b[0;32m----> 4\u001b[0m     mydb \u001b[39m=\u001b[39m mysql\u001b[39m.\u001b[39;49mconnector\u001b[39m.\u001b[39;49mconnect(\n\u001b[1;32m      5\u001b[0m       host\u001b[39m=\u001b[39;49m\u001b[39m\"\u001b[39;49m\u001b[39mlocalhost\u001b[39;49m\u001b[39m\"\u001b[39;49m,\n\u001b[1;32m      6\u001b[0m       user\u001b[39m=\u001b[39;49m\u001b[39m\"\u001b[39;49m\u001b[39mroot\u001b[39;49m\u001b[39m\"\u001b[39;49m,\n\u001b[1;32m      7\u001b[0m       password\u001b[39m=\u001b[39;49m\u001b[39m\"\u001b[39;49m\u001b[39mAlumnaAdalab\u001b[39;49m\u001b[39m\"\u001b[39;49m)\n\u001b[1;32m      9\u001b[0m     \u001b[39mprint\u001b[39m(\u001b[39m\"\u001b[39m\u001b[39mConexión realizada con éxito\u001b[39m\u001b[39m\"\u001b[39m)\n\u001b[1;32m     11\u001b[0m     mycursor \u001b[39m=\u001b[39m mydb\u001b[39m.\u001b[39mcursor()\n",
      "File \u001b[0;32m~/anaconda3/envs/adalabenv/lib/python3.10/site-packages/mysql/connector/pooling.py:293\u001b[0m, in \u001b[0;36mconnect\u001b[0;34m(*args, **kwargs)\u001b[0m\n\u001b[1;32m    290\u001b[0m         \u001b[39mraise\u001b[39;00m \u001b[39mImportError\u001b[39;00m(ERROR_NO_CEXT)\n\u001b[1;32m    292\u001b[0m \u001b[39mif\u001b[39;00m CMySQLConnection \u001b[39mand\u001b[39;00m \u001b[39mnot\u001b[39;00m use_pure:\n\u001b[0;32m--> 293\u001b[0m     \u001b[39mreturn\u001b[39;00m CMySQLConnection(\u001b[39m*\u001b[39;49margs, \u001b[39m*\u001b[39;49m\u001b[39m*\u001b[39;49mkwargs)\n\u001b[1;32m    294\u001b[0m \u001b[39mreturn\u001b[39;00m MySQLConnection(\u001b[39m*\u001b[39margs, \u001b[39m*\u001b[39m\u001b[39m*\u001b[39mkwargs)\n",
      "File \u001b[0;32m~/anaconda3/envs/adalabenv/lib/python3.10/site-packages/mysql/connector/connection_cext.py:118\u001b[0m, in \u001b[0;36mCMySQLConnection.__init__\u001b[0;34m(self, **kwargs)\u001b[0m\n\u001b[1;32m    115\u001b[0m \u001b[39msuper\u001b[39m()\u001b[39m.\u001b[39m\u001b[39m__init__\u001b[39m()\n\u001b[1;32m    117\u001b[0m \u001b[39mif\u001b[39;00m kwargs:\n\u001b[0;32m--> 118\u001b[0m     \u001b[39mself\u001b[39;49m\u001b[39m.\u001b[39;49mconnect(\u001b[39m*\u001b[39;49m\u001b[39m*\u001b[39;49mkwargs)\n",
      "File \u001b[0;32m~/anaconda3/envs/adalabenv/lib/python3.10/site-packages/mysql/connector/abstracts.py:1178\u001b[0m, in \u001b[0;36mMySQLConnectionAbstract.connect\u001b[0;34m(self, **kwargs)\u001b[0m\n\u001b[1;32m   1175\u001b[0m     \u001b[39mself\u001b[39m\u001b[39m.\u001b[39mconfig(\u001b[39m*\u001b[39m\u001b[39m*\u001b[39mkwargs)\n\u001b[1;32m   1177\u001b[0m \u001b[39mself\u001b[39m\u001b[39m.\u001b[39mdisconnect()\n\u001b[0;32m-> 1178\u001b[0m \u001b[39mself\u001b[39;49m\u001b[39m.\u001b[39;49m_open_connection()\n\u001b[1;32m   1179\u001b[0m \u001b[39m# Server does not allow to run any other statement different from ALTER\u001b[39;00m\n\u001b[1;32m   1180\u001b[0m \u001b[39m# when user's password has been expired.\u001b[39;00m\n\u001b[1;32m   1181\u001b[0m \u001b[39mif\u001b[39;00m \u001b[39mnot\u001b[39;00m \u001b[39mself\u001b[39m\u001b[39m.\u001b[39m_client_flags \u001b[39m&\u001b[39m ClientFlag\u001b[39m.\u001b[39mCAN_HANDLE_EXPIRED_PASSWORDS:\n",
      "File \u001b[0;32m~/anaconda3/envs/adalabenv/lib/python3.10/site-packages/mysql/connector/connection_cext.py:293\u001b[0m, in \u001b[0;36mCMySQLConnection._open_connection\u001b[0;34m(self)\u001b[0m\n\u001b[1;32m    291\u001b[0m         \u001b[39mself\u001b[39m\u001b[39m.\u001b[39mconverter\u001b[39m.\u001b[39mstr_fallback \u001b[39m=\u001b[39m \u001b[39mself\u001b[39m\u001b[39m.\u001b[39m_converter_str_fallback\n\u001b[1;32m    292\u001b[0m \u001b[39mexcept\u001b[39;00m MySQLInterfaceError \u001b[39mas\u001b[39;00m err:\n\u001b[0;32m--> 293\u001b[0m     \u001b[39mraise\u001b[39;00m get_mysql_exception(\n\u001b[1;32m    294\u001b[0m         msg\u001b[39m=\u001b[39merr\u001b[39m.\u001b[39mmsg, errno\u001b[39m=\u001b[39merr\u001b[39m.\u001b[39merrno, sqlstate\u001b[39m=\u001b[39merr\u001b[39m.\u001b[39msqlstate\n\u001b[1;32m    295\u001b[0m     ) \u001b[39mfrom\u001b[39;00m \u001b[39merr\u001b[39;00m\n\u001b[1;32m    297\u001b[0m \u001b[39mself\u001b[39m\u001b[39m.\u001b[39m_do_handshake()\n",
      "\u001b[0;31mDatabaseError\u001b[0m: 2003 (HY000): Can't connect to MySQL server on 'localhost:3306' (111)"
     ]
    }
   ],
   "source": [
    "bbdd = crear_bbdd('bd_universidades')"
   ]
  },
  {
   "cell_type": "code",
   "execution_count": null,
   "metadata": {},
   "outputs": [],
   "source": [
    "def crear_insertar_tabla(nombre_bbdd, contraseña, query):\n",
    "    \n",
    "    cnx = mysql.connector.connect(user='root', password=f\"{contraseña}\",\n",
    "                                     host='127.0.0.1', database=f\"{nombre_bbdd}\")\n",
    "    \n",
    "    mycursor = cnx.cursor()\n",
    "    \n",
    "    \n",
    "    try: \n",
    "        mycursor.execute(query)\n",
    "        cnx.commit() \n",
    "    \n",
    "    except mysql.connector.Error as err:\n",
    "        print(err)\n",
    "        print(\"Error Code:\", err.errno)\n",
    "        print(\"SQLSTATE\", err.sqlstate)\n",
    "        print(\"Message\", err.msg)"
   ]
  },
  {
   "cell_type": "code",
   "execution_count": null,
   "metadata": {},
   "outputs": [],
   "source": [
    "tabla_univ = \"\"\"CREATE TABLE IF NOT EXISTS `bd_universidades`.`paises` (\n",
    "                    `idestado` INT NOT NULL AUTO_INCREMENT,\n",
    "                    `nombre_pais` VARCHAR(45) NOT NULL,\n",
    "                    `nombre_provincia` VARCHAR(45) NOT NULL,\n",
    "                    `latitud` DECIMAL NOT NULL,\n",
    "                    `longitud` DECIMAL NOT NULL,\n",
    "                    PRIMARY KEY (`idestado`))\n",
    "                    ENGINE = InnoDB;\n",
    "                \"\"\""
   ]
  },
  {
   "cell_type": "code",
   "execution_count": null,
   "metadata": {},
   "outputs": [],
   "source": [
    "tabla_paises = \"\"\" CREATE TABLE IF NOT EXISTS `bd_universidades`.`universidades` (\n",
    "                        `iduniversidades` INT NOT NULL AUTO_INCREMENT,\n",
    "                        `nombre_universidad` VARCHAR(100) NOT NULL,\n",
    "                        `pagina_web` VARCHAR(100) NOT NULL,\n",
    "                        `paises_idestado` INT NOT NULL,\n",
    "                        PRIMARY KEY (`iduniversidades`),\n",
    "                        INDEX `fk_universidades_paises_idx` (`paises_idestado` ASC) VISIBLE,\n",
    "                        CONSTRAINT `fk_universidades_paises`\n",
    "                            FOREIGN KEY (`paises_idestado`)\n",
    "                            REFERENCES `bd_universidades`.`paises` (`idestado`)\n",
    "                            ON DELETE CASCADE\n",
    "                            ON UPDATE CASCADE)\n",
    "                        ENGINE = InnoDB;\n",
    "                    \"\"\""
   ]
  },
  {
   "cell_type": "code",
   "execution_count": null,
   "metadata": {},
   "outputs": [],
   "source": [
    "crear_insertar_tabla('energia', 'AlumnaAdalab', tabla_univ)"
   ]
  },
  {
   "cell_type": "code",
   "execution_count": null,
   "metadata": {},
   "outputs": [],
   "source": [
    "crear_insertar_tabla('energia', 'AlumnaAdalab', tabla_paises)"
   ]
  },
  {
   "cell_type": "code",
   "execution_count": 34,
   "metadata": {},
   "outputs": [],
   "source": [
    "# -- MySQL Workbench Forward Engineering\n",
    "\n",
    "# SET @OLD_UNIQUE_CHECKS=@@UNIQUE_CHECKS, UNIQUE_CHECKS=0;\n",
    "# SET @OLD_FOREIGN_KEY_CHECKS=@@FOREIGN_KEY_CHECKS, FOREIGN_KEY_CHECKS=0;\n",
    "# SET @OLD_SQL_MODE=@@SQL_MODE, SQL_MODE='ONLY_FULL_GROUP_BY,STRICT_TRANS_TABLES,NO_ZERO_IN_DATE,NO_ZERO_DATE,ERROR_FOR_DIVISION_BY_ZERO,NO_ENGINE_SUBSTITUTION';\n",
    "\n",
    "# -- -----------------------------------------------------\n",
    "# -- Schema bd_universidades\n",
    "# -- -----------------------------------------------------\n",
    "\n",
    "# -- -----------------------------------------------------\n",
    "# -- Schema bd_universidades\n",
    "# -- -----------------------------------------------------\n",
    "# CREATE SCHEMA IF NOT EXISTS `bd_universidades` DEFAULT CHARACTER SET utf8 ;\n",
    "# USE `bd_universidades` ;\n",
    "\n",
    "# -- -----------------------------------------------------\n",
    "# -- Table `bd_universidades`.`paises`\n",
    "# -- -----------------------------------------------------\n",
    "\n",
    "\n",
    "\n",
    "# -- -----------------------------------------------------\n",
    "# -- Table `bd_universidades`.`universidades`\n",
    "# -- -----------------------------------------------------\n",
    "\n",
    "\n",
    "\n",
    "# SET SQL_MODE=@OLD_SQL_MODE;\n",
    "# SET FOREIGN_KEY_CHECKS=@OLD_FOREIGN_KEY_CHECKS;\n",
    "# SET UNIQUE_CHECKS=@OLD_UNIQUE_CHECKS;\n"
   ]
  },
  {
   "attachments": {},
   "cell_type": "markdown",
   "metadata": {},
   "source": [
    "9. Introduce todo el código que habéis ido creando en funciones, siguiendo la misma lógica que hemos seguido en los pairs"
   ]
  },
  {
   "cell_type": "code",
   "execution_count": null,
   "metadata": {},
   "outputs": [],
   "source": []
  },
  {
   "attachments": {},
   "cell_type": "markdown",
   "metadata": {},
   "source": [
    "10. BONUS  \n",
    "    - Introduce los datos en la BBDD de SQL.\n",
    "    - Crea una clase con todo el código generado en esta evaluación."
   ]
  },
  {
   "cell_type": "code",
   "execution_count": null,
   "metadata": {},
   "outputs": [],
   "source": []
  }
 ],
 "metadata": {
  "kernelspec": {
   "display_name": "adalabenv",
   "language": "python",
   "name": "python3"
  },
  "language_info": {
   "codemirror_mode": {
    "name": "ipython",
    "version": 3
   },
   "file_extension": ".py",
   "mimetype": "text/x-python",
   "name": "python",
   "nbconvert_exporter": "python",
   "pygments_lexer": "ipython3",
   "version": "3.10.9"
  },
  "orig_nbformat": 4
 },
 "nbformat": 4,
 "nbformat_minor": 2
}
