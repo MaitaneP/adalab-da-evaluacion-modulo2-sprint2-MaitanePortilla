{
 "cells": [
  {
   "attachments": {},
   "cell_type": "markdown",
   "metadata": {},
   "source": [
    "# Evaluación I Módulo 2 (sprint 2)\n",
    "---"
   ]
  },
  {
   "cell_type": "code",
   "execution_count": 1,
   "metadata": {},
   "outputs": [],
   "source": [
    "import pandas as pd\n",
    "import numpy as np\n",
    "import requests\n",
    "from geopy.geocoders import Nominatim\n",
    "import mysql.connector\n",
    "import sys\n",
    "\n",
    "sys.path.append('../')\n",
    "from src import soporte_variables as spv\n",
    "from src import soporte_funciones as spf"
   ]
  },
  {
   "attachments": {},
   "cell_type": "markdown",
   "metadata": {},
   "source": [
    "En esta evaluación nos enfrentamos a un desafío emocionante de trabajar en un proyecto real para una empresa que realiza un estudio de universidades por el mundo. El proyecto tiene como objetivo identificar todas las universidades ubicadas en tres países específicos: Estados Unidos, Canadá y Argentina.  \n",
    "\n",
    "Para llevar a cabo esta tarea, utilizaremos la API de \"Universities Hipolabs\", una fuente confiable y completa de información sobre las universidades en todo el mundo. Con la ayuda de esta API, podemos acceder a una gran cantidad de datos relevantes, incluyendo el nombre de la universidad, la ciudad donde esta ubicada, el nombre de la institución y otra información importante que nos permitirá llevar a cabo un análisis detallado.  \n",
    "\n",
    "Es importante tener en cuenta que este proyecto requerirá un conocimiento profundo de herramientas y técnicas de análisis de datos, así como habilidades en programación y manejo de APIs. También es importante tener una comprensión sólida de la estructura y organización de los datos, ya que esto nos permitirá hacer preguntas importantes y obtener respuestas significativas a partir de los datos.  \n",
    "\n",
    "En resumen, esta prueba técnica ofrece una excelente oportunidad para demostrar habilidades y conocimientos en análisis de datos y programación, mientras se trabaja en un proyecto real y relevante para una empresa. Al finalizar del proyecto, esperamos obtener información valiosa que ayudará a la empresa a tomar decisiones más informadas sobre las universidades en los tres países objetivo.  \n",
    "\n",
    "1. Utilizando la API extraed toda la información que podáis de ella. La url para hacer las llamadas es:\n",
    "    ```python\n",
    "    API_URL = \"http://universities.hipolabs.com/search?country=NOMBREPAIS\"\n",
    "    ```"
   ]
  },
  {
   "cell_type": "code",
   "execution_count": 2,
   "metadata": {},
   "outputs": [
    {
     "name": "stdout",
     "output_type": "stream",
     "text": [
      "Vamos a realizar la extracción para los siguientes paises: ['Argentina', 'Canada', 'United States']\n"
     ]
    }
   ],
   "source": [
    "# los paises que nos interesan son:\n",
    "print(f'Vamos a realizar la extracción para los siguientes paises: {spv.paises}')"
   ]
  },
  {
   "cell_type": "code",
   "execution_count": 3,
   "metadata": {},
   "outputs": [
    {
     "name": "stdout",
     "output_type": "stream",
     "text": [
      "Status code extracción Argentina: 200\n",
      "Reason extracción Argentina: OK\n",
      "El resultado obtenido es una lista de diccionarios. Nº de elementos de la lista resultado: 87\n",
      "Las keys de cada diccionario son 6: dict_keys(['state-province', 'domains', 'name', 'country', 'web_pages', 'alpha_two_code'])\n",
      "Printeamos los dos primeros resultados descargados de la API a modo de ejemplo:\n"
     ]
    },
    {
     "data": {
      "text/plain": [
       "[{'state-province': 'Buenos Aires',\n",
       "  'domains': ['atlantida.edu.ar'],\n",
       "  'name': 'Universidad Atlantida Argentina',\n",
       "  'country': 'Argentina',\n",
       "  'web_pages': ['http://www.atlantida.edu.ar/'],\n",
       "  'alpha_two_code': 'AR'},\n",
       " {'state-province': 'Buenos Aires',\n",
       "  'domains': ['austral.edu.ar'],\n",
       "  'name': 'Universidad Austral Buenos Aires',\n",
       "  'country': 'Argentina',\n",
       "  'web_pages': ['http://www.austral.edu.ar/'],\n",
       "  'alpha_two_code': 'AR'}]"
      ]
     },
     "execution_count": 3,
     "metadata": {},
     "output_type": "execute_result"
    }
   ],
   "source": [
    "# utilizamos una función para obtener los datos de Argentina a modo de ejemplo para explorar los resultados que tendremos para cada país\n",
    "argentina = spf.extraccion_json(spv.paises[0])\n",
    "print('Printeamos los dos primeros resultados descargados de la API a modo de ejemplo:')\n",
    "argentina[0:2] # printeamos una muestra"
   ]
  },
  {
   "cell_type": "code",
   "execution_count": 4,
   "metadata": {},
   "outputs": [
    {
     "data": {
      "text/plain": [
       "['Argentina', 'Canada', 'United States']"
      ]
     },
     "execution_count": 4,
     "metadata": {},
     "output_type": "execute_result"
    }
   ],
   "source": [
    "# recordamos que teníamos la siguiente variable con los paises a analizar:\n",
    "spv.paises"
   ]
  },
  {
   "cell_type": "code",
   "execution_count": 5,
   "metadata": {},
   "outputs": [
    {
     "name": "stdout",
     "output_type": "stream",
     "text": [
      "Status code extracción Argentina: 200\n",
      "Reason extracción Argentina: OK\n",
      "El resultado obtenido es una lista de diccionarios. Nº de elementos de la lista resultado: 87\n",
      "Las keys de cada diccionario son 6: dict_keys(['state-province', 'domains', 'name', 'country', 'web_pages', 'alpha_two_code'])\n",
      "Nº de elementos de la lista resultado de Argentina: 87\n",
      "Las keys de cada diccionario de Argentina son 6: dict_keys(['state-province', 'domains', 'name', 'country', 'web_pages', 'alpha_two_code'])\n",
      "Añadimos al dataframe resultado las 87 filas y 6 columnas de Argentina\n",
      "----------------------------------------\n",
      "Status code extracción Canada: 200\n",
      "Reason extracción Canada: OK\n",
      "El resultado obtenido es una lista de diccionarios. Nº de elementos de la lista resultado: 154\n",
      "Las keys de cada diccionario son 6: dict_keys(['state-province', 'domains', 'name', 'country', 'web_pages', 'alpha_two_code'])\n",
      "Nº de elementos de la lista resultado de Canada: 154\n",
      "Las keys de cada diccionario de Canada son 6: dict_keys(['state-province', 'domains', 'name', 'country', 'web_pages', 'alpha_two_code'])\n",
      "Añadimos al dataframe resultado las 154 filas y 6 columnas de Canada\n",
      "----------------------------------------\n",
      "Status code extracción United States: 200\n",
      "Reason extracción United States: OK\n",
      "El resultado obtenido es una lista de diccionarios. Nº de elementos de la lista resultado: 2281\n",
      "Las keys de cada diccionario son 6: dict_keys(['state-province', 'domains', 'name', 'country', 'web_pages', 'alpha_two_code'])\n",
      "Nº de elementos de la lista resultado de United States: 2281\n",
      "Las keys de cada diccionario de United States son 6: dict_keys(['state-province', 'domains', 'name', 'country', 'web_pages', 'alpha_two_code'])\n",
      "Añadimos al dataframe resultado las 2281 filas y 6 columnas de United States\n",
      "----------------------------------------\n",
      "El dataframe resultado tiene 2522 filas y 6 columnas\n"
     ]
    }
   ],
   "source": [
    "# En este caso son solo tres paises pero por si fueran más podríamos automatizar la obtención de los datos, una vez conocida su estructura de la siguiente manera:\n",
    "df = pd.DataFrame()\n",
    "for pais in spv.paises:\n",
    "    datos = spf.extraccion_json(pais)\n",
    "    print(f'Nº de elementos de la lista resultado de {pais}: {len(datos)}') # obtenemos el número de elementos\n",
    "    print(f'Las keys de cada diccionario de {pais} son {len(datos[0])}: {datos[0].keys()}')\n",
    "    df_pais = pd.DataFrame(datos)\n",
    "    print(f'Añadimos al dataframe resultado las {df_pais.shape[0]} filas y {df_pais.shape[1]} columnas de {pais}')\n",
    "    df = pd.concat([df, df_pais], axis=0, ignore_index=True) # concatenamos los dataframes, ignorando el índice\n",
    "    print('----------------------------------------')\n",
    "print(f'El dataframe resultado tiene {df.shape[0]} filas y {df.shape[1]} columnas')"
   ]
  },
  {
   "cell_type": "code",
   "execution_count": 6,
   "metadata": {},
   "outputs": [
    {
     "name": "stdout",
     "output_type": "stream",
     "text": [
      "EXPLORACIÓN DEL DATAFRAME ARGENTINA-CANADA-USA\n",
      "---------------------------------------------------------------------------\n",
      "Las primeras 5 filas del dataframe Argentina-Canada-USA son:\n"
     ]
    },
    {
     "data": {
      "text/html": [
       "<div>\n",
       "<style scoped>\n",
       "    .dataframe tbody tr th:only-of-type {\n",
       "        vertical-align: middle;\n",
       "    }\n",
       "\n",
       "    .dataframe tbody tr th {\n",
       "        vertical-align: top;\n",
       "    }\n",
       "\n",
       "    .dataframe thead th {\n",
       "        text-align: right;\n",
       "    }\n",
       "</style>\n",
       "<table border=\"1\" class=\"dataframe\">\n",
       "  <thead>\n",
       "    <tr style=\"text-align: right;\">\n",
       "      <th></th>\n",
       "      <th>state-province</th>\n",
       "      <th>domains</th>\n",
       "      <th>name</th>\n",
       "      <th>country</th>\n",
       "      <th>web_pages</th>\n",
       "      <th>alpha_two_code</th>\n",
       "    </tr>\n",
       "  </thead>\n",
       "  <tbody>\n",
       "    <tr>\n",
       "      <th>0</th>\n",
       "      <td>Buenos Aires</td>\n",
       "      <td>[atlantida.edu.ar]</td>\n",
       "      <td>Universidad Atlantida Argentina</td>\n",
       "      <td>Argentina</td>\n",
       "      <td>[http://www.atlantida.edu.ar/]</td>\n",
       "      <td>AR</td>\n",
       "    </tr>\n",
       "    <tr>\n",
       "      <th>1</th>\n",
       "      <td>Buenos Aires</td>\n",
       "      <td>[austral.edu.ar]</td>\n",
       "      <td>Universidad Austral Buenos Aires</td>\n",
       "      <td>Argentina</td>\n",
       "      <td>[http://www.austral.edu.ar/]</td>\n",
       "      <td>AR</td>\n",
       "    </tr>\n",
       "    <tr>\n",
       "      <th>2</th>\n",
       "      <td>Ciudad Autónoma de Buenos Aires</td>\n",
       "      <td>[caece.edu.ar]</td>\n",
       "      <td>Universidad CAECE, Buenos Aires</td>\n",
       "      <td>Argentina</td>\n",
       "      <td>[http://www.caece.edu.ar/]</td>\n",
       "      <td>AR</td>\n",
       "    </tr>\n",
       "    <tr>\n",
       "      <th>3</th>\n",
       "      <td>Ciudad Autónoma de Buenos Aires</td>\n",
       "      <td>[cema.edu.ar]</td>\n",
       "      <td>Instituto Universitario CEMA</td>\n",
       "      <td>Argentina</td>\n",
       "      <td>[http://www.cema.edu.ar/]</td>\n",
       "      <td>AR</td>\n",
       "    </tr>\n",
       "    <tr>\n",
       "      <th>4</th>\n",
       "      <td>Ciudad Autónoma de Buenos Aires</td>\n",
       "      <td>[iese.edu.ar]</td>\n",
       "      <td>Instituto de Enseñanza Superior del Ejército</td>\n",
       "      <td>Argentina</td>\n",
       "      <td>[http://www.iese.edu.ar/]</td>\n",
       "      <td>AR</td>\n",
       "    </tr>\n",
       "  </tbody>\n",
       "</table>\n",
       "</div>"
      ],
      "text/plain": [
       "                    state-province             domains  \\\n",
       "0                     Buenos Aires  [atlantida.edu.ar]   \n",
       "1                     Buenos Aires    [austral.edu.ar]   \n",
       "2  Ciudad Autónoma de Buenos Aires      [caece.edu.ar]   \n",
       "3  Ciudad Autónoma de Buenos Aires       [cema.edu.ar]   \n",
       "4  Ciudad Autónoma de Buenos Aires       [iese.edu.ar]   \n",
       "\n",
       "                                           name    country  \\\n",
       "0               Universidad Atlantida Argentina  Argentina   \n",
       "1              Universidad Austral Buenos Aires  Argentina   \n",
       "2               Universidad CAECE, Buenos Aires  Argentina   \n",
       "3                  Instituto Universitario CEMA  Argentina   \n",
       "4  Instituto de Enseñanza Superior del Ejército  Argentina   \n",
       "\n",
       "                        web_pages alpha_two_code  \n",
       "0  [http://www.atlantida.edu.ar/]             AR  \n",
       "1    [http://www.austral.edu.ar/]             AR  \n",
       "2      [http://www.caece.edu.ar/]             AR  \n",
       "3       [http://www.cema.edu.ar/]             AR  \n",
       "4       [http://www.iese.edu.ar/]             AR  "
      ]
     },
     "metadata": {},
     "output_type": "display_data"
    },
    {
     "name": "stdout",
     "output_type": "stream",
     "text": [
      "---------------------------------------------------------------------------\n",
      "Las últimas 5 filas del dataframe Argentina-Canada-USA son:\n"
     ]
    },
    {
     "data": {
      "text/html": [
       "<div>\n",
       "<style scoped>\n",
       "    .dataframe tbody tr th:only-of-type {\n",
       "        vertical-align: middle;\n",
       "    }\n",
       "\n",
       "    .dataframe tbody tr th {\n",
       "        vertical-align: top;\n",
       "    }\n",
       "\n",
       "    .dataframe thead th {\n",
       "        text-align: right;\n",
       "    }\n",
       "</style>\n",
       "<table border=\"1\" class=\"dataframe\">\n",
       "  <thead>\n",
       "    <tr style=\"text-align: right;\">\n",
       "      <th></th>\n",
       "      <th>state-province</th>\n",
       "      <th>domains</th>\n",
       "      <th>name</th>\n",
       "      <th>country</th>\n",
       "      <th>web_pages</th>\n",
       "      <th>alpha_two_code</th>\n",
       "    </tr>\n",
       "  </thead>\n",
       "  <tbody>\n",
       "    <tr>\n",
       "      <th>2517</th>\n",
       "      <td>None</td>\n",
       "      <td>[vul.edu]</td>\n",
       "      <td>Virginia University of Lynchburg</td>\n",
       "      <td>United States</td>\n",
       "      <td>[https://www.vul.edu/]</td>\n",
       "      <td>US</td>\n",
       "    </tr>\n",
       "    <tr>\n",
       "      <th>2518</th>\n",
       "      <td>None</td>\n",
       "      <td>[voorhees.edu]</td>\n",
       "      <td>Voorhees University</td>\n",
       "      <td>United States</td>\n",
       "      <td>[https://www.voorhees.edu/]</td>\n",
       "      <td>US</td>\n",
       "    </tr>\n",
       "    <tr>\n",
       "      <th>2519</th>\n",
       "      <td>None</td>\n",
       "      <td>[wvstate.edu]</td>\n",
       "      <td>West Virginia State University</td>\n",
       "      <td>United States</td>\n",
       "      <td>[https://www.wvstateu.edu/]</td>\n",
       "      <td>US</td>\n",
       "    </tr>\n",
       "    <tr>\n",
       "      <th>2520</th>\n",
       "      <td>None</td>\n",
       "      <td>[wileyc.edu]</td>\n",
       "      <td>Wiley College</td>\n",
       "      <td>United States</td>\n",
       "      <td>[https://www.wileyc.edu/]</td>\n",
       "      <td>US</td>\n",
       "    </tr>\n",
       "    <tr>\n",
       "      <th>2521</th>\n",
       "      <td>None</td>\n",
       "      <td>[wssu.edu]</td>\n",
       "      <td>Winston-Salem State University</td>\n",
       "      <td>United States</td>\n",
       "      <td>[https://www.wssu.edu/]</td>\n",
       "      <td>US</td>\n",
       "    </tr>\n",
       "  </tbody>\n",
       "</table>\n",
       "</div>"
      ],
      "text/plain": [
       "     state-province         domains                              name  \\\n",
       "2517           None       [vul.edu]  Virginia University of Lynchburg   \n",
       "2518           None  [voorhees.edu]               Voorhees University   \n",
       "2519           None   [wvstate.edu]    West Virginia State University   \n",
       "2520           None    [wileyc.edu]                     Wiley College   \n",
       "2521           None      [wssu.edu]    Winston-Salem State University   \n",
       "\n",
       "            country                    web_pages alpha_two_code  \n",
       "2517  United States       [https://www.vul.edu/]             US  \n",
       "2518  United States  [https://www.voorhees.edu/]             US  \n",
       "2519  United States  [https://www.wvstateu.edu/]             US  \n",
       "2520  United States    [https://www.wileyc.edu/]             US  \n",
       "2521  United States      [https://www.wssu.edu/]             US  "
      ]
     },
     "metadata": {},
     "output_type": "display_data"
    },
    {
     "name": "stdout",
     "output_type": "stream",
     "text": [
      "---------------------------------------------------------------------------\n",
      "A comntinuación se muestran 10 filas aleatorias del dataframe Argentina-Canada-USA:\n"
     ]
    },
    {
     "data": {
      "text/html": [
       "<div>\n",
       "<style scoped>\n",
       "    .dataframe tbody tr th:only-of-type {\n",
       "        vertical-align: middle;\n",
       "    }\n",
       "\n",
       "    .dataframe tbody tr th {\n",
       "        vertical-align: top;\n",
       "    }\n",
       "\n",
       "    .dataframe thead th {\n",
       "        text-align: right;\n",
       "    }\n",
       "</style>\n",
       "<table border=\"1\" class=\"dataframe\">\n",
       "  <thead>\n",
       "    <tr style=\"text-align: right;\">\n",
       "      <th></th>\n",
       "      <th>state-province</th>\n",
       "      <th>domains</th>\n",
       "      <th>name</th>\n",
       "      <th>country</th>\n",
       "      <th>web_pages</th>\n",
       "      <th>alpha_two_code</th>\n",
       "    </tr>\n",
       "  </thead>\n",
       "  <tbody>\n",
       "    <tr>\n",
       "      <th>1535</th>\n",
       "      <td>None</td>\n",
       "      <td>[asub.edu]</td>\n",
       "      <td>Arkansas State University-​Beebe</td>\n",
       "      <td>United States</td>\n",
       "      <td>[http://www.asub.edu]</td>\n",
       "      <td>US</td>\n",
       "    </tr>\n",
       "    <tr>\n",
       "      <th>2227</th>\n",
       "      <td>None</td>\n",
       "      <td>[cctech.edu]</td>\n",
       "      <td>Central Carolina Technical College</td>\n",
       "      <td>United States</td>\n",
       "      <td>[http://www.cctech.edu]</td>\n",
       "      <td>US</td>\n",
       "    </tr>\n",
       "    <tr>\n",
       "      <th>2216</th>\n",
       "      <td>None</td>\n",
       "      <td>[manor.edu]</td>\n",
       "      <td>Manor College</td>\n",
       "      <td>United States</td>\n",
       "      <td>[http://www.manor.edu]</td>\n",
       "      <td>US</td>\n",
       "    </tr>\n",
       "    <tr>\n",
       "      <th>1641</th>\n",
       "      <td>None</td>\n",
       "      <td>[portervillecollege.edu]</td>\n",
       "      <td>Porterville College</td>\n",
       "      <td>United States</td>\n",
       "      <td>[http://www.portervillecollege.edu]</td>\n",
       "      <td>US</td>\n",
       "    </tr>\n",
       "    <tr>\n",
       "      <th>626</th>\n",
       "      <td>None</td>\n",
       "      <td>[emerson.edu]</td>\n",
       "      <td>Emerson College</td>\n",
       "      <td>United States</td>\n",
       "      <td>[http://www.emerson.edu/]</td>\n",
       "      <td>US</td>\n",
       "    </tr>\n",
       "    <tr>\n",
       "      <th>2098</th>\n",
       "      <td>None</td>\n",
       "      <td>[carolinascollege.edu]</td>\n",
       "      <td>Carolinas College of Health Sciences</td>\n",
       "      <td>United States</td>\n",
       "      <td>[http://www.carolinascollege.edu]</td>\n",
       "      <td>US</td>\n",
       "    </tr>\n",
       "    <tr>\n",
       "      <th>469</th>\n",
       "      <td>None</td>\n",
       "      <td>[csub.edu, csubak.edu]</td>\n",
       "      <td>California State University, Bakersfield</td>\n",
       "      <td>United States</td>\n",
       "      <td>[http://www.csub.edu/]</td>\n",
       "      <td>US</td>\n",
       "    </tr>\n",
       "    <tr>\n",
       "      <th>628</th>\n",
       "      <td>None</td>\n",
       "      <td>[emory.edu]</td>\n",
       "      <td>Emory University</td>\n",
       "      <td>United States</td>\n",
       "      <td>[http://www.emory.edu/]</td>\n",
       "      <td>US</td>\n",
       "    </tr>\n",
       "    <tr>\n",
       "      <th>1667</th>\n",
       "      <td>None</td>\n",
       "      <td>[westhillscollege.com]</td>\n",
       "      <td>West Hills College-​Coalinga</td>\n",
       "      <td>United States</td>\n",
       "      <td>[http://www.westhillscollege.com]</td>\n",
       "      <td>US</td>\n",
       "    </tr>\n",
       "    <tr>\n",
       "      <th>239</th>\n",
       "      <td>Ontario</td>\n",
       "      <td>[torontomu.ca]</td>\n",
       "      <td>Toronto Metropolitan University</td>\n",
       "      <td>Canada</td>\n",
       "      <td>[https://www.torontomu.ca/]</td>\n",
       "      <td>CA</td>\n",
       "    </tr>\n",
       "  </tbody>\n",
       "</table>\n",
       "</div>"
      ],
      "text/plain": [
       "     state-province                   domains  \\\n",
       "1535           None                [asub.edu]   \n",
       "2227           None              [cctech.edu]   \n",
       "2216           None               [manor.edu]   \n",
       "1641           None  [portervillecollege.edu]   \n",
       "626            None             [emerson.edu]   \n",
       "2098           None    [carolinascollege.edu]   \n",
       "469            None    [csub.edu, csubak.edu]   \n",
       "628            None               [emory.edu]   \n",
       "1667           None    [westhillscollege.com]   \n",
       "239         Ontario            [torontomu.ca]   \n",
       "\n",
       "                                          name        country  \\\n",
       "1535          Arkansas State University-​Beebe  United States   \n",
       "2227        Central Carolina Technical College  United States   \n",
       "2216                             Manor College  United States   \n",
       "1641                       Porterville College  United States   \n",
       "626                            Emerson College  United States   \n",
       "2098      Carolinas College of Health Sciences  United States   \n",
       "469   California State University, Bakersfield  United States   \n",
       "628                           Emory University  United States   \n",
       "1667              West Hills College-​Coalinga  United States   \n",
       "239            Toronto Metropolitan University         Canada   \n",
       "\n",
       "                                web_pages alpha_two_code  \n",
       "1535                [http://www.asub.edu]             US  \n",
       "2227              [http://www.cctech.edu]             US  \n",
       "2216               [http://www.manor.edu]             US  \n",
       "1641  [http://www.portervillecollege.edu]             US  \n",
       "626             [http://www.emerson.edu/]             US  \n",
       "2098    [http://www.carolinascollege.edu]             US  \n",
       "469                [http://www.csub.edu/]             US  \n",
       "628               [http://www.emory.edu/]             US  \n",
       "1667    [http://www.westhillscollege.com]             US  \n",
       "239           [https://www.torontomu.ca/]             CA  "
      ]
     },
     "metadata": {},
     "output_type": "display_data"
    },
    {
     "name": "stdout",
     "output_type": "stream",
     "text": [
      "---------------------------------------------------------------------------\n",
      "El dataframe Argentina-Canada-USA tiene 2522 filas y 6 columnas\n",
      "---------------------------------------------------------------------------\n",
      "A continuación el resultado del método .info() incluyendo los tipos de dato de cada columna:\n",
      "<class 'pandas.core.frame.DataFrame'>\n",
      "RangeIndex: 2522 entries, 0 to 2521\n",
      "Data columns (total 6 columns):\n",
      " #   Column          Non-Null Count  Dtype \n",
      "---  ------          --------------  ----- \n",
      " 0   state-province  273 non-null    object\n",
      " 1   domains         2522 non-null   object\n",
      " 2   name            2522 non-null   object\n",
      " 3   country         2522 non-null   object\n",
      " 4   web_pages       2522 non-null   object\n",
      " 5   alpha_two_code  2522 non-null   object\n",
      "dtypes: object(6)\n",
      "memory usage: 118.3+ KB\n",
      "---------------------------------------------------------------------------\n",
      "El número de nulos por columna en valor absoluto y porcentaje es:\n",
      "state-province: nº de nulos: 2249. % de nulos: 89.18 %\n",
      "domains: nº de nulos: 0. % de nulos: 0.0 %\n",
      "name: nº de nulos: 0. % de nulos: 0.0 %\n",
      "country: nº de nulos: 0. % de nulos: 0.0 %\n",
      "web_pages: nº de nulos: 0. % de nulos: 0.0 %\n",
      "alpha_two_code: nº de nulos: 0. % de nulos: 0.0 %\n",
      "---------------------------------------------------------------------------\n",
      "Ha ocurrido un error. No se ha podido comprobar si el dataframe Argentina-Canada-USA tiene filas duplicdas\n",
      "---------------------------------------------------------------------------\n",
      "---------------------------------------------------------------------------\n",
      "Los principales estadísticos de las columnas categóricas son:\n"
     ]
    },
    {
     "data": {
      "text/html": [
       "<div>\n",
       "<style scoped>\n",
       "    .dataframe tbody tr th:only-of-type {\n",
       "        vertical-align: middle;\n",
       "    }\n",
       "\n",
       "    .dataframe tbody tr th {\n",
       "        vertical-align: top;\n",
       "    }\n",
       "\n",
       "    .dataframe thead th {\n",
       "        text-align: right;\n",
       "    }\n",
       "</style>\n",
       "<table border=\"1\" class=\"dataframe\">\n",
       "  <thead>\n",
       "    <tr style=\"text-align: right;\">\n",
       "      <th></th>\n",
       "      <th>count</th>\n",
       "      <th>unique</th>\n",
       "      <th>top</th>\n",
       "      <th>freq</th>\n",
       "    </tr>\n",
       "  </thead>\n",
       "  <tbody>\n",
       "    <tr>\n",
       "      <th>state-province</th>\n",
       "      <td>273</td>\n",
       "      <td>49</td>\n",
       "      <td>Ontario</td>\n",
       "      <td>46</td>\n",
       "    </tr>\n",
       "    <tr>\n",
       "      <th>domains</th>\n",
       "      <td>2522</td>\n",
       "      <td>2491</td>\n",
       "      <td>[ccc.edu]</td>\n",
       "      <td>7</td>\n",
       "    </tr>\n",
       "    <tr>\n",
       "      <th>name</th>\n",
       "      <td>2522</td>\n",
       "      <td>2507</td>\n",
       "      <td>Southeastern Community College</td>\n",
       "      <td>2</td>\n",
       "    </tr>\n",
       "    <tr>\n",
       "      <th>country</th>\n",
       "      <td>2522</td>\n",
       "      <td>3</td>\n",
       "      <td>United States</td>\n",
       "      <td>2281</td>\n",
       "    </tr>\n",
       "    <tr>\n",
       "      <th>web_pages</th>\n",
       "      <td>2522</td>\n",
       "      <td>2519</td>\n",
       "      <td>[http://www.coastalpines.edu/]</td>\n",
       "      <td>2</td>\n",
       "    </tr>\n",
       "    <tr>\n",
       "      <th>alpha_two_code</th>\n",
       "      <td>2522</td>\n",
       "      <td>3</td>\n",
       "      <td>US</td>\n",
       "      <td>2281</td>\n",
       "    </tr>\n",
       "  </tbody>\n",
       "</table>\n",
       "</div>"
      ],
      "text/plain": [
       "               count unique                             top  freq\n",
       "state-province   273     49                         Ontario    46\n",
       "domains         2522   2491                       [ccc.edu]     7\n",
       "name            2522   2507  Southeastern Community College     2\n",
       "country         2522      3                   United States  2281\n",
       "web_pages       2522   2519  [http://www.coastalpines.edu/]     2\n",
       "alpha_two_code  2522      3                              US  2281"
      ]
     },
     "metadata": {},
     "output_type": "display_data"
    },
    {
     "name": "stdout",
     "output_type": "stream",
     "text": [
      "---------------------------------------------------------------------------\n",
      "El dataframe Argentina-Canada-USA tiene las siguientes columnas: \n",
      "Index(['state-province', 'domains', 'name', 'country', 'web_pages',\n",
      "       'alpha_two_code'],\n",
      "      dtype='object')\n",
      "---------------------------------------------------------------------------\n",
      "El numero de valores distintos de cada columna es:\n",
      "state-province: 49\n",
      "domains: 2491\n",
      "name: 2507\n",
      "country: 3\n",
      "Los valores únicos de la columna \"country\" son: ['Argentina' 'Canada' 'United States']\n",
      "web_pages: 2519\n",
      "alpha_two_code: 3\n",
      "Los valores únicos de la columna \"alpha_two_code\" son: ['AR' 'CA' 'US']\n"
     ]
    }
   ],
   "source": [
    "# Antes de continuar realizamos una pequeña exploración del dataframe con la siguiente función, la cual la tenemos en la biblioteca_funciones.py\n",
    "spf.explorar_df(df, nombre = 'Argentina-Canada-USA')"
   ]
  },
  {
   "attachments": {},
   "cell_type": "markdown",
   "metadata": {},
   "source": [
    "2. Una vez tengáis todos los datos de la API, deberéis realizar una serie de procesos de limpieza, estos incluyen:  \n",
    "    - Cambiad los nombres de las columnas para homogeneizarlas, tenemos columnas que tienen - y otras _. Unifícalo para que todo vaya con _.   \n",
    "    - La columna de domains nos da una información similar a la de web_pages. Eliminad la columna domains.  "
   ]
  },
  {
   "cell_type": "code",
   "execution_count": 7,
   "metadata": {},
   "outputs": [
    {
     "data": {
      "text/plain": [
       "RangeIndex(start=0, stop=2522, step=1)"
      ]
     },
     "execution_count": 7,
     "metadata": {},
     "output_type": "execute_result"
    }
   ],
   "source": [
    "# comprobamos que el índice es continuo\n",
    "df.index"
   ]
  },
  {
   "cell_type": "code",
   "execution_count": 8,
   "metadata": {},
   "outputs": [
    {
     "data": {
      "text/html": [
       "<div>\n",
       "<style scoped>\n",
       "    .dataframe tbody tr th:only-of-type {\n",
       "        vertical-align: middle;\n",
       "    }\n",
       "\n",
       "    .dataframe tbody tr th {\n",
       "        vertical-align: top;\n",
       "    }\n",
       "\n",
       "    .dataframe thead th {\n",
       "        text-align: right;\n",
       "    }\n",
       "</style>\n",
       "<table border=\"1\" class=\"dataframe\">\n",
       "  <thead>\n",
       "    <tr style=\"text-align: right;\">\n",
       "      <th></th>\n",
       "      <th>state-province</th>\n",
       "      <th>domains</th>\n",
       "      <th>name</th>\n",
       "      <th>country</th>\n",
       "      <th>web_pages</th>\n",
       "      <th>alpha_two_code</th>\n",
       "    </tr>\n",
       "  </thead>\n",
       "  <tbody>\n",
       "    <tr>\n",
       "      <th>2412</th>\n",
       "      <td>None</td>\n",
       "      <td>[koc.alaska.edu]</td>\n",
       "      <td>Kodiak College</td>\n",
       "      <td>United States</td>\n",
       "      <td>[http://koc.alaska.edu]</td>\n",
       "      <td>US</td>\n",
       "    </tr>\n",
       "  </tbody>\n",
       "</table>\n",
       "</div>"
      ],
      "text/plain": [
       "     state-province           domains            name        country  \\\n",
       "2412           None  [koc.alaska.edu]  Kodiak College  United States   \n",
       "\n",
       "                    web_pages alpha_two_code  \n",
       "2412  [http://koc.alaska.edu]             US  "
      ]
     },
     "execution_count": 8,
     "metadata": {},
     "output_type": "execute_result"
    }
   ],
   "source": [
    "# antes de continuar realizamos una copia del dataframe original para realizar la limpieza sobre él\n",
    "df2 = df.copy()\n",
    "df2.sample()"
   ]
  },
  {
   "cell_type": "code",
   "execution_count": 9,
   "metadata": {},
   "outputs": [
    {
     "data": {
      "text/plain": [
       "Index(['state_province', 'domains', 'name', 'country', 'web_pages',\n",
       "       'alpha_two_code'],\n",
       "      dtype='object')"
      ]
     },
     "execution_count": 9,
     "metadata": {},
     "output_type": "execute_result"
    }
   ],
   "source": [
    "# realizamos la homogeneización de columnas. Además de reemplazar los '-' por '_' utilizamos un .strip() por si hubiera algún espacio al inicio o el final que no vieramos\n",
    "col_new = {col : col.strip().replace('-', '_') for col in df.columns} \n",
    "df2 = df2.rename(columns = col_new)\n",
    "df2.columns"
   ]
  },
  {
   "cell_type": "code",
   "execution_count": 10,
   "metadata": {},
   "outputs": [
    {
     "data": {
      "text/html": [
       "<div>\n",
       "<style scoped>\n",
       "    .dataframe tbody tr th:only-of-type {\n",
       "        vertical-align: middle;\n",
       "    }\n",
       "\n",
       "    .dataframe tbody tr th {\n",
       "        vertical-align: top;\n",
       "    }\n",
       "\n",
       "    .dataframe thead th {\n",
       "        text-align: right;\n",
       "    }\n",
       "</style>\n",
       "<table border=\"1\" class=\"dataframe\">\n",
       "  <thead>\n",
       "    <tr style=\"text-align: right;\">\n",
       "      <th></th>\n",
       "      <th>country</th>\n",
       "      <th>state_province</th>\n",
       "      <th>web_pages</th>\n",
       "      <th>name</th>\n",
       "      <th>domains</th>\n",
       "      <th>alpha_two_code</th>\n",
       "    </tr>\n",
       "  </thead>\n",
       "  <tbody>\n",
       "    <tr>\n",
       "      <th>1341</th>\n",
       "      <td>United States</td>\n",
       "      <td>None</td>\n",
       "      <td>[http://www.usm.edu/]</td>\n",
       "      <td>University of Southern Mississippi</td>\n",
       "      <td>[usm.edu]</td>\n",
       "      <td>US</td>\n",
       "    </tr>\n",
       "  </tbody>\n",
       "</table>\n",
       "</div>"
      ],
      "text/plain": [
       "            country state_province              web_pages  \\\n",
       "1341  United States           None  [http://www.usm.edu/]   \n",
       "\n",
       "                                    name    domains alpha_two_code  \n",
       "1341  University of Southern Mississippi  [usm.edu]             US  "
      ]
     },
     "execution_count": 10,
     "metadata": {},
     "output_type": "execute_result"
    }
   ],
   "source": [
    "df2 = df2.reindex(columns=[df2.columns[3], df2.columns[0], df2.columns[4], df2.columns[2], df2.columns[1], df2.columns[-1]]) # ordenamos las columnas \n",
    "df2.sample()"
   ]
  },
  {
   "cell_type": "code",
   "execution_count": 11,
   "metadata": {},
   "outputs": [
    {
     "data": {
      "text/html": [
       "<div>\n",
       "<style scoped>\n",
       "    .dataframe tbody tr th:only-of-type {\n",
       "        vertical-align: middle;\n",
       "    }\n",
       "\n",
       "    .dataframe tbody tr th {\n",
       "        vertical-align: top;\n",
       "    }\n",
       "\n",
       "    .dataframe thead th {\n",
       "        text-align: right;\n",
       "    }\n",
       "</style>\n",
       "<table border=\"1\" class=\"dataframe\">\n",
       "  <thead>\n",
       "    <tr style=\"text-align: right;\">\n",
       "      <th></th>\n",
       "      <th>country</th>\n",
       "      <th>state_province</th>\n",
       "      <th>web_pages</th>\n",
       "      <th>name</th>\n",
       "      <th>alpha_two_code</th>\n",
       "    </tr>\n",
       "  </thead>\n",
       "  <tbody>\n",
       "    <tr>\n",
       "      <th>1561</th>\n",
       "      <td>United States</td>\n",
       "      <td>None</td>\n",
       "      <td>[http://www.berkeleycitycollege.edu/wp/]</td>\n",
       "      <td>Berkeley City College</td>\n",
       "      <td>US</td>\n",
       "    </tr>\n",
       "  </tbody>\n",
       "</table>\n",
       "</div>"
      ],
      "text/plain": [
       "            country state_province                                 web_pages  \\\n",
       "1561  United States           None  [http://www.berkeleycitycollege.edu/wp/]   \n",
       "\n",
       "                       name alpha_two_code  \n",
       "1561  Berkeley City College             US  "
      ]
     },
     "execution_count": 11,
     "metadata": {},
     "output_type": "execute_result"
    }
   ],
   "source": [
    "# eliminamos la columna con información duplicada\n",
    "df2.drop(columns='domains', inplace=True)\n",
    "df2.sample()"
   ]
  },
  {
   "cell_type": "markdown",
   "metadata": {},
   "source": [
    "3. Si exploramos la columna de web_pages, nos daremos cuenta que hay universidades, como por ejemplo la Universidad de \"Cégep de Saint-Jérôme\" de Canadá que en su columna de web_pages tiene más de un valor dentro de la lista. Esto es poco práctico y puede llegar a no tener sentido. el objetivo de este ejericio es que usando el método explode de pandas separéis cada elemento de la lista en una fila nueva. [Aquí](https://pandas.pydata.org/docs/reference/api/pandas.DataFrame.explode.html) tenéis la documentación de este método."
   ]
  },
  {
   "cell_type": "code",
   "execution_count": 12,
   "metadata": {},
   "outputs": [
    {
     "name": "stdout",
     "output_type": "stream",
     "text": [
      "Cégep de Saint-Jérôme ----> ['https://www.cstj.qc.ca', 'https://ccmt.cstj.qc.ca', 'https://ccml.cstj.qc.ca']\n",
      "Langara College ----> ['http://www.langara.bc.ca/', 'https://langara.ca/']\n",
      "St. Mary's University ----> ['http://www.stmarys.ca/', 'https://smu.ca/']\n",
      "Augusta University ----> ['http://www.augusta.edu/', 'http://www.gru.edu/']\n",
      "California State University, Fresno ----> ['http://www.csufresno.edu/', 'http://www.fresnostate.edu/']\n",
      "Capella University ----> ['http://www.capella.edu/', 'http://www.capellauniversity.edu/']\n",
      "Colorado Technical University ----> ['http://www.coloradotech.edu/', 'http://www.ctuonline.edu/']\n",
      "Thomas Edison State University ----> ['http://www.tesc.edu/', 'http://www.tesu.edu/']\n",
      "United States Air Force Academy ----> ['http://www.usafa.af.mil/', 'http://www.usafa.edu/']\n",
      "University of Texas Southwestern Medical Center ----> ['http://www.swmed.edu/', 'http://www.utsouthwestern.edu/']\n",
      "University of the Incarnate Word ----> ['http://www.uiw.edu/', 'http://www.uiwtx.edu/']\n",
      "University of the Pacific ----> ['http://www.uop.edu/', 'http://www.pacific.edu/']\n"
     ]
    }
   ],
   "source": [
    "# comprobamos lo que nos indica el enunciado\n",
    "for indice, row in df2.iterrows():\n",
    "    if len(row['web_pages']) > 1:\n",
    "        print(f'{row[\"name\"]} ----> {row[\"web_pages\"]}')\n"
   ]
  },
  {
   "cell_type": "code",
   "execution_count": 13,
   "metadata": {},
   "outputs": [
    {
     "name": "stdout",
     "output_type": "stream",
     "text": [
      "El nuevo dataframe tiene 2535 filas y 5 columnas\n"
     ]
    },
    {
     "data": {
      "text/html": [
       "<div>\n",
       "<style scoped>\n",
       "    .dataframe tbody tr th:only-of-type {\n",
       "        vertical-align: middle;\n",
       "    }\n",
       "\n",
       "    .dataframe tbody tr th {\n",
       "        vertical-align: top;\n",
       "    }\n",
       "\n",
       "    .dataframe thead th {\n",
       "        text-align: right;\n",
       "    }\n",
       "</style>\n",
       "<table border=\"1\" class=\"dataframe\">\n",
       "  <thead>\n",
       "    <tr style=\"text-align: right;\">\n",
       "      <th></th>\n",
       "      <th>country</th>\n",
       "      <th>state_province</th>\n",
       "      <th>web_pages</th>\n",
       "      <th>name</th>\n",
       "      <th>alpha_two_code</th>\n",
       "    </tr>\n",
       "  </thead>\n",
       "  <tbody>\n",
       "    <tr>\n",
       "      <th>1995</th>\n",
       "      <td>United States</td>\n",
       "      <td>None</td>\n",
       "      <td>http://milescc.edu/</td>\n",
       "      <td>Miles Community College</td>\n",
       "      <td>US</td>\n",
       "    </tr>\n",
       "  </tbody>\n",
       "</table>\n",
       "</div>"
      ],
      "text/plain": [
       "            country state_province            web_pages  \\\n",
       "1995  United States           None  http://milescc.edu/   \n",
       "\n",
       "                         name alpha_two_code  \n",
       "1995  Miles Community College             US  "
      ]
     },
     "execution_count": 13,
     "metadata": {},
     "output_type": "execute_result"
    }
   ],
   "source": [
    "# separamos con el método .explode()\n",
    "df2 = df2.explode('web_pages')\n",
    "print(f'El nuevo dataframe tiene {df2.shape[0]} filas y {df2.shape[1]} columnas')\n",
    "df2.sample()"
   ]
  },
  {
   "cell_type": "code",
   "execution_count": 14,
   "metadata": {},
   "outputs": [
    {
     "data": {
      "text/plain": [
       "Int64Index([   0,    1,    2,    3,    4,    5,    6,    7,    8,    9,\n",
       "            ...\n",
       "            2512, 2513, 2514, 2515, 2516, 2517, 2518, 2519, 2520, 2521],\n",
       "           dtype='int64', length=2535)"
      ]
     },
     "execution_count": 14,
     "metadata": {},
     "output_type": "execute_result"
    }
   ],
   "source": [
    "# nos fijamos en que tenemos un index no continuo\n",
    "df2.index"
   ]
  },
  {
   "cell_type": "code",
   "execution_count": 15,
   "metadata": {},
   "outputs": [
    {
     "data": {
      "text/html": [
       "<div>\n",
       "<style scoped>\n",
       "    .dataframe tbody tr th:only-of-type {\n",
       "        vertical-align: middle;\n",
       "    }\n",
       "\n",
       "    .dataframe tbody tr th {\n",
       "        vertical-align: top;\n",
       "    }\n",
       "\n",
       "    .dataframe thead th {\n",
       "        text-align: right;\n",
       "    }\n",
       "</style>\n",
       "<table border=\"1\" class=\"dataframe\">\n",
       "  <thead>\n",
       "    <tr style=\"text-align: right;\">\n",
       "      <th></th>\n",
       "      <th>country</th>\n",
       "      <th>state_province</th>\n",
       "      <th>web_pages</th>\n",
       "      <th>name</th>\n",
       "      <th>alpha_two_code</th>\n",
       "    </tr>\n",
       "  </thead>\n",
       "  <tbody>\n",
       "    <tr>\n",
       "      <th>1161</th>\n",
       "      <td>United States</td>\n",
       "      <td>None</td>\n",
       "      <td>http://www.tamuc.edu/</td>\n",
       "      <td>Texas A&amp;M University - Commerce</td>\n",
       "      <td>US</td>\n",
       "    </tr>\n",
       "  </tbody>\n",
       "</table>\n",
       "</div>"
      ],
      "text/plain": [
       "            country state_province              web_pages  \\\n",
       "1161  United States           None  http://www.tamuc.edu/   \n",
       "\n",
       "                                 name alpha_two_code  \n",
       "1161  Texas A&M University - Commerce             US  "
      ]
     },
     "execution_count": 15,
     "metadata": {},
     "output_type": "execute_result"
    }
   ],
   "source": [
    "# reseteamos el índice\n",
    "df2.reset_index(drop=True, inplace=True)\n",
    "df2.sample()"
   ]
  },
  {
   "cell_type": "code",
   "execution_count": 16,
   "metadata": {},
   "outputs": [
    {
     "data": {
      "text/plain": [
       "RangeIndex(start=0, stop=2535, step=1)"
      ]
     },
     "execution_count": 16,
     "metadata": {},
     "output_type": "execute_result"
    }
   ],
   "source": [
    "# ahora sí es contínuo\n",
    "df2.index"
   ]
  },
  {
   "attachments": {},
   "cell_type": "markdown",
   "metadata": {},
   "source": [
    "4. Una vez hayáis realizado el explode, chequead si tenéis duplicados basándonos unicamente en el nombre de la universidad, en caso de que si, eliminandlos."
   ]
  },
  {
   "cell_type": "code",
   "execution_count": 17,
   "metadata": {},
   "outputs": [
    {
     "name": "stdout",
     "output_type": "stream",
     "text": [
      "Si filtramos por la columna \"name\" tenemos 28 duplicados\n"
     ]
    }
   ],
   "source": [
    "# chequeamos que tenemos 28 duplicados si nos basamos en la columna 'name'\n",
    "print(f'Si filtramos por la columna \"name\" tenemos {df2[\"name\"].duplicated().sum()} duplicados')"
   ]
  },
  {
   "cell_type": "code",
   "execution_count": 18,
   "metadata": {},
   "outputs": [
    {
     "name": "stdout",
     "output_type": "stream",
     "text": [
      "El dataframe de los duplicados a eliminar tiene 28 filas y 5 columnas y se muestra a continuación:\n"
     ]
    },
    {
     "data": {
      "text/html": [
       "<div>\n",
       "<style scoped>\n",
       "    .dataframe tbody tr th:only-of-type {\n",
       "        vertical-align: middle;\n",
       "    }\n",
       "\n",
       "    .dataframe tbody tr th {\n",
       "        vertical-align: top;\n",
       "    }\n",
       "\n",
       "    .dataframe thead th {\n",
       "        text-align: right;\n",
       "    }\n",
       "</style>\n",
       "<table border=\"1\" class=\"dataframe\">\n",
       "  <thead>\n",
       "    <tr style=\"text-align: right;\">\n",
       "      <th></th>\n",
       "      <th>country</th>\n",
       "      <th>state_province</th>\n",
       "      <th>web_pages</th>\n",
       "      <th>name</th>\n",
       "      <th>alpha_two_code</th>\n",
       "    </tr>\n",
       "  </thead>\n",
       "  <tbody>\n",
       "    <tr>\n",
       "      <th>88</th>\n",
       "      <td>Canada</td>\n",
       "      <td>Quebec</td>\n",
       "      <td>https://ccmt.cstj.qc.ca</td>\n",
       "      <td>Cégep de Saint-Jérôme</td>\n",
       "      <td>CA</td>\n",
       "    </tr>\n",
       "    <tr>\n",
       "      <th>89</th>\n",
       "      <td>Canada</td>\n",
       "      <td>Quebec</td>\n",
       "      <td>https://ccml.cstj.qc.ca</td>\n",
       "      <td>Cégep de Saint-Jérôme</td>\n",
       "      <td>CA</td>\n",
       "    </tr>\n",
       "    <tr>\n",
       "      <th>138</th>\n",
       "      <td>Canada</td>\n",
       "      <td>British Columbia</td>\n",
       "      <td>https://langara.ca/</td>\n",
       "      <td>Langara College</td>\n",
       "      <td>CA</td>\n",
       "    </tr>\n",
       "    <tr>\n",
       "      <th>179</th>\n",
       "      <td>Canada</td>\n",
       "      <td>None</td>\n",
       "      <td>https://smu.ca/</td>\n",
       "      <td>St. Mary's University</td>\n",
       "      <td>CA</td>\n",
       "    </tr>\n",
       "    <tr>\n",
       "      <th>410</th>\n",
       "      <td>United States</td>\n",
       "      <td>None</td>\n",
       "      <td>http://www.gru.edu/</td>\n",
       "      <td>Augusta University</td>\n",
       "      <td>US</td>\n",
       "    </tr>\n",
       "    <tr>\n",
       "      <th>478</th>\n",
       "      <td>United States</td>\n",
       "      <td>None</td>\n",
       "      <td>http://www.fresnostate.edu/</td>\n",
       "      <td>California State University, Fresno</td>\n",
       "      <td>US</td>\n",
       "    </tr>\n",
       "    <tr>\n",
       "      <th>497</th>\n",
       "      <td>United States</td>\n",
       "      <td>None</td>\n",
       "      <td>http://www.capellauniversity.edu/</td>\n",
       "      <td>Capella University</td>\n",
       "      <td>US</td>\n",
       "    </tr>\n",
       "    <tr>\n",
       "      <th>563</th>\n",
       "      <td>United States</td>\n",
       "      <td>None</td>\n",
       "      <td>http://www.ctuonline.edu/</td>\n",
       "      <td>Colorado Technical University</td>\n",
       "      <td>US</td>\n",
       "    </tr>\n",
       "    <tr>\n",
       "      <th>601</th>\n",
       "      <td>United States</td>\n",
       "      <td>None</td>\n",
       "      <td>http://www.devry.edu/</td>\n",
       "      <td>DeVry Institute of Technology</td>\n",
       "      <td>US</td>\n",
       "    </tr>\n",
       "    <tr>\n",
       "      <th>777</th>\n",
       "      <td>United States</td>\n",
       "      <td>None</td>\n",
       "      <td>http://www.kings.edu/</td>\n",
       "      <td>King's College</td>\n",
       "      <td>US</td>\n",
       "    </tr>\n",
       "    <tr>\n",
       "      <th>816</th>\n",
       "      <td>United States</td>\n",
       "      <td>None</td>\n",
       "      <td>http://www.luther.edu/</td>\n",
       "      <td>Luther College</td>\n",
       "      <td>US</td>\n",
       "    </tr>\n",
       "    <tr>\n",
       "      <th>1174</th>\n",
       "      <td>United States</td>\n",
       "      <td>None</td>\n",
       "      <td>http://www.tesu.edu/</td>\n",
       "      <td>Thomas Edison State University</td>\n",
       "      <td>US</td>\n",
       "    </tr>\n",
       "    <tr>\n",
       "      <th>1196</th>\n",
       "      <td>United States</td>\n",
       "      <td>None</td>\n",
       "      <td>http://www.usafa.edu/</td>\n",
       "      <td>United States Air Force Academy</td>\n",
       "      <td>US</td>\n",
       "    </tr>\n",
       "    <tr>\n",
       "      <th>1368</th>\n",
       "      <td>United States</td>\n",
       "      <td>None</td>\n",
       "      <td>http://www.utsouthwestern.edu/</td>\n",
       "      <td>University of Texas Southwestern Medical Center</td>\n",
       "      <td>US</td>\n",
       "    </tr>\n",
       "    <tr>\n",
       "      <th>1372</th>\n",
       "      <td>United States</td>\n",
       "      <td>None</td>\n",
       "      <td>http://www.uiwtx.edu/</td>\n",
       "      <td>University of the Incarnate Word</td>\n",
       "      <td>US</td>\n",
       "    </tr>\n",
       "    <tr>\n",
       "      <th>1375</th>\n",
       "      <td>United States</td>\n",
       "      <td>None</td>\n",
       "      <td>http://www.pacific.edu/</td>\n",
       "      <td>University of the Pacific</td>\n",
       "      <td>US</td>\n",
       "    </tr>\n",
       "    <tr>\n",
       "      <th>1462</th>\n",
       "      <td>United States</td>\n",
       "      <td>None</td>\n",
       "      <td>http://www.westminster-mo.edu/</td>\n",
       "      <td>Westminster College</td>\n",
       "      <td>US</td>\n",
       "    </tr>\n",
       "    <tr>\n",
       "      <th>1507</th>\n",
       "      <td>United States</td>\n",
       "      <td>None</td>\n",
       "      <td>http://www.duke.edu</td>\n",
       "      <td>Duke University</td>\n",
       "      <td>US</td>\n",
       "    </tr>\n",
       "    <tr>\n",
       "      <th>1615</th>\n",
       "      <td>United States</td>\n",
       "      <td>None</td>\n",
       "      <td>http://www.glendale.edu</td>\n",
       "      <td>Glendale Community College</td>\n",
       "      <td>US</td>\n",
       "    </tr>\n",
       "    <tr>\n",
       "      <th>1769</th>\n",
       "      <td>United States</td>\n",
       "      <td>None</td>\n",
       "      <td>http://www.cod.edu</td>\n",
       "      <td>College of DuPage</td>\n",
       "      <td>US</td>\n",
       "    </tr>\n",
       "    <tr>\n",
       "      <th>1835</th>\n",
       "      <td>United States</td>\n",
       "      <td>None</td>\n",
       "      <td>http://www.highlandcc.edu</td>\n",
       "      <td>Highland Community College</td>\n",
       "      <td>US</td>\n",
       "    </tr>\n",
       "    <tr>\n",
       "      <th>1900</th>\n",
       "      <td>United States</td>\n",
       "      <td>None</td>\n",
       "      <td>http://www.middlesex.mass.edu</td>\n",
       "      <td>Middlesex Community College</td>\n",
       "      <td>US</td>\n",
       "    </tr>\n",
       "    <tr>\n",
       "      <th>1997</th>\n",
       "      <td>United States</td>\n",
       "      <td>None</td>\n",
       "      <td>http://www.trcc.edu</td>\n",
       "      <td>Three Rivers Community College</td>\n",
       "      <td>US</td>\n",
       "    </tr>\n",
       "    <tr>\n",
       "      <th>2021</th>\n",
       "      <td>United States</td>\n",
       "      <td>None</td>\n",
       "      <td>http://www.mccnh.edu</td>\n",
       "      <td>Manchester Community College</td>\n",
       "      <td>US</td>\n",
       "    </tr>\n",
       "    <tr>\n",
       "      <th>2150</th>\n",
       "      <td>United States</td>\n",
       "      <td>None</td>\n",
       "      <td>http://www.sccnc.edu</td>\n",
       "      <td>Southeastern Community College</td>\n",
       "      <td>US</td>\n",
       "    </tr>\n",
       "    <tr>\n",
       "      <th>2152</th>\n",
       "      <td>United States</td>\n",
       "      <td>None</td>\n",
       "      <td>http://www.southwesterncc.edu</td>\n",
       "      <td>Southwestern Community College</td>\n",
       "      <td>US</td>\n",
       "    </tr>\n",
       "    <tr>\n",
       "      <th>2338</th>\n",
       "      <td>United States</td>\n",
       "      <td>None</td>\n",
       "      <td>http://www.brcc.edu</td>\n",
       "      <td>Blue Ridge Community College</td>\n",
       "      <td>US</td>\n",
       "    </tr>\n",
       "    <tr>\n",
       "      <th>2419</th>\n",
       "      <td>United States</td>\n",
       "      <td>None</td>\n",
       "      <td>http://www.sheridan.edu</td>\n",
       "      <td>Sheridan College</td>\n",
       "      <td>US</td>\n",
       "    </tr>\n",
       "  </tbody>\n",
       "</table>\n",
       "</div>"
      ],
      "text/plain": [
       "            country    state_province                          web_pages  \\\n",
       "88           Canada            Quebec            https://ccmt.cstj.qc.ca   \n",
       "89           Canada            Quebec            https://ccml.cstj.qc.ca   \n",
       "138          Canada  British Columbia                https://langara.ca/   \n",
       "179          Canada              None                    https://smu.ca/   \n",
       "410   United States              None                http://www.gru.edu/   \n",
       "478   United States              None        http://www.fresnostate.edu/   \n",
       "497   United States              None  http://www.capellauniversity.edu/   \n",
       "563   United States              None          http://www.ctuonline.edu/   \n",
       "601   United States              None              http://www.devry.edu/   \n",
       "777   United States              None              http://www.kings.edu/   \n",
       "816   United States              None             http://www.luther.edu/   \n",
       "1174  United States              None               http://www.tesu.edu/   \n",
       "1196  United States              None              http://www.usafa.edu/   \n",
       "1368  United States              None     http://www.utsouthwestern.edu/   \n",
       "1372  United States              None              http://www.uiwtx.edu/   \n",
       "1375  United States              None            http://www.pacific.edu/   \n",
       "1462  United States              None     http://www.westminster-mo.edu/   \n",
       "1507  United States              None                http://www.duke.edu   \n",
       "1615  United States              None            http://www.glendale.edu   \n",
       "1769  United States              None                 http://www.cod.edu   \n",
       "1835  United States              None          http://www.highlandcc.edu   \n",
       "1900  United States              None      http://www.middlesex.mass.edu   \n",
       "1997  United States              None                http://www.trcc.edu   \n",
       "2021  United States              None               http://www.mccnh.edu   \n",
       "2150  United States              None               http://www.sccnc.edu   \n",
       "2152  United States              None      http://www.southwesterncc.edu   \n",
       "2338  United States              None                http://www.brcc.edu   \n",
       "2419  United States              None            http://www.sheridan.edu   \n",
       "\n",
       "                                                 name alpha_two_code  \n",
       "88                              Cégep de Saint-Jérôme             CA  \n",
       "89                              Cégep de Saint-Jérôme             CA  \n",
       "138                                   Langara College             CA  \n",
       "179                             St. Mary's University             CA  \n",
       "410                                Augusta University             US  \n",
       "478               California State University, Fresno             US  \n",
       "497                                Capella University             US  \n",
       "563                     Colorado Technical University             US  \n",
       "601                     DeVry Institute of Technology             US  \n",
       "777                                    King's College             US  \n",
       "816                                    Luther College             US  \n",
       "1174                   Thomas Edison State University             US  \n",
       "1196                  United States Air Force Academy             US  \n",
       "1368  University of Texas Southwestern Medical Center             US  \n",
       "1372                 University of the Incarnate Word             US  \n",
       "1375                        University of the Pacific             US  \n",
       "1462                              Westminster College             US  \n",
       "1507                                  Duke University             US  \n",
       "1615                       Glendale Community College             US  \n",
       "1769                                College of DuPage             US  \n",
       "1835                       Highland Community College             US  \n",
       "1900                      Middlesex Community College             US  \n",
       "1997                   Three Rivers Community College             US  \n",
       "2021                     Manchester Community College             US  \n",
       "2150                   Southeastern Community College             US  \n",
       "2152                   Southwestern Community College             US  \n",
       "2338                     Blue Ridge Community College             US  \n",
       "2419                                 Sheridan College             US  "
      ]
     },
     "execution_count": 18,
     "metadata": {},
     "output_type": "execute_result"
    }
   ],
   "source": [
    "# antes de borrar los duplicados podríamos extraerlos por si nos interesase guardarlos y no perder los datos de las webs que vamos a eliminar del dataframe limpio (nos quedamos solo con la primera)\n",
    "df_duplicados = df2[df2['name'].duplicated()]\n",
    "print(f'El dataframe de los duplicados a eliminar tiene {df_duplicados.shape[0]} filas y {df_duplicados.shape[1]} columnas y se muestra a continuación:')\n",
    "df_duplicados"
   ]
  },
  {
   "cell_type": "code",
   "execution_count": 19,
   "metadata": {},
   "outputs": [
    {
     "name": "stdout",
     "output_type": "stream",
     "text": [
      "El nuevo dataframe tiene 2507 filas y 5 columnas\n",
      "Comprobamos que el indice se ha reseteado:\n"
     ]
    },
    {
     "data": {
      "text/plain": [
       "RangeIndex(start=0, stop=2507, step=1)"
      ]
     },
     "execution_count": 19,
     "metadata": {},
     "output_type": "execute_result"
    }
   ],
   "source": [
    "# eliminamos los duplicados quedándonos con el primero en cada caso\n",
    "df2.drop_duplicates(subset=['name'], inplace=True, ignore_index=True)\n",
    "print(f'El nuevo dataframe tiene {df2.shape[0]} filas y {df2.shape[1]} columnas')\n",
    "print('Comprobamos que el indice se ha reseteado:')\n",
    "df2.index"
   ]
  },
  {
   "cell_type": "markdown",
   "metadata": {},
   "source": [
    "5. Si exploramos la columna de state_province veremos que hay universidades cuyo valor para esta columna es None. Cread una función para reemplazar los None por nulos de numpy."
   ]
  },
  {
   "cell_type": "code",
   "execution_count": 20,
   "metadata": {},
   "outputs": [
    {
     "data": {
      "text/plain": [
       "array(['Buenos Aires', 'Ciudad Autónoma de Buenos Aires', 'Entre Ríos',\n",
       "       'Salta', 'Córdoba', 'Mendoza', 'Santa Fé', None,\n",
       "       'Santiago Del Estero', 'Misiones', 'Catamarca', 'Formosa', 'Jujuy',\n",
       "       'La Rioja', 'La Pampa', 'San Juan', 'San Luis', 'Tucumán',\n",
       "       'Quebec', 'Ontario', 'Nova Scotia', 'British Columbia', 'Alberta',\n",
       "       'Manitoba', 'New Brunswick', 'Saskatchewan',\n",
       "       'Newfoundland and Labrador', 'Prince Edward Island', 'Yukon',\n",
       "       'Pennsylvania', 'NV', 'Iowa', 'VA', 'TX', 'Colorado', 'IN', 'CA',\n",
       "       'South Carolina', 'Washington', 'NY', 'Texas', 'ND', 'MI', 'Ohio',\n",
       "       'Florida', 'California', 'North Carolina', 'Michigan', 'GA',\n",
       "       'New York, NY'], dtype=object)"
      ]
     },
     "execution_count": 20,
     "metadata": {},
     "output_type": "execute_result"
    }
   ],
   "source": [
    "# comprobamos que como dice el enunciado tenemos None\n",
    "df2['state_province'].unique()"
   ]
  },
  {
   "cell_type": "code",
   "execution_count": 21,
   "metadata": {},
   "outputs": [
    {
     "data": {
      "text/plain": [
       "array(['Buenos Aires', 'Ciudad Autónoma de Buenos Aires', 'Entre Ríos',\n",
       "       'Salta', 'Córdoba', 'Mendoza', 'Santa Fé', nan,\n",
       "       'Santiago Del Estero', 'Misiones', 'Catamarca', 'Formosa', 'Jujuy',\n",
       "       'La Rioja', 'La Pampa', 'San Juan', 'San Luis', 'Tucumán',\n",
       "       'Quebec', 'Ontario', 'Nova Scotia', 'British Columbia', 'Alberta',\n",
       "       'Manitoba', 'New Brunswick', 'Saskatchewan',\n",
       "       'Newfoundland and Labrador', 'Prince Edward Island', 'Yukon',\n",
       "       'Pennsylvania', 'NV', 'Iowa', 'VA', 'TX', 'Colorado', 'IN', 'CA',\n",
       "       'South Carolina', 'Washington', 'NY', 'Texas', 'ND', 'MI', 'Ohio',\n",
       "       'Florida', 'California', 'North Carolina', 'Michigan', 'GA',\n",
       "       'New York, NY'], dtype=object)"
      ]
     },
     "execution_count": 21,
     "metadata": {},
     "output_type": "execute_result"
    }
   ],
   "source": [
    "# utilizamos el método .fillna para sustituir None por np.nan\n",
    "df2['state_province'].fillna(value=np.nan,  axis=None, inplace=True)\n",
    "df2['state_province'].unique()"
   ]
  },
  {
   "cell_type": "markdown",
   "metadata": {},
   "source": [
    "6. Después del último cambio, os habréis dado cuenta que tenemos muchos valores nulos dentro de la columna de state_province, por lo que nuestro jefe nos pide que reemplacemos esos nulos por \"Unknow\". No nos piden ningún método especifico, asi que podremos usar el método que queramos."
   ]
  },
  {
   "cell_type": "code",
   "execution_count": 22,
   "metadata": {},
   "outputs": [
    {
     "name": "stdout",
     "output_type": "stream",
     "text": [
      "La columna \"state_province\" tiene un 89.11 % de nulos\n"
     ]
    }
   ],
   "source": [
    "# aunque ya lo hemos visto en la exploración inicial recordamos\n",
    "print(f'La columna \"state_province\" tiene un {round((df2[\"state_province\"].isnull().sum() / df2.shape[0]) * 100, 2)} % de nulos')"
   ]
  },
  {
   "cell_type": "code",
   "execution_count": 23,
   "metadata": {},
   "outputs": [
    {
     "data": {
      "text/plain": [
       "Unknown    2234\n",
       "Name: state_province, dtype: int64"
      ]
     },
     "execution_count": 23,
     "metadata": {},
     "output_type": "execute_result"
    }
   ],
   "source": [
    "# los reemplazamos por 'Unknown'\n",
    "df2['state_province'].replace(np.nan, 'Unknown', inplace=True)\n",
    "df2['state_province'].value_counts()[:1] #comprobamos que se ha cambiado correctamente"
   ]
  },
  {
   "attachments": {},
   "cell_type": "markdown",
   "metadata": {},
   "source": [
    "7. Ahora nuestros jefes nos piden que saquemos las coordenadas de las provincias donde están ubicadas las universidades. Para eso nos piden que usemos la librería de geopy que aprendimos el día del repaso, [aquí](https://pypi.org/project/geopy/) la documentación. Para desarrollar este ejercicio deberéis:\n",
    "    - Sacar los valores únicos de la columna state_province.\n",
    "    - Algunos de los valores que tenemos están con siglas, y deberéis reemplazarlos por lo siguiente:\n",
    "        - NV: reemplazalo por Nevada\n",
    "        - TX: reemplazalo por Texas\n",
    "        - IN: reemplazalo por Indianapolis\n",
    "        - CA: reemplazalo por California\n",
    "        - VA: reemplazalo por Virginia\n",
    "        - NY: reemplazalo por New York\n",
    "        - MI: reemplazalo por Michigan\n",
    "        - GA: reemplazalo por Georgia\n",
    "        - ND: reemplazalo por North Dakota\n",
    "    - Otros valores que tenemos más formateados son y que deberemos reemplazar:\n",
    "        - New York, NY. Deberéis reemplazarlo por \"New York\".\n",
    "        - 'Buenos Aires', 'Ciudad Autónoma de Buenos Aires'. En este caso deberéis poner en ambos casos \"Buenos Aires\"\n",
    "    - Una vez realizados los pasos anteriores, crea una lista con los valores únicos de las provincias de las universidades.\n",
    "    - Usando la API de geopy, extraed la latitud y la longitud de cada una de las provincias y almacenad los resultados en un dataframe.\n",
    "    - Una vez que tengáis los datos del ejercicio anterior en un dataframe, unidlo con el de las universidades que hemos sacado de la API."
   ]
  },
  {
   "cell_type": "code",
   "execution_count": 24,
   "metadata": {},
   "outputs": [
    {
     "data": {
      "text/plain": [
       "array(['Buenos Aires', 'Ciudad Autónoma de Buenos Aires', 'Entre Ríos',\n",
       "       'Salta', 'Córdoba', 'Mendoza', 'Santa Fé', 'Unknown',\n",
       "       'Santiago Del Estero', 'Misiones', 'Catamarca', 'Formosa', 'Jujuy',\n",
       "       'La Rioja', 'La Pampa', 'San Juan', 'San Luis', 'Tucumán',\n",
       "       'Quebec', 'Ontario', 'Nova Scotia', 'British Columbia', 'Alberta',\n",
       "       'Manitoba', 'New Brunswick', 'Saskatchewan',\n",
       "       'Newfoundland and Labrador', 'Prince Edward Island', 'Yukon',\n",
       "       'Pennsylvania', 'NV', 'Iowa', 'VA', 'TX', 'Colorado', 'IN', 'CA',\n",
       "       'South Carolina', 'Washington', 'NY', 'Texas', 'ND', 'MI', 'Ohio',\n",
       "       'Florida', 'California', 'North Carolina', 'Michigan', 'GA',\n",
       "       'New York, NY'], dtype=object)"
      ]
     },
     "execution_count": 24,
     "metadata": {},
     "output_type": "execute_result"
    }
   ],
   "source": [
    "# obtenemos los valores únicos\n",
    "df2['state_province'].unique()"
   ]
  },
  {
   "cell_type": "code",
   "execution_count": 25,
   "metadata": {},
   "outputs": [
    {
     "data": {
      "text/plain": [
       "array(['Buenos Aires', 'Entre Ríos', 'Salta', 'Córdoba', 'Mendoza',\n",
       "       'Santa Fé', 'Unknown', 'Santiago Del Estero', 'Misiones',\n",
       "       'Catamarca', 'Formosa', 'Jujuy', 'La Rioja', 'La Pampa',\n",
       "       'San Juan', 'San Luis', 'Tucumán', 'Quebec', 'Ontario',\n",
       "       'Nova Scotia', 'British Columbia', 'Alberta', 'Manitoba',\n",
       "       'New Brunswick', 'Saskatchewan', 'Newfoundland and Labrador',\n",
       "       'Prince Edward Island', 'Yukon', 'Pennsylvania', 'Nevada', 'Iowa',\n",
       "       'Virginia', 'Texas', 'Colorado', 'Indianapolis', 'California',\n",
       "       'South Carolina', 'Washington', 'New York', 'North Dakota',\n",
       "       'Michigan', 'Ohio', 'Florida', 'North Carolina', 'Georgia'],\n",
       "      dtype=object)"
      ]
     },
     "execution_count": 25,
     "metadata": {},
     "output_type": "execute_result"
    }
   ],
   "source": [
    "# para reemplazar todos los valores a la vez utilizamos .replace() con un diccionario\n",
    "df2['state_province'] = df2['state_province'].replace(spv.sustituir_provincias)\n",
    "df2['state_province'].unique()"
   ]
  },
  {
   "cell_type": "code",
   "execution_count": 26,
   "metadata": {},
   "outputs": [
    {
     "data": {
      "text/plain": [
       "['Buenos Aires', 'Entre Ríos', 'Salta', 'Córdoba', 'Mendoza']"
      ]
     },
     "execution_count": 26,
     "metadata": {},
     "output_type": "execute_result"
    }
   ],
   "source": [
    "# creamos la lista de las provincias con los valores únicos\n",
    "provincias = df2['state_province'].unique().tolist()\n",
    "provincias[:5] # printeamos una muestra como comprobación"
   ]
  },
  {
   "cell_type": "code",
   "execution_count": 27,
   "metadata": {},
   "outputs": [
    {
     "name": "stdout",
     "output_type": "stream",
     "text": [
      "Nº de provincias: 45\n",
      "Eliminamos el elemento \"Unknown\"\n",
      "Nº de provincias: 44\n"
     ]
    }
   ],
   "source": [
    "print(f'Nº de provincias: {len(provincias)}')\n",
    "print('Eliminamos el elemento \"Unknown\"')\n",
    "provincias.remove('Unknown') # eliminamos este elemento para no solicitar sus coordenadas\n",
    "print(f'Nº de provincias: {len(provincias)}')"
   ]
  },
  {
   "cell_type": "code",
   "execution_count": 28,
   "metadata": {},
   "outputs": [
    {
     "data": {
      "text/html": [
       "<div>\n",
       "<style scoped>\n",
       "    .dataframe tbody tr th:only-of-type {\n",
       "        vertical-align: middle;\n",
       "    }\n",
       "\n",
       "    .dataframe tbody tr th {\n",
       "        vertical-align: top;\n",
       "    }\n",
       "\n",
       "    .dataframe thead th {\n",
       "        text-align: right;\n",
       "    }\n",
       "</style>\n",
       "<table border=\"1\" class=\"dataframe\">\n",
       "  <thead>\n",
       "    <tr style=\"text-align: right;\">\n",
       "      <th></th>\n",
       "      <th>state_province</th>\n",
       "      <th>latitude</th>\n",
       "      <th>longitude</th>\n",
       "    </tr>\n",
       "  </thead>\n",
       "  <tbody>\n",
       "    <tr>\n",
       "      <th>0</th>\n",
       "      <td>Buenos Aires</td>\n",
       "      <td>-34.607568</td>\n",
       "      <td>-58.437089</td>\n",
       "    </tr>\n",
       "    <tr>\n",
       "      <th>1</th>\n",
       "      <td>Entre Ríos</td>\n",
       "      <td>-31.625284</td>\n",
       "      <td>-59.353958</td>\n",
       "    </tr>\n",
       "    <tr>\n",
       "      <th>2</th>\n",
       "      <td>Salta</td>\n",
       "      <td>-25.107670</td>\n",
       "      <td>-64.349496</td>\n",
       "    </tr>\n",
       "    <tr>\n",
       "      <th>3</th>\n",
       "      <td>Córdoba</td>\n",
       "      <td>37.884581</td>\n",
       "      <td>-4.776014</td>\n",
       "    </tr>\n",
       "    <tr>\n",
       "      <th>4</th>\n",
       "      <td>Mendoza</td>\n",
       "      <td>-34.787093</td>\n",
       "      <td>-68.438187</td>\n",
       "    </tr>\n",
       "  </tbody>\n",
       "</table>\n",
       "</div>"
      ],
      "text/plain": [
       "  state_province   latitude  longitude\n",
       "0   Buenos Aires -34.607568 -58.437089\n",
       "1     Entre Ríos -31.625284 -59.353958\n",
       "2          Salta -25.107670 -64.349496\n",
       "3        Córdoba  37.884581  -4.776014\n",
       "4        Mendoza -34.787093 -68.438187"
      ]
     },
     "execution_count": 28,
     "metadata": {},
     "output_type": "execute_result"
    }
   ],
   "source": [
    "# usando la API de geopy obtenemos los datos\n",
    "df_geopy = pd.DataFrame(columns=['state_province', 'latitude', 'longitude'])\n",
    "for loc in provincias:\n",
    "    try:\n",
    "        geolocator = Nominatim(user_agent='Maitane') # inicializamos el geolocator\n",
    "        location = geolocator.geocode(loc) # solicitamos la localización\n",
    "        df = pd.DataFrame({'state_province': loc, 'latitude': location.latitude, 'longitude': location.longitude}, index=[0]) # obtenemos la latitud y longitud en un dataframe\n",
    "        df_geopy = pd.concat([df_geopy, df], axis=0, ignore_index=True)\n",
    "    except:\n",
    "        print(f'La provincia {loc} no ha podido ser localizada')\n",
    "df_geopy.head()"
   ]
  },
  {
   "cell_type": "code",
   "execution_count": 29,
   "metadata": {},
   "outputs": [
    {
     "name": "stdout",
     "output_type": "stream",
     "text": [
      "El dataframe general tiene 2507 filas y 5 columnas\n",
      "Comprobamos que el indice es contínuo:\n"
     ]
    },
    {
     "data": {
      "text/plain": [
       "RangeIndex(start=0, stop=2507, step=1)"
      ]
     },
     "execution_count": 29,
     "metadata": {},
     "output_type": "execute_result"
    }
   ],
   "source": [
    "# recordamos el dataframe que teníamos\n",
    "print(f'El dataframe general tiene {df2.shape[0]} filas y {df2.shape[1]} columnas')\n",
    "print('Comprobamos que el indice es contínuo:')\n",
    "df2.index"
   ]
  },
  {
   "cell_type": "code",
   "execution_count": 30,
   "metadata": {},
   "outputs": [
    {
     "name": "stdout",
     "output_type": "stream",
     "text": [
      "El dataframe de las coordenadas tiene 44 filas y 3 columnas\n",
      "Comprobamos que el indice es contínuo:\n"
     ]
    },
    {
     "data": {
      "text/plain": [
       "RangeIndex(start=0, stop=44, step=1)"
      ]
     },
     "execution_count": 30,
     "metadata": {},
     "output_type": "execute_result"
    }
   ],
   "source": [
    "# y el dataframe de las coordenadas tiene las sigueintes características\n",
    "print(f'El dataframe de las coordenadas tiene {df_geopy.shape[0]} filas y {df_geopy.shape[1]} columnas')\n",
    "print('Comprobamos que el indice es contínuo:')\n",
    "df_geopy.index"
   ]
  },
  {
   "cell_type": "code",
   "execution_count": 31,
   "metadata": {},
   "outputs": [
    {
     "data": {
      "text/html": [
       "<div>\n",
       "<style scoped>\n",
       "    .dataframe tbody tr th:only-of-type {\n",
       "        vertical-align: middle;\n",
       "    }\n",
       "\n",
       "    .dataframe tbody tr th {\n",
       "        vertical-align: top;\n",
       "    }\n",
       "\n",
       "    .dataframe thead th {\n",
       "        text-align: right;\n",
       "    }\n",
       "</style>\n",
       "<table border=\"1\" class=\"dataframe\">\n",
       "  <thead>\n",
       "    <tr style=\"text-align: right;\">\n",
       "      <th></th>\n",
       "      <th>country</th>\n",
       "      <th>state_province</th>\n",
       "      <th>web_pages</th>\n",
       "      <th>name</th>\n",
       "      <th>alpha_two_code</th>\n",
       "      <th>latitude</th>\n",
       "      <th>longitude</th>\n",
       "    </tr>\n",
       "  </thead>\n",
       "  <tbody>\n",
       "    <tr>\n",
       "      <th>0</th>\n",
       "      <td>Argentina</td>\n",
       "      <td>Buenos Aires</td>\n",
       "      <td>http://www.atlantida.edu.ar/</td>\n",
       "      <td>Universidad Atlantida Argentina</td>\n",
       "      <td>AR</td>\n",
       "      <td>-34.607568</td>\n",
       "      <td>-58.437089</td>\n",
       "    </tr>\n",
       "    <tr>\n",
       "      <th>1</th>\n",
       "      <td>Argentina</td>\n",
       "      <td>Buenos Aires</td>\n",
       "      <td>http://www.austral.edu.ar/</td>\n",
       "      <td>Universidad Austral Buenos Aires</td>\n",
       "      <td>AR</td>\n",
       "      <td>-34.607568</td>\n",
       "      <td>-58.437089</td>\n",
       "    </tr>\n",
       "    <tr>\n",
       "      <th>2</th>\n",
       "      <td>Argentina</td>\n",
       "      <td>Buenos Aires</td>\n",
       "      <td>http://www.caece.edu.ar/</td>\n",
       "      <td>Universidad CAECE, Buenos Aires</td>\n",
       "      <td>AR</td>\n",
       "      <td>-34.607568</td>\n",
       "      <td>-58.437089</td>\n",
       "    </tr>\n",
       "    <tr>\n",
       "      <th>3</th>\n",
       "      <td>Argentina</td>\n",
       "      <td>Buenos Aires</td>\n",
       "      <td>http://www.cema.edu.ar/</td>\n",
       "      <td>Instituto Universitario CEMA</td>\n",
       "      <td>AR</td>\n",
       "      <td>-34.607568</td>\n",
       "      <td>-58.437089</td>\n",
       "    </tr>\n",
       "    <tr>\n",
       "      <th>4</th>\n",
       "      <td>Argentina</td>\n",
       "      <td>Buenos Aires</td>\n",
       "      <td>http://www.iese.edu.ar/</td>\n",
       "      <td>Instituto de Enseñanza Superior del Ejército</td>\n",
       "      <td>AR</td>\n",
       "      <td>-34.607568</td>\n",
       "      <td>-58.437089</td>\n",
       "    </tr>\n",
       "  </tbody>\n",
       "</table>\n",
       "</div>"
      ],
      "text/plain": [
       "     country state_province                     web_pages  \\\n",
       "0  Argentina   Buenos Aires  http://www.atlantida.edu.ar/   \n",
       "1  Argentina   Buenos Aires    http://www.austral.edu.ar/   \n",
       "2  Argentina   Buenos Aires      http://www.caece.edu.ar/   \n",
       "3  Argentina   Buenos Aires       http://www.cema.edu.ar/   \n",
       "4  Argentina   Buenos Aires       http://www.iese.edu.ar/   \n",
       "\n",
       "                                           name alpha_two_code   latitude  \\\n",
       "0               Universidad Atlantida Argentina             AR -34.607568   \n",
       "1              Universidad Austral Buenos Aires             AR -34.607568   \n",
       "2               Universidad CAECE, Buenos Aires             AR -34.607568   \n",
       "3                  Instituto Universitario CEMA             AR -34.607568   \n",
       "4  Instituto de Enseñanza Superior del Ejército             AR -34.607568   \n",
       "\n",
       "   longitude  \n",
       "0 -58.437089  \n",
       "1 -58.437089  \n",
       "2 -58.437089  \n",
       "3 -58.437089  \n",
       "4 -58.437089  "
      ]
     },
     "execution_count": 31,
     "metadata": {},
     "output_type": "execute_result"
    }
   ],
   "source": [
    "# unimos ambos dataframes\n",
    "df2 = df2.merge(df_geopy, how='left', on='state_province').reset_index(drop=True)\n",
    "df2.head()"
   ]
  },
  {
   "cell_type": "code",
   "execution_count": 32,
   "metadata": {},
   "outputs": [
    {
     "name": "stdout",
     "output_type": "stream",
     "text": [
      "El dataframe completo tiene 2507 filas y 7 columnas\n",
      "Comprobamos que el indice es contínuo:\n"
     ]
    },
    {
     "data": {
      "text/plain": [
       "RangeIndex(start=0, stop=2507, step=1)"
      ]
     },
     "execution_count": 32,
     "metadata": {},
     "output_type": "execute_result"
    }
   ],
   "source": [
    "print(f'El dataframe completo tiene {df2.shape[0]} filas y {df2.shape[1]} columnas')\n",
    "print('Comprobamos que el indice es contínuo:')\n",
    "df2.index"
   ]
  },
  {
   "cell_type": "code",
   "execution_count": 33,
   "metadata": {},
   "outputs": [
    {
     "data": {
      "text/html": [
       "<div>\n",
       "<style scoped>\n",
       "    .dataframe tbody tr th:only-of-type {\n",
       "        vertical-align: middle;\n",
       "    }\n",
       "\n",
       "    .dataframe tbody tr th {\n",
       "        vertical-align: top;\n",
       "    }\n",
       "\n",
       "    .dataframe thead th {\n",
       "        text-align: right;\n",
       "    }\n",
       "</style>\n",
       "<table border=\"1\" class=\"dataframe\">\n",
       "  <thead>\n",
       "    <tr style=\"text-align: right;\">\n",
       "      <th></th>\n",
       "      <th>country</th>\n",
       "      <th>state_province</th>\n",
       "      <th>web_pages</th>\n",
       "      <th>name</th>\n",
       "      <th>alpha_two_code</th>\n",
       "      <th>latitude</th>\n",
       "      <th>longitude</th>\n",
       "    </tr>\n",
       "  </thead>\n",
       "  <tbody>\n",
       "    <tr>\n",
       "      <th>2086</th>\n",
       "      <td>United States</td>\n",
       "      <td>Unknown</td>\n",
       "      <td>http://www.cfcc.edu</td>\n",
       "      <td>Cape Fear Community College</td>\n",
       "      <td>US</td>\n",
       "      <td>NaN</td>\n",
       "      <td>NaN</td>\n",
       "    </tr>\n",
       "    <tr>\n",
       "      <th>2055</th>\n",
       "      <td>United States</td>\n",
       "      <td>Unknown</td>\n",
       "      <td>http://www.flcc.edu</td>\n",
       "      <td>Finger Lakes Community College</td>\n",
       "      <td>US</td>\n",
       "      <td>NaN</td>\n",
       "      <td>NaN</td>\n",
       "    </tr>\n",
       "    <tr>\n",
       "      <th>846</th>\n",
       "      <td>United States</td>\n",
       "      <td>Unknown</td>\n",
       "      <td>http://www.manc.edu/</td>\n",
       "      <td>Mid-America Nazarene College</td>\n",
       "      <td>US</td>\n",
       "      <td>NaN</td>\n",
       "      <td>NaN</td>\n",
       "    </tr>\n",
       "    <tr>\n",
       "      <th>1167</th>\n",
       "      <td>United States</td>\n",
       "      <td>Unknown</td>\n",
       "      <td>http://www.transy.edu/</td>\n",
       "      <td>Transylvania University</td>\n",
       "      <td>US</td>\n",
       "      <td>NaN</td>\n",
       "      <td>NaN</td>\n",
       "    </tr>\n",
       "    <tr>\n",
       "      <th>1874</th>\n",
       "      <td>United States</td>\n",
       "      <td>Unknown</td>\n",
       "      <td>http://www.capecod.edu</td>\n",
       "      <td>Cape Cod Community College</td>\n",
       "      <td>US</td>\n",
       "      <td>NaN</td>\n",
       "      <td>NaN</td>\n",
       "    </tr>\n",
       "  </tbody>\n",
       "</table>\n",
       "</div>"
      ],
      "text/plain": [
       "            country state_province               web_pages  \\\n",
       "2086  United States        Unknown     http://www.cfcc.edu   \n",
       "2055  United States        Unknown     http://www.flcc.edu   \n",
       "846   United States        Unknown    http://www.manc.edu/   \n",
       "1167  United States        Unknown  http://www.transy.edu/   \n",
       "1874  United States        Unknown  http://www.capecod.edu   \n",
       "\n",
       "                                name alpha_two_code  latitude  longitude  \n",
       "2086     Cape Fear Community College             US       NaN        NaN  \n",
       "2055  Finger Lakes Community College             US       NaN        NaN  \n",
       "846     Mid-America Nazarene College             US       NaN        NaN  \n",
       "1167         Transylvania University             US       NaN        NaN  \n",
       "1874      Cape Cod Community College             US       NaN        NaN  "
      ]
     },
     "execution_count": 33,
     "metadata": {},
     "output_type": "execute_result"
    }
   ],
   "source": [
    "# comprobamos que en los casos en los que la 'state_province' es 'Unknown' tenemos NaN en las columnas de latitid y longitud\n",
    "df2[df2['state_province'] == 'Unknown'].sample(5)"
   ]
  },
  {
   "attachments": {},
   "cell_type": "markdown",
   "metadata": {},
   "source": [
    "8. Crea una BBDD en mysql que contenga las siguientes tablas:  \n",
    "\n",
    "    ![imagen](../datos/8-bbdd.png)  \n",
    "    \n",
    "    - Tabla países: donde encontraremos las siguientes columnas:\n",
    "        - idestado: primary key, integer, autoincremental\n",
    "        - nombre_pais: varchar\n",
    "        - nombre_provincia: varchar\n",
    "        - latitud: decimal\n",
    "        - longitud: decimal\n",
    "    - Tabla universidades: donde encontraremos las siguientes columnas:\n",
    "        - iduniversidades: primary key, integer, autoincremental\n",
    "        - nombre_universidad: varchar\n",
    "        - pagina_web: varchar\n",
    "        - paises_idestado: foreing key"
   ]
  },
  {
   "cell_type": "code",
   "execution_count": 34,
   "metadata": {},
   "outputs": [
    {
     "name": "stdout",
     "output_type": "stream",
     "text": [
      "Conexión realizada con éxito\n",
      "CMySQLCursor: CREATE DATABASE IF NOT EXISTS bd_univers..\n"
     ]
    }
   ],
   "source": [
    "# creamos la base de datos\n",
    "mydb = mysql.connector.connect(\n",
    "  host='localhost',\n",
    "  user='root',\n",
    "  password='AlumnaAdalab')\n",
    "\n",
    "print('Conexión realizada con éxito')\n",
    "\n",
    "mycursor = mydb.cursor()\n",
    "\n",
    "try:\n",
    "    mycursor.execute(f'CREATE DATABASE IF NOT EXISTS bd_universidades;')\n",
    "    print(mycursor)\n",
    "except mysql.connector.Error as err:\n",
    "    print(err)\n",
    "    print('Error Code:', err.errno)\n",
    "    print('SQLSTATE', err.sqlstate)\n",
    "    print('Message', err.msg)"
   ]
  },
  {
   "cell_type": "code",
   "execution_count": 35,
   "metadata": {},
   "outputs": [],
   "source": [
    "# creamos la tabla de paises   \n",
    "cnx = mysql.connector.connect(user='root', password='AlumnaAdalab',\n",
    "                                    host='127.0.0.1', database='bd_universidades')\n",
    "\n",
    "mycursor = cnx.cursor()\n",
    "\n",
    "try: \n",
    "    mycursor.execute(spv.tabla_paises)\n",
    "    cnx.commit() \n",
    "\n",
    "except mysql.connector.Error as err:\n",
    "    print(err)\n",
    "    print(\"Error Code:\", err.errno)\n",
    "    print(\"SQLSTATE\", err.sqlstate)\n",
    "    print(\"Message\", err.msg)"
   ]
  },
  {
   "cell_type": "code",
   "execution_count": 36,
   "metadata": {},
   "outputs": [],
   "source": [
    "# creamos la tabla de universidades\n",
    "cnx = mysql.connector.connect(user='root', password='AlumnaAdalab',\n",
    "                                    host='127.0.0.1', database='bd_universidades')\n",
    "\n",
    "mycursor = cnx.cursor()\n",
    "\n",
    "try: \n",
    "    mycursor.execute(spv.tabla_universidades)\n",
    "    cnx.commit() \n",
    "\n",
    "except mysql.connector.Error as err:\n",
    "    print(err)\n",
    "    print('Error Code:', err.errno)\n",
    "    print('SQLSTATE', err.sqlstate)\n",
    "    print('Message', err.msg)"
   ]
  },
  {
   "attachments": {},
   "cell_type": "markdown",
   "metadata": {},
   "source": [
    "9. Introduce todo el código que habéis ido creando en funciones, siguiendo la misma lógica que hemos seguido en los pairs"
   ]
  },
  {
   "cell_type": "code",
   "execution_count": 37,
   "metadata": {},
   "outputs": [
    {
     "name": "stdout",
     "output_type": "stream",
     "text": [
      "Vamos a realizar la extracción para los siguientes paises: ['Argentina', 'Canada', 'United States']\n",
      "Status code extracción Argentina: 200\n",
      "Reason extracción Argentina: OK\n",
      "El resultado obtenido es una lista de diccionarios. Nº de elementos de la lista resultado: 87\n",
      "Las keys de cada diccionario son 6: dict_keys(['state-province', 'domains', 'name', 'country', 'web_pages', 'alpha_two_code'])\n",
      "Printeamos los dos primeros resultados descargados de la API a modo de ejemplo:\n"
     ]
    },
    {
     "data": {
      "text/plain": [
       "[{'state-province': 'Buenos Aires',\n",
       "  'domains': ['atlantida.edu.ar'],\n",
       "  'name': 'Universidad Atlantida Argentina',\n",
       "  'country': 'Argentina',\n",
       "  'web_pages': ['http://www.atlantida.edu.ar/'],\n",
       "  'alpha_two_code': 'AR'},\n",
       " {'state-province': 'Buenos Aires',\n",
       "  'domains': ['austral.edu.ar'],\n",
       "  'name': 'Universidad Austral Buenos Aires',\n",
       "  'country': 'Argentina',\n",
       "  'web_pages': ['http://www.austral.edu.ar/'],\n",
       "  'alpha_two_code': 'AR'}]"
      ]
     },
     "execution_count": 37,
     "metadata": {},
     "output_type": "execute_result"
    }
   ],
   "source": [
    "# A continuación repetimos el código completo como quedaría con las funciones para facilitar su lectura\n",
    "# los paises que nos interesan son:\n",
    "print(f'Vamos a realizar la extracción para los siguientes paises: {spv.paises}')\n",
    "# utilizamos una función para obtener los datos de Argentina a modo de ejemplo para explorar los resultados que tendremos para cada país\n",
    "argentina = spf.extraccion_json(spv.paises[0]) # devuelve el .json para explorarlo\n",
    "print('Printeamos los dos primeros resultados descargados de la API a modo de ejemplo:')\n",
    "argentina[0:2] # printeamos una muestra"
   ]
  },
  {
   "cell_type": "code",
   "execution_count": 38,
   "metadata": {},
   "outputs": [
    {
     "name": "stdout",
     "output_type": "stream",
     "text": [
      "Status code extracción Argentina: 200\n",
      "Reason extracción Argentina: OK\n",
      "Nº de elementos de la lista resultado de Argentina: 87\n",
      "Las keys de cada diccionario de Argentina son 6: dict_keys(['state-province', 'domains', 'name', 'country', 'web_pages', 'alpha_two_code'])\n",
      "Añadimos al dataframe resultado las 87 filas y 6 columnas de Argentina\n",
      "-------------------------------------\n",
      "Status code extracción Canada: 200\n",
      "Reason extracción Canada: OK\n",
      "Nº de elementos de la lista resultado de Canada: 154\n",
      "Las keys de cada diccionario de Canada son 6: dict_keys(['state-province', 'domains', 'name', 'country', 'web_pages', 'alpha_two_code'])\n",
      "Añadimos al dataframe resultado las 154 filas y 6 columnas de Canada\n",
      "-------------------------------------\n",
      "Status code extracción United States: 200\n",
      "Reason extracción United States: OK\n",
      "Nº de elementos de la lista resultado de United States: 2281\n",
      "Las keys de cada diccionario de United States son 6: dict_keys(['state-province', 'domains', 'name', 'country', 'web_pages', 'alpha_two_code'])\n",
      "Añadimos al dataframe resultado las 2281 filas y 6 columnas de United States\n",
      "-------------------------------------\n",
      "El dataframe resultado tiene 2522 filas y 6 columnas\n"
     ]
    }
   ],
   "source": [
    "# En este caso son solo tres paises pero por si fueran más podríamos automatizar la obtención de los datos, una vez conocida su estructura de la siguiente manera:\n",
    "df_f = pd.DataFrame()\n",
    "for pais in spv.paises:\n",
    "    df_f = spf.extraccion_api_df(pais, df_f) # llamamos a la función de extracción que devuelve el dataframe\n",
    "    print('-------------------------------------')\n",
    "print(f'El dataframe resultado tiene {df_f.shape[0]} filas y {df_f.shape[1]} columnas')"
   ]
  },
  {
   "cell_type": "code",
   "execution_count": 39,
   "metadata": {},
   "outputs": [
    {
     "name": "stdout",
     "output_type": "stream",
     "text": [
      "EXPLORACIÓN DEL DATAFRAME ARGENTINA-CANADA-USA\n",
      "---------------------------------------------------------------------------\n",
      "Las primeras 5 filas del dataframe Argentina-Canada-USA son:\n"
     ]
    },
    {
     "data": {
      "text/html": [
       "<div>\n",
       "<style scoped>\n",
       "    .dataframe tbody tr th:only-of-type {\n",
       "        vertical-align: middle;\n",
       "    }\n",
       "\n",
       "    .dataframe tbody tr th {\n",
       "        vertical-align: top;\n",
       "    }\n",
       "\n",
       "    .dataframe thead th {\n",
       "        text-align: right;\n",
       "    }\n",
       "</style>\n",
       "<table border=\"1\" class=\"dataframe\">\n",
       "  <thead>\n",
       "    <tr style=\"text-align: right;\">\n",
       "      <th></th>\n",
       "      <th>state-province</th>\n",
       "      <th>domains</th>\n",
       "      <th>name</th>\n",
       "      <th>country</th>\n",
       "      <th>web_pages</th>\n",
       "      <th>alpha_two_code</th>\n",
       "    </tr>\n",
       "  </thead>\n",
       "  <tbody>\n",
       "    <tr>\n",
       "      <th>0</th>\n",
       "      <td>Buenos Aires</td>\n",
       "      <td>[atlantida.edu.ar]</td>\n",
       "      <td>Universidad Atlantida Argentina</td>\n",
       "      <td>Argentina</td>\n",
       "      <td>[http://www.atlantida.edu.ar/]</td>\n",
       "      <td>AR</td>\n",
       "    </tr>\n",
       "    <tr>\n",
       "      <th>1</th>\n",
       "      <td>Buenos Aires</td>\n",
       "      <td>[austral.edu.ar]</td>\n",
       "      <td>Universidad Austral Buenos Aires</td>\n",
       "      <td>Argentina</td>\n",
       "      <td>[http://www.austral.edu.ar/]</td>\n",
       "      <td>AR</td>\n",
       "    </tr>\n",
       "    <tr>\n",
       "      <th>2</th>\n",
       "      <td>Ciudad Autónoma de Buenos Aires</td>\n",
       "      <td>[caece.edu.ar]</td>\n",
       "      <td>Universidad CAECE, Buenos Aires</td>\n",
       "      <td>Argentina</td>\n",
       "      <td>[http://www.caece.edu.ar/]</td>\n",
       "      <td>AR</td>\n",
       "    </tr>\n",
       "    <tr>\n",
       "      <th>3</th>\n",
       "      <td>Ciudad Autónoma de Buenos Aires</td>\n",
       "      <td>[cema.edu.ar]</td>\n",
       "      <td>Instituto Universitario CEMA</td>\n",
       "      <td>Argentina</td>\n",
       "      <td>[http://www.cema.edu.ar/]</td>\n",
       "      <td>AR</td>\n",
       "    </tr>\n",
       "    <tr>\n",
       "      <th>4</th>\n",
       "      <td>Ciudad Autónoma de Buenos Aires</td>\n",
       "      <td>[iese.edu.ar]</td>\n",
       "      <td>Instituto de Enseñanza Superior del Ejército</td>\n",
       "      <td>Argentina</td>\n",
       "      <td>[http://www.iese.edu.ar/]</td>\n",
       "      <td>AR</td>\n",
       "    </tr>\n",
       "  </tbody>\n",
       "</table>\n",
       "</div>"
      ],
      "text/plain": [
       "                    state-province             domains  \\\n",
       "0                     Buenos Aires  [atlantida.edu.ar]   \n",
       "1                     Buenos Aires    [austral.edu.ar]   \n",
       "2  Ciudad Autónoma de Buenos Aires      [caece.edu.ar]   \n",
       "3  Ciudad Autónoma de Buenos Aires       [cema.edu.ar]   \n",
       "4  Ciudad Autónoma de Buenos Aires       [iese.edu.ar]   \n",
       "\n",
       "                                           name    country  \\\n",
       "0               Universidad Atlantida Argentina  Argentina   \n",
       "1              Universidad Austral Buenos Aires  Argentina   \n",
       "2               Universidad CAECE, Buenos Aires  Argentina   \n",
       "3                  Instituto Universitario CEMA  Argentina   \n",
       "4  Instituto de Enseñanza Superior del Ejército  Argentina   \n",
       "\n",
       "                        web_pages alpha_two_code  \n",
       "0  [http://www.atlantida.edu.ar/]             AR  \n",
       "1    [http://www.austral.edu.ar/]             AR  \n",
       "2      [http://www.caece.edu.ar/]             AR  \n",
       "3       [http://www.cema.edu.ar/]             AR  \n",
       "4       [http://www.iese.edu.ar/]             AR  "
      ]
     },
     "metadata": {},
     "output_type": "display_data"
    },
    {
     "name": "stdout",
     "output_type": "stream",
     "text": [
      "---------------------------------------------------------------------------\n",
      "Las últimas 5 filas del dataframe Argentina-Canada-USA son:\n"
     ]
    },
    {
     "data": {
      "text/html": [
       "<div>\n",
       "<style scoped>\n",
       "    .dataframe tbody tr th:only-of-type {\n",
       "        vertical-align: middle;\n",
       "    }\n",
       "\n",
       "    .dataframe tbody tr th {\n",
       "        vertical-align: top;\n",
       "    }\n",
       "\n",
       "    .dataframe thead th {\n",
       "        text-align: right;\n",
       "    }\n",
       "</style>\n",
       "<table border=\"1\" class=\"dataframe\">\n",
       "  <thead>\n",
       "    <tr style=\"text-align: right;\">\n",
       "      <th></th>\n",
       "      <th>state-province</th>\n",
       "      <th>domains</th>\n",
       "      <th>name</th>\n",
       "      <th>country</th>\n",
       "      <th>web_pages</th>\n",
       "      <th>alpha_two_code</th>\n",
       "    </tr>\n",
       "  </thead>\n",
       "  <tbody>\n",
       "    <tr>\n",
       "      <th>2517</th>\n",
       "      <td>None</td>\n",
       "      <td>[vul.edu]</td>\n",
       "      <td>Virginia University of Lynchburg</td>\n",
       "      <td>United States</td>\n",
       "      <td>[https://www.vul.edu/]</td>\n",
       "      <td>US</td>\n",
       "    </tr>\n",
       "    <tr>\n",
       "      <th>2518</th>\n",
       "      <td>None</td>\n",
       "      <td>[voorhees.edu]</td>\n",
       "      <td>Voorhees University</td>\n",
       "      <td>United States</td>\n",
       "      <td>[https://www.voorhees.edu/]</td>\n",
       "      <td>US</td>\n",
       "    </tr>\n",
       "    <tr>\n",
       "      <th>2519</th>\n",
       "      <td>None</td>\n",
       "      <td>[wvstate.edu]</td>\n",
       "      <td>West Virginia State University</td>\n",
       "      <td>United States</td>\n",
       "      <td>[https://www.wvstateu.edu/]</td>\n",
       "      <td>US</td>\n",
       "    </tr>\n",
       "    <tr>\n",
       "      <th>2520</th>\n",
       "      <td>None</td>\n",
       "      <td>[wileyc.edu]</td>\n",
       "      <td>Wiley College</td>\n",
       "      <td>United States</td>\n",
       "      <td>[https://www.wileyc.edu/]</td>\n",
       "      <td>US</td>\n",
       "    </tr>\n",
       "    <tr>\n",
       "      <th>2521</th>\n",
       "      <td>None</td>\n",
       "      <td>[wssu.edu]</td>\n",
       "      <td>Winston-Salem State University</td>\n",
       "      <td>United States</td>\n",
       "      <td>[https://www.wssu.edu/]</td>\n",
       "      <td>US</td>\n",
       "    </tr>\n",
       "  </tbody>\n",
       "</table>\n",
       "</div>"
      ],
      "text/plain": [
       "     state-province         domains                              name  \\\n",
       "2517           None       [vul.edu]  Virginia University of Lynchburg   \n",
       "2518           None  [voorhees.edu]               Voorhees University   \n",
       "2519           None   [wvstate.edu]    West Virginia State University   \n",
       "2520           None    [wileyc.edu]                     Wiley College   \n",
       "2521           None      [wssu.edu]    Winston-Salem State University   \n",
       "\n",
       "            country                    web_pages alpha_two_code  \n",
       "2517  United States       [https://www.vul.edu/]             US  \n",
       "2518  United States  [https://www.voorhees.edu/]             US  \n",
       "2519  United States  [https://www.wvstateu.edu/]             US  \n",
       "2520  United States    [https://www.wileyc.edu/]             US  \n",
       "2521  United States      [https://www.wssu.edu/]             US  "
      ]
     },
     "metadata": {},
     "output_type": "display_data"
    },
    {
     "name": "stdout",
     "output_type": "stream",
     "text": [
      "---------------------------------------------------------------------------\n",
      "A comntinuación se muestran 10 filas aleatorias del dataframe Argentina-Canada-USA:\n"
     ]
    },
    {
     "data": {
      "text/html": [
       "<div>\n",
       "<style scoped>\n",
       "    .dataframe tbody tr th:only-of-type {\n",
       "        vertical-align: middle;\n",
       "    }\n",
       "\n",
       "    .dataframe tbody tr th {\n",
       "        vertical-align: top;\n",
       "    }\n",
       "\n",
       "    .dataframe thead th {\n",
       "        text-align: right;\n",
       "    }\n",
       "</style>\n",
       "<table border=\"1\" class=\"dataframe\">\n",
       "  <thead>\n",
       "    <tr style=\"text-align: right;\">\n",
       "      <th></th>\n",
       "      <th>state-province</th>\n",
       "      <th>domains</th>\n",
       "      <th>name</th>\n",
       "      <th>country</th>\n",
       "      <th>web_pages</th>\n",
       "      <th>alpha_two_code</th>\n",
       "    </tr>\n",
       "  </thead>\n",
       "  <tbody>\n",
       "    <tr>\n",
       "      <th>1273</th>\n",
       "      <td>None</td>\n",
       "      <td>[umassd.edu]</td>\n",
       "      <td>University of Massachusetts at Dartmouth</td>\n",
       "      <td>United States</td>\n",
       "      <td>[http://www.umassd.edu/]</td>\n",
       "      <td>US</td>\n",
       "    </tr>\n",
       "    <tr>\n",
       "      <th>258</th>\n",
       "      <td>None</td>\n",
       "      <td>[mountsaintvincent.edu]</td>\n",
       "      <td>College of Mount Saint Vincent</td>\n",
       "      <td>United States</td>\n",
       "      <td>[https://mountsaintvincent.edu/]</td>\n",
       "      <td>US</td>\n",
       "    </tr>\n",
       "    <tr>\n",
       "      <th>2054</th>\n",
       "      <td>None</td>\n",
       "      <td>[kbcc.cuny.edu]</td>\n",
       "      <td>CUNY Kingsborough Community College</td>\n",
       "      <td>United States</td>\n",
       "      <td>[http://www.kbcc.cuny.edu]</td>\n",
       "      <td>US</td>\n",
       "    </tr>\n",
       "    <tr>\n",
       "      <th>1323</th>\n",
       "      <td>None</td>\n",
       "      <td>[uri.edu]</td>\n",
       "      <td>University of Rhode Island</td>\n",
       "      <td>United States</td>\n",
       "      <td>[http://www.uri.edu/]</td>\n",
       "      <td>US</td>\n",
       "    </tr>\n",
       "    <tr>\n",
       "      <th>2199</th>\n",
       "      <td>None</td>\n",
       "      <td>[mhcc.edu]</td>\n",
       "      <td>Mt. Hood Community College</td>\n",
       "      <td>United States</td>\n",
       "      <td>[http://www.mhcc.edu]</td>\n",
       "      <td>US</td>\n",
       "    </tr>\n",
       "    <tr>\n",
       "      <th>348</th>\n",
       "      <td>None</td>\n",
       "      <td>[everest.edu]</td>\n",
       "      <td>Everest College</td>\n",
       "      <td>United States</td>\n",
       "      <td>[http://www.everest.edu/]</td>\n",
       "      <td>US</td>\n",
       "    </tr>\n",
       "    <tr>\n",
       "      <th>123</th>\n",
       "      <td>Quebec</td>\n",
       "      <td>[etsmtl.ca]</td>\n",
       "      <td>École de technologie supérieure, Université du...</td>\n",
       "      <td>Canada</td>\n",
       "      <td>[http://www.etsmtl.ca/]</td>\n",
       "      <td>CA</td>\n",
       "    </tr>\n",
       "    <tr>\n",
       "      <th>2300</th>\n",
       "      <td>None</td>\n",
       "      <td>[alamo.edu]</td>\n",
       "      <td>Palo Alto College</td>\n",
       "      <td>United States</td>\n",
       "      <td>[http://www.alamo.edu/pac/]</td>\n",
       "      <td>US</td>\n",
       "    </tr>\n",
       "    <tr>\n",
       "      <th>1459</th>\n",
       "      <td>None</td>\n",
       "      <td>[whitman.edu]</td>\n",
       "      <td>Whitman College</td>\n",
       "      <td>United States</td>\n",
       "      <td>[http://www.whitman.edu/]</td>\n",
       "      <td>US</td>\n",
       "    </tr>\n",
       "    <tr>\n",
       "      <th>2364</th>\n",
       "      <td>None</td>\n",
       "      <td>[skagit.edu]</td>\n",
       "      <td>Skagit Valley College</td>\n",
       "      <td>United States</td>\n",
       "      <td>[http://www.skagit.edu]</td>\n",
       "      <td>US</td>\n",
       "    </tr>\n",
       "  </tbody>\n",
       "</table>\n",
       "</div>"
      ],
      "text/plain": [
       "     state-province                  domains  \\\n",
       "1273           None             [umassd.edu]   \n",
       "258            None  [mountsaintvincent.edu]   \n",
       "2054           None          [kbcc.cuny.edu]   \n",
       "1323           None                [uri.edu]   \n",
       "2199           None               [mhcc.edu]   \n",
       "348            None            [everest.edu]   \n",
       "123          Quebec              [etsmtl.ca]   \n",
       "2300           None              [alamo.edu]   \n",
       "1459           None            [whitman.edu]   \n",
       "2364           None             [skagit.edu]   \n",
       "\n",
       "                                                   name        country  \\\n",
       "1273           University of Massachusetts at Dartmouth  United States   \n",
       "258                      College of Mount Saint Vincent  United States   \n",
       "2054                CUNY Kingsborough Community College  United States   \n",
       "1323                         University of Rhode Island  United States   \n",
       "2199                         Mt. Hood Community College  United States   \n",
       "348                                     Everest College  United States   \n",
       "123   École de technologie supérieure, Université du...         Canada   \n",
       "2300                                  Palo Alto College  United States   \n",
       "1459                                    Whitman College  United States   \n",
       "2364                              Skagit Valley College  United States   \n",
       "\n",
       "                             web_pages alpha_two_code  \n",
       "1273          [http://www.umassd.edu/]             US  \n",
       "258   [https://mountsaintvincent.edu/]             US  \n",
       "2054        [http://www.kbcc.cuny.edu]             US  \n",
       "1323             [http://www.uri.edu/]             US  \n",
       "2199             [http://www.mhcc.edu]             US  \n",
       "348          [http://www.everest.edu/]             US  \n",
       "123            [http://www.etsmtl.ca/]             CA  \n",
       "2300       [http://www.alamo.edu/pac/]             US  \n",
       "1459         [http://www.whitman.edu/]             US  \n",
       "2364           [http://www.skagit.edu]             US  "
      ]
     },
     "metadata": {},
     "output_type": "display_data"
    },
    {
     "name": "stdout",
     "output_type": "stream",
     "text": [
      "---------------------------------------------------------------------------\n",
      "El dataframe Argentina-Canada-USA tiene 2522 filas y 6 columnas\n",
      "---------------------------------------------------------------------------\n",
      "A continuación el resultado del método .info() incluyendo los tipos de dato de cada columna:\n",
      "<class 'pandas.core.frame.DataFrame'>\n",
      "RangeIndex: 2522 entries, 0 to 2521\n",
      "Data columns (total 6 columns):\n",
      " #   Column          Non-Null Count  Dtype \n",
      "---  ------          --------------  ----- \n",
      " 0   state-province  273 non-null    object\n",
      " 1   domains         2522 non-null   object\n",
      " 2   name            2522 non-null   object\n",
      " 3   country         2522 non-null   object\n",
      " 4   web_pages       2522 non-null   object\n",
      " 5   alpha_two_code  2522 non-null   object\n",
      "dtypes: object(6)\n",
      "memory usage: 118.3+ KB\n",
      "---------------------------------------------------------------------------\n",
      "El número de nulos por columna en valor absoluto y porcentaje es:\n",
      "state-province: nº de nulos: 2249. % de nulos: 89.18 %\n",
      "domains: nº de nulos: 0. % de nulos: 0.0 %\n",
      "name: nº de nulos: 0. % de nulos: 0.0 %\n",
      "country: nº de nulos: 0. % de nulos: 0.0 %\n",
      "web_pages: nº de nulos: 0. % de nulos: 0.0 %\n",
      "alpha_two_code: nº de nulos: 0. % de nulos: 0.0 %\n",
      "---------------------------------------------------------------------------\n",
      "Ha ocurrido un error. No se ha podido comprobar si el dataframe Argentina-Canada-USA tiene filas duplicdas\n",
      "---------------------------------------------------------------------------\n",
      "---------------------------------------------------------------------------\n",
      "Los principales estadísticos de las columnas categóricas son:\n"
     ]
    },
    {
     "data": {
      "text/html": [
       "<div>\n",
       "<style scoped>\n",
       "    .dataframe tbody tr th:only-of-type {\n",
       "        vertical-align: middle;\n",
       "    }\n",
       "\n",
       "    .dataframe tbody tr th {\n",
       "        vertical-align: top;\n",
       "    }\n",
       "\n",
       "    .dataframe thead th {\n",
       "        text-align: right;\n",
       "    }\n",
       "</style>\n",
       "<table border=\"1\" class=\"dataframe\">\n",
       "  <thead>\n",
       "    <tr style=\"text-align: right;\">\n",
       "      <th></th>\n",
       "      <th>count</th>\n",
       "      <th>unique</th>\n",
       "      <th>top</th>\n",
       "      <th>freq</th>\n",
       "    </tr>\n",
       "  </thead>\n",
       "  <tbody>\n",
       "    <tr>\n",
       "      <th>state-province</th>\n",
       "      <td>273</td>\n",
       "      <td>49</td>\n",
       "      <td>Ontario</td>\n",
       "      <td>46</td>\n",
       "    </tr>\n",
       "    <tr>\n",
       "      <th>domains</th>\n",
       "      <td>2522</td>\n",
       "      <td>2491</td>\n",
       "      <td>[ccc.edu]</td>\n",
       "      <td>7</td>\n",
       "    </tr>\n",
       "    <tr>\n",
       "      <th>name</th>\n",
       "      <td>2522</td>\n",
       "      <td>2507</td>\n",
       "      <td>Southeastern Community College</td>\n",
       "      <td>2</td>\n",
       "    </tr>\n",
       "    <tr>\n",
       "      <th>country</th>\n",
       "      <td>2522</td>\n",
       "      <td>3</td>\n",
       "      <td>United States</td>\n",
       "      <td>2281</td>\n",
       "    </tr>\n",
       "    <tr>\n",
       "      <th>web_pages</th>\n",
       "      <td>2522</td>\n",
       "      <td>2519</td>\n",
       "      <td>[http://www.coastalpines.edu/]</td>\n",
       "      <td>2</td>\n",
       "    </tr>\n",
       "    <tr>\n",
       "      <th>alpha_two_code</th>\n",
       "      <td>2522</td>\n",
       "      <td>3</td>\n",
       "      <td>US</td>\n",
       "      <td>2281</td>\n",
       "    </tr>\n",
       "  </tbody>\n",
       "</table>\n",
       "</div>"
      ],
      "text/plain": [
       "               count unique                             top  freq\n",
       "state-province   273     49                         Ontario    46\n",
       "domains         2522   2491                       [ccc.edu]     7\n",
       "name            2522   2507  Southeastern Community College     2\n",
       "country         2522      3                   United States  2281\n",
       "web_pages       2522   2519  [http://www.coastalpines.edu/]     2\n",
       "alpha_two_code  2522      3                              US  2281"
      ]
     },
     "metadata": {},
     "output_type": "display_data"
    },
    {
     "name": "stdout",
     "output_type": "stream",
     "text": [
      "---------------------------------------------------------------------------\n",
      "El dataframe Argentina-Canada-USA tiene las siguientes columnas: \n",
      "Index(['state-province', 'domains', 'name', 'country', 'web_pages',\n",
      "       'alpha_two_code'],\n",
      "      dtype='object')\n",
      "---------------------------------------------------------------------------\n",
      "El numero de valores distintos de cada columna es:\n",
      "state-province: 49\n",
      "domains: 2491\n",
      "name: 2507\n",
      "country: 3\n",
      "Los valores únicos de la columna \"country\" son: ['Argentina' 'Canada' 'United States']\n",
      "web_pages: 2519\n",
      "alpha_two_code: 3\n",
      "Los valores únicos de la columna \"alpha_two_code\" son: ['AR' 'CA' 'US']\n"
     ]
    }
   ],
   "source": [
    "# Antes de continuar realizamos una pequeña exploración del dataframe con la siguiente función, la cual la tenemos en la biblioteca_funciones.py\n",
    "spf.explorar_df(df_f, nombre = 'Argentina-Canada-USA')"
   ]
  },
  {
   "cell_type": "code",
   "execution_count": 40,
   "metadata": {},
   "outputs": [
    {
     "data": {
      "text/html": [
       "<div>\n",
       "<style scoped>\n",
       "    .dataframe tbody tr th:only-of-type {\n",
       "        vertical-align: middle;\n",
       "    }\n",
       "\n",
       "    .dataframe tbody tr th {\n",
       "        vertical-align: top;\n",
       "    }\n",
       "\n",
       "    .dataframe thead th {\n",
       "        text-align: right;\n",
       "    }\n",
       "</style>\n",
       "<table border=\"1\" class=\"dataframe\">\n",
       "  <thead>\n",
       "    <tr style=\"text-align: right;\">\n",
       "      <th></th>\n",
       "      <th>state-province</th>\n",
       "      <th>domains</th>\n",
       "      <th>name</th>\n",
       "      <th>country</th>\n",
       "      <th>web_pages</th>\n",
       "      <th>alpha_two_code</th>\n",
       "    </tr>\n",
       "  </thead>\n",
       "  <tbody>\n",
       "    <tr>\n",
       "      <th>1579</th>\n",
       "      <td>None</td>\n",
       "      <td>[cos.edu]</td>\n",
       "      <td>College of the Sequoias</td>\n",
       "      <td>United States</td>\n",
       "      <td>[http://www.cos.edu]</td>\n",
       "      <td>US</td>\n",
       "    </tr>\n",
       "  </tbody>\n",
       "</table>\n",
       "</div>"
      ],
      "text/plain": [
       "     state-province    domains                     name        country  \\\n",
       "1579           None  [cos.edu]  College of the Sequoias  United States   \n",
       "\n",
       "                 web_pages alpha_two_code  \n",
       "1579  [http://www.cos.edu]             US  "
      ]
     },
     "execution_count": 40,
     "metadata": {},
     "output_type": "execute_result"
    }
   ],
   "source": [
    "# antes de continuar realizamos una copia del dataframe original para realizar la limpieza sobre él\n",
    "df2_f = df_f.copy()\n",
    "df2_f.sample()"
   ]
  },
  {
   "cell_type": "code",
   "execution_count": 41,
   "metadata": {},
   "outputs": [
    {
     "name": "stdout",
     "output_type": "stream",
     "text": [
      "Columnas homogeneizadas y ordenadas correctamente\n",
      "Columnas redundante \"domains\" eliminada.\n",
      "Se han separado los datos de la columna \"web_pages\". El nuevo dataframe tiene 2535 filas y 5 columnas\n",
      "Índice reseteado correctamente.\n",
      "Si filtramos por la columna \"name\" tenemos 28 duplicados\n",
      "Duplicados eliminados. El nuevo dataframe tiene 2507 filas y 5 columnas\n",
      "La columna \"state_province\" tiene un 89.11 % de nulos. Procedemos a reemplazarlos por \"Unknown\".\n",
      "Valores de la columna \"state_province\" homogeneizados\n",
      "Latitud y longitud de las provincias obtenidas\n",
      "Se han inluido la latitud y longitud en el dataframe original. El dataframe completo tiene 2507 filas y 7 columnas\n",
      "A continuación se muestra su indice para comprobar que es contínuo: RangeIndex(start=0, stop=2507, step=1)\n"
     ]
    },
    {
     "data": {
      "text/html": [
       "<div>\n",
       "<style scoped>\n",
       "    .dataframe tbody tr th:only-of-type {\n",
       "        vertical-align: middle;\n",
       "    }\n",
       "\n",
       "    .dataframe tbody tr th {\n",
       "        vertical-align: top;\n",
       "    }\n",
       "\n",
       "    .dataframe thead th {\n",
       "        text-align: right;\n",
       "    }\n",
       "</style>\n",
       "<table border=\"1\" class=\"dataframe\">\n",
       "  <thead>\n",
       "    <tr style=\"text-align: right;\">\n",
       "      <th></th>\n",
       "      <th>country</th>\n",
       "      <th>state_province</th>\n",
       "      <th>web_pages</th>\n",
       "      <th>name</th>\n",
       "      <th>alpha_two_code</th>\n",
       "      <th>latitude</th>\n",
       "      <th>longitude</th>\n",
       "    </tr>\n",
       "  </thead>\n",
       "  <tbody>\n",
       "    <tr>\n",
       "      <th>862</th>\n",
       "      <td>United States</td>\n",
       "      <td>Unknown</td>\n",
       "      <td>http://www.muw.edu/</td>\n",
       "      <td>Mississippi University for Women</td>\n",
       "      <td>US</td>\n",
       "      <td>NaN</td>\n",
       "      <td>NaN</td>\n",
       "    </tr>\n",
       "  </tbody>\n",
       "</table>\n",
       "</div>"
      ],
      "text/plain": [
       "           country state_province            web_pages  \\\n",
       "862  United States        Unknown  http://www.muw.edu/   \n",
       "\n",
       "                                 name alpha_two_code  latitude  longitude  \n",
       "862  Mississippi University for Women             US       NaN        NaN  "
      ]
     },
     "execution_count": 41,
     "metadata": {},
     "output_type": "execute_result"
    }
   ],
   "source": [
    "df2_f = spf.limpieza(df2_f)\n",
    "df2_f.sample()"
   ]
  },
  {
   "cell_type": "code",
   "execution_count": 42,
   "metadata": {},
   "outputs": [
    {
     "data": {
      "text/html": [
       "<div>\n",
       "<style scoped>\n",
       "    .dataframe tbody tr th:only-of-type {\n",
       "        vertical-align: middle;\n",
       "    }\n",
       "\n",
       "    .dataframe tbody tr th {\n",
       "        vertical-align: top;\n",
       "    }\n",
       "\n",
       "    .dataframe thead th {\n",
       "        text-align: right;\n",
       "    }\n",
       "</style>\n",
       "<table border=\"1\" class=\"dataframe\">\n",
       "  <thead>\n",
       "    <tr style=\"text-align: right;\">\n",
       "      <th></th>\n",
       "      <th>country</th>\n",
       "      <th>state_province</th>\n",
       "      <th>web_pages</th>\n",
       "      <th>name</th>\n",
       "      <th>alpha_two_code</th>\n",
       "      <th>latitude</th>\n",
       "      <th>longitude</th>\n",
       "    </tr>\n",
       "  </thead>\n",
       "  <tbody>\n",
       "    <tr>\n",
       "      <th>448</th>\n",
       "      <td>United States</td>\n",
       "      <td>Unknown</td>\n",
       "      <td>http://www.bradley.edu/</td>\n",
       "      <td>Bradley University</td>\n",
       "      <td>US</td>\n",
       "      <td>NaN</td>\n",
       "      <td>NaN</td>\n",
       "    </tr>\n",
       "    <tr>\n",
       "      <th>1986</th>\n",
       "      <td>United States</td>\n",
       "      <td>Unknown</td>\n",
       "      <td>http://www.stonechild.edu</td>\n",
       "      <td>Stone Child College</td>\n",
       "      <td>US</td>\n",
       "      <td>NaN</td>\n",
       "      <td>NaN</td>\n",
       "    </tr>\n",
       "    <tr>\n",
       "      <th>1642</th>\n",
       "      <td>United States</td>\n",
       "      <td>Unknown</td>\n",
       "      <td>http://www.sdcity.edu/</td>\n",
       "      <td>San Diego City College</td>\n",
       "      <td>US</td>\n",
       "      <td>NaN</td>\n",
       "      <td>NaN</td>\n",
       "    </tr>\n",
       "    <tr>\n",
       "      <th>2305</th>\n",
       "      <td>United States</td>\n",
       "      <td>Unknown</td>\n",
       "      <td>http://www.victoriacollege.edu</td>\n",
       "      <td>Victoria College</td>\n",
       "      <td>US</td>\n",
       "      <td>NaN</td>\n",
       "      <td>NaN</td>\n",
       "    </tr>\n",
       "    <tr>\n",
       "      <th>2323</th>\n",
       "      <td>United States</td>\n",
       "      <td>Unknown</td>\n",
       "      <td>http://www.patrickhenry.edu</td>\n",
       "      <td>Patrick Henry Community College</td>\n",
       "      <td>US</td>\n",
       "      <td>NaN</td>\n",
       "      <td>NaN</td>\n",
       "    </tr>\n",
       "  </tbody>\n",
       "</table>\n",
       "</div>"
      ],
      "text/plain": [
       "            country state_province                       web_pages  \\\n",
       "448   United States        Unknown         http://www.bradley.edu/   \n",
       "1986  United States        Unknown       http://www.stonechild.edu   \n",
       "1642  United States        Unknown          http://www.sdcity.edu/   \n",
       "2305  United States        Unknown  http://www.victoriacollege.edu   \n",
       "2323  United States        Unknown     http://www.patrickhenry.edu   \n",
       "\n",
       "                                 name alpha_two_code  latitude  longitude  \n",
       "448                Bradley University             US       NaN        NaN  \n",
       "1986              Stone Child College             US       NaN        NaN  \n",
       "1642           San Diego City College             US       NaN        NaN  \n",
       "2305                 Victoria College             US       NaN        NaN  \n",
       "2323  Patrick Henry Community College             US       NaN        NaN  "
      ]
     },
     "execution_count": 42,
     "metadata": {},
     "output_type": "execute_result"
    }
   ],
   "source": [
    "# comprobamos que en los casos en los que la 'state_province' es 'Unknown' tenemos NaN en las columnas de latitid y longitud\n",
    "df2_f[df2_f['state_province'] == 'Unknown'].sample(5)"
   ]
  },
  {
   "cell_type": "code",
   "execution_count": 43,
   "metadata": {},
   "outputs": [
    {
     "name": "stdout",
     "output_type": "stream",
     "text": [
      "Conexión realizada con éxito\n",
      "CMySQLCursor: CREATE DATABASE IF NOT EXISTS bd_univers..\n"
     ]
    }
   ],
   "source": [
    "# creamos la base de datos\n",
    "spf.crear_bbdd(spv.acceso_sql, 'bd_universidades')"
   ]
  },
  {
   "cell_type": "code",
   "execution_count": 44,
   "metadata": {},
   "outputs": [],
   "source": [
    "# creamos la tabla de paises\n",
    "spf.crear_insertar_tabla2(spv.acceso_bbdd, spv.tabla_paises)"
   ]
  },
  {
   "cell_type": "code",
   "execution_count": 45,
   "metadata": {},
   "outputs": [],
   "source": [
    "# creamos la tabla de universidades\n",
    "spf.crear_insertar_tabla2(spv.acceso_bbdd, spv.tabla_universidades)"
   ]
  },
  {
   "attachments": {},
   "cell_type": "markdown",
   "metadata": {},
   "source": [
    "10. BONUS  \n",
    "- Introduce los datos en la BBDD de SQL.\n",
    "    "
   ]
  },
  {
   "attachments": {},
   "cell_type": "markdown",
   "metadata": {},
   "source": [
    "- BONUS. Crea una clase con todo el código generado en esta evaluación."
   ]
  },
  {
   "cell_type": "code",
   "execution_count": 46,
   "metadata": {},
   "outputs": [],
   "source": [
    "# carga = Bbdd_sql('energia', 'AlumnaAdalab')\n",
    "# carga"
   ]
  }
 ],
 "metadata": {
  "kernelspec": {
   "display_name": "adalabenv",
   "language": "python",
   "name": "python3"
  },
  "language_info": {
   "codemirror_mode": {
    "name": "ipython",
    "version": 3
   },
   "file_extension": ".py",
   "mimetype": "text/x-python",
   "name": "python",
   "nbconvert_exporter": "python",
   "pygments_lexer": "ipython3",
   "version": "3.10.7"
  },
  "orig_nbformat": 4
 },
 "nbformat": 4,
 "nbformat_minor": 2
}
